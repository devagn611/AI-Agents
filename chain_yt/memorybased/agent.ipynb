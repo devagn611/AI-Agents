{
 "cells": [
  {
   "cell_type": "code",
   "execution_count": 45,
   "metadata": {},
   "outputs": [],
   "source": [
    "from langchain_community.llms import Ollama\n",
    "from langchain.vectorstores import Chroma\n",
    "from langchain.embeddings import OllamaEmbeddings\n",
    "from langchain.chains import RetrievalQA\n",
    "from langchain.prompts import PromptTemplate\n",
    "from langchain.memory import ConversationBufferMemory\n",
    "from langchain.llms import Ollama\n",
    "\n",
    "llm=Ollama(model=\"llama3.2:1b\")\n"
   ]
  },
  {
   "cell_type": "code",
   "execution_count": 46,
   "metadata": {},
   "outputs": [],
   "source": [
    "from langchain.document_loaders import PyPDFLoader\n",
    "loaders = [\n",
    "    # Duplicate documents on purpose - messy data\n",
    "    PyPDFLoader(\"us_census/acsbr-015.pdf\"),\n",
    "    PyPDFLoader(\"us_census/acsbr-016.pdf\"),\n",
    "    PyPDFLoader(\"us_census/acsbr-017.pdf\"),\n",
    "    PyPDFLoader(\"us_census/p70-178.pdf\"),\n",
    "]\n",
    "docs = []\n",
    "for loader in loaders:\n",
    "    docs.extend(loader.load())"
   ]
  },
  {
   "cell_type": "code",
   "execution_count": 47,
   "metadata": {},
   "outputs": [],
   "source": [
    "from langchain.text_splitter import RecursiveCharacterTextSplitter\n",
    "text_splitter = RecursiveCharacterTextSplitter(\n",
    "    chunk_size = 1500,\n",
    "    chunk_overlap = 150\n",
    ")"
   ]
  },
  {
   "cell_type": "code",
   "execution_count": 48,
   "metadata": {},
   "outputs": [],
   "source": [
    "splits=text_splitter.split_documents(docs)"
   ]
  },
  {
   "cell_type": "code",
   "execution_count": 49,
   "metadata": {},
   "outputs": [
    {
     "data": {
      "text/plain": [
       "201"
      ]
     },
     "execution_count": 49,
     "metadata": {},
     "output_type": "execute_result"
    }
   ],
   "source": [
    "len(splits) # 4 splits"
   ]
  },
  {
   "cell_type": "code",
   "execution_count": 50,
   "metadata": {},
   "outputs": [],
   "source": [
    "persist_directory = 'docs/chroma/'\n",
    "embedding= OllamaEmbeddings(model=\"llama3.2:1b\")\n",
    "vectordb = Chroma.from_documents(documents=splits[:3],persist_directory=persist_directory, embedding=embedding)"
   ]
  },
  {
   "cell_type": "code",
   "execution_count": 51,
   "metadata": {},
   "outputs": [
    {
     "name": "stdout",
     "output_type": "stream",
     "text": [
      "4\n"
     ]
    }
   ],
   "source": [
    "print(vectordb._collection.count())"
   ]
  },
  {
   "cell_type": "code",
   "execution_count": 52,
   "metadata": {},
   "outputs": [],
   "source": [
    "question = \"is there an email i can ask for help\""
   ]
  },
  {
   "cell_type": "code",
   "execution_count": 53,
   "metadata": {},
   "outputs": [
    {
     "name": "stdout",
     "output_type": "stream",
     "text": [
      "employment from 2021 to 2022. More information is available at \n",
      "<www.bls.gov/opub/mlr/2023/article/unemployment-rate-returned-\n",
      "to-its-prepandemic-level-in-2022.htm>.\n",
      "2 Juliette Cubanski et al., “What Happens When COVID-19 \n",
      "Emergency Declarations End? Implications for Coverage, Costs, and \n",
      "Access?,” Kaiser Family Foundation, 2023, <www.kff.org/coronavirus-\n",
      "covid-19/issue-brief/what-happens-when-covid-19-emergency-\n",
      "declarations-end-implications-for-coverage-costs-and-access/>.\n",
      "3 For more information, refer to the American Rescue Plan Act, \n",
      "P.L. 117-2, March 11, 2021, <www.congress.gov/bill/117th-congress/\n",
      "house-bill/1319/text>.\n",
      "of the Midwest.4, 5 Kentucky, Maine, and New Mexico \n",
      "created state-based health insurance marketplaces on \n",
      "November 1, 2021, to replace their previously federally \n",
      "run exchanges.6 State and federal policies designed to \n",
      "increase public coverage may also affect the supply \n",
      "and demand for private coverage. As a result, a variety \n",
      "of changes in coverage rates are possible. \n",
      "This brief uses the 2021 and 2022 American \n",
      "Community Survey (ACS) 1-year estimates to exam-\n",
      "ine differences in health insurance coverage status \n",
      "and select subtypes (Medicaid, direct purchase, \n",
      "and employer-based) for the 50 states, the District \n",
      "of Columbia, and the 25 most populous metro-\n",
      "politan areas (refer to the “What Is Health Insurance \n",
      "Coverage?” text box).7 It also examines year-to-year \n",
      "changes (2021 to 2022) across these geographies.\n"
     ]
    }
   ],
   "source": [
    "docs = vectordb.similarity_search(question)\n",
    "print(docs[0].page_content)"
   ]
  },
  {
   "cell_type": "code",
   "execution_count": 54,
   "metadata": {},
   "outputs": [
    {
     "data": {
      "text/plain": [
       "RetrievalQA(verbose=False, combine_documents_chain=StuffDocumentsChain(verbose=False, llm_chain=LLMChain(verbose=False, prompt=PromptTemplate(input_variables=['context', 'question'], input_types={}, partial_variables={}, template=\"Use the following pieces of context to answer the question at the end. If you don't know the answer, just say that you don't know, don't try to make up an answer.\\n\\n{context}\\n\\nQuestion: {question}\\nHelpful Answer:\"), llm=Ollama(model='llama3.2:1b'), output_parser=StrOutputParser(), llm_kwargs={}), document_prompt=PromptTemplate(input_variables=['page_content'], input_types={}, partial_variables={}, template='{page_content}'), document_variable_name='context'), retriever=VectorStoreRetriever(tags=['Chroma', 'OllamaEmbeddings'], vectorstore=<langchain_community.vectorstores.chroma.Chroma object at 0x7c7ed8040550>, search_kwargs={}))"
      ]
     },
     "execution_count": 54,
     "metadata": {},
     "output_type": "execute_result"
    }
   ],
   "source": [
    "from langchain.chains import RetrievalQA\n",
    "\n",
    "qa_chain = RetrievalQA.from_chain_type(\n",
    "    llm,\n",
    "    retriever=vectordb.as_retriever()\n",
    ")\n",
    "\n",
    "qa_chain"
   ]
  },
  {
   "cell_type": "code",
   "execution_count": 55,
   "metadata": {},
   "outputs": [],
   "source": [
    "from langchain.prompts import PromptTemplate\n",
    "\n",
    "# Build prompt\n",
    "template = \"\"\"Use the following pieces of context to answer the question at the end. If you don't know the answer, just say that you don't know, \n",
    "don't try to make up an answer. Use three sentences maximum. Keep the answer as concise as possible. Always say \"thanks for asking!\" at the end of the answer. \n",
    "{context}\n",
    "Question: {question}\n",
    "Helpful Answer:\"\"\"\n",
    "QA_CHAIN_PROMPT = PromptTemplate.from_template(template)"
   ]
  },
  {
   "cell_type": "code",
   "execution_count": 56,
   "metadata": {},
   "outputs": [],
   "source": [
    "qa_chain = RetrievalQA.from_chain_type(\n",
    "    llm,\n",
    "    retriever=vectordb.as_retriever(),\n",
    "    return_source_documents=True,\n",
    "    chain_type_kwargs={\"prompt\": QA_CHAIN_PROMPT}\n",
    ")"
   ]
  },
  {
   "cell_type": "code",
   "execution_count": 57,
   "metadata": {},
   "outputs": [],
   "source": [
    "question = \"US Data for 2022?\""
   ]
  },
  {
   "cell_type": "code",
   "execution_count": 58,
   "metadata": {},
   "outputs": [],
   "source": [
    "result = qa_chain({\"query\": question})"
   ]
  },
  {
   "cell_type": "code",
   "execution_count": 59,
   "metadata": {},
   "outputs": [
    {
     "data": {
      "text/plain": [
       "'Thanks for asking! Based on the context provided, it appears that the US employment rate returned to its pre-pandemic level in 2022.'"
      ]
     },
     "execution_count": 59,
     "metadata": {},
     "output_type": "execute_result"
    }
   ],
   "source": [
    "result[\"result\"]"
   ]
  },
  {
   "cell_type": "code",
   "execution_count": 60,
   "metadata": {},
   "outputs": [
    {
     "data": {
      "text/plain": [
       "Document(metadata={'author': 'U.S. Census Bureau', 'creationdate': '2023-09-09T07:52:17-04:00', 'creator': 'Adobe InDesign 18.2 (Windows)', 'keywords': 'acsbr-015', 'moddate': '2023-09-12T14:44:47+01:00', 'page': 0, 'page_label': '1', 'producer': 'Adobe PDF Library 17.0', 'source': 'us_census/acsbr-015.pdf', 'title': 'Health Insurance Coverage Status and Type by Geography: 2021 and 2022', 'total_pages': 18, 'trapped': '/false'}, page_content='employment from 2021 to 2022. More information is available at \\n<www.bls.gov/opub/mlr/2023/article/unemployment-rate-returned-\\nto-its-prepandemic-level-in-2022.htm>.\\n2 Juliette Cubanski et al., “What Happens When COVID-19 \\nEmergency Declarations End? Implications for Coverage, Costs, and \\nAccess?,” Kaiser Family Foundation, 2023, <www.kff.org/coronavirus-\\ncovid-19/issue-brief/what-happens-when-covid-19-emergency-\\ndeclarations-end-implications-for-coverage-costs-and-access/>.\\n3 For more information, refer to the American Rescue Plan Act, \\nP.L. 117-2, March 11, 2021, <www.congress.gov/bill/117th-congress/\\nhouse-bill/1319/text>.\\nof the Midwest.4, 5 Kentucky, Maine, and New Mexico \\ncreated state-based health insurance marketplaces on \\nNovember 1, 2021, to replace their previously federally \\nrun exchanges.6 State and federal policies designed to \\nincrease public coverage may also affect the supply \\nand demand for private coverage. As a result, a variety \\nof changes in coverage rates are possible. \\nThis brief uses the 2021 and 2022 American \\nCommunity Survey (ACS) 1-year estimates to exam-\\nine differences in health insurance coverage status \\nand select subtypes (Medicaid, direct purchase, \\nand employer-based) for the 50 states, the District \\nof Columbia, and the 25 most populous metro-\\npolitan areas (refer to the “What Is Health Insurance \\nCoverage?” text box).7 It also examines year-to-year \\nchanges (2021 to 2022) across these geographies.')"
      ]
     },
     "execution_count": 60,
     "metadata": {},
     "output_type": "execute_result"
    }
   ],
   "source": [
    "result[\"source_documents\"][0]"
   ]
  },
  {
   "cell_type": "code",
   "execution_count": 61,
   "metadata": {},
   "outputs": [],
   "source": [
    "memory = ConversationBufferMemory(\n",
    "    memory_key=\"chat_history\",\n",
    "    return_messages=True\n",
    ")"
   ]
  },
  {
   "cell_type": "code",
   "execution_count": 62,
   "metadata": {},
   "outputs": [],
   "source": [
    "from langchain.chains import ConversationalRetrievalChain\n",
    "retriever=vectordb.as_retriever()\n",
    "qa = ConversationalRetrievalChain.from_llm(\n",
    "    llm,\n",
    "    retriever=retriever,\n",
    "    memory=memory\n",
    ")"
   ]
  },
  {
   "cell_type": "code",
   "execution_count": 63,
   "metadata": {},
   "outputs": [],
   "source": [
    "question = \"US Data for 2022?\"\n",
    "result = qa({\"question\": question})"
   ]
  },
  {
   "cell_type": "code",
   "execution_count": 64,
   "metadata": {},
   "outputs": [
    {
     "data": {
      "text/plain": [
       "\"I don't know if the US data for 2022 shows an increase or decrease in employment from 2021 to 2022.\""
      ]
     },
     "execution_count": 64,
     "metadata": {},
     "output_type": "execute_result"
    }
   ],
   "source": [
    "result[\"answer\"]"
   ]
  }
 ],
 "metadata": {
  "kernelspec": {
   "display_name": "env",
   "language": "python",
   "name": "python3"
  },
  "language_info": {
   "codemirror_mode": {
    "name": "ipython",
    "version": 3
   },
   "file_extension": ".py",
   "mimetype": "text/x-python",
   "name": "python",
   "nbconvert_exporter": "python",
   "pygments_lexer": "ipython3",
   "version": "3.10.12"
  }
 },
 "nbformat": 4,
 "nbformat_minor": 2
}
