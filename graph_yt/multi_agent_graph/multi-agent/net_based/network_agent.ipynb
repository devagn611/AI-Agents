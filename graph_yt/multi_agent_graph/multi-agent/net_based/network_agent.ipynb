{
 "cells": [
  {
   "cell_type": "code",
   "execution_count": null,
   "id": "86359162",
   "metadata": {},
   "outputs": [],
   "source": [
    "%pip install langchain_openai"
   ]
  },
  {
   "cell_type": "code",
   "execution_count": 1,
   "id": "8fe4a21f",
   "metadata": {},
   "outputs": [],
   "source": [
    "from typing_extensions import Literal\n",
    "from langchain_core.tools import tool\n",
    "from langchain_groq import ChatGroq\n",
    "from langgraph.graph import MessagesState, StateGraph,START,END\n",
    "from langgraph.types import Command\n",
    "from dotenv import load_dotenv\n",
    "from IPython.display import Image, display\n",
    "# from langchain_openai import ChatOpenAI\n",
    "from langchain_groq import ChatGroq\n",
    "from langchain_core.messages import BaseMessage, HumanMessage\n",
    "from langgraph.prebuilt import create_react_agent\n",
    "from typing import Annotated\n",
    "from langchain_experimental.utilities import PythonREPL"
   ]
  },
  {
   "cell_type": "code",
   "execution_count": 2,
   "id": "fc412f29",
   "metadata": {},
   "outputs": [],
   "source": [
    "import os"
   ]
  },
  {
   "cell_type": "code",
   "execution_count": 3,
   "id": "3f5b65f5",
   "metadata": {},
   "outputs": [
    {
     "data": {
      "text/plain": [
       "True"
      ]
     },
     "execution_count": 3,
     "metadata": {},
     "output_type": "execute_result"
    }
   ],
   "source": [
    "load_dotenv()"
   ]
  },
  {
   "cell_type": "code",
   "execution_count": 4,
   "id": "9fc78496",
   "metadata": {},
   "outputs": [],
   "source": [
    "groq_model=ChatGroq(model=\"deepseek-r1-distill-llama-70b\")"
   ]
  },
  {
   "cell_type": "code",
   "execution_count": null,
   "id": "9a0af53f",
   "metadata": {},
   "outputs": [
    {
     "data": {
      "text/plain": [
       "\"<think>\\n\\n</think>\\n\\nHell yeah! What's got you pumped up? 😎\""
      ]
     },
     "execution_count": 6,
     "metadata": {},
     "output_type": "execute_result"
    }
   ],
   "source": [
    "# groq_model.invoke(\"Hell Yeah!\")"
   ]
  },
  {
   "cell_type": "code",
   "execution_count": 160,
   "id": "7efbc0a1",
   "metadata": {},
   "outputs": [],
   "source": [
    "def add_numbers(a: int, b: int) -> int:\n",
    "    \"\"\"\"use this function to add two numbers\"\"\"\n",
    "    return a + b"
   ]
  },
  {
   "cell_type": "code",
   "execution_count": 161,
   "id": "f47420a7",
   "metadata": {},
   "outputs": [],
   "source": [
    "@tool \n",
    "def transfer_to_addition_expert():\n",
    "    \"\"\"Ask the addition expert for help to add two numbers.\"\"\"\n",
    "    return "
   ]
  },
  {
   "cell_type": "code",
   "execution_count": 162,
   "id": "cfcecbfe",
   "metadata": {},
   "outputs": [],
   "source": [
    "@tool\n",
    "def transfer_to_multiplication_expert():\n",
    "    \"\"\"Ask the multiplication expert for help to multiply two numbers.\"\"\"\n",
    "    pass"
   ]
  },
  {
   "cell_type": "code",
   "execution_count": 207,
   "id": "8792093b",
   "metadata": {},
   "outputs": [],
   "source": [
    "def addition_expert(state: MessagesState)-> Command[Literal[\"multiplication_expert\",END]]:\n",
    "    print(\"----Addition Expert----\")\n",
    "    system_message=(\n",
    "         \"You are an addition expert, you can ask the multiplication expert for help with multiplication.  you can also call function add_numbers(a,b) to multiply two numbers.\"\n",
    "        \"Always do your portion of calculation before the handoff.\"\n",
    "        )\n",
    "    messages=[{\"role\":\"system\",\"content\":system_message}]+ [state[\"messages\"][-1].content]\n",
    "    print(\"from add\",state[\"messages\"][-1].content)\n",
    "\n",
    "    ai_msg= groq_model.bind_tools([transfer_to_multiplication_expert]).invoke(messages)\n",
    "    print(\"to add\",ai_msg)\n",
    "    if len(ai_msg.tool_calls)>0:\n",
    "        tool_call_id=ai_msg.tool_calls[-1][\"id\"]\n",
    "        tool_msg={\n",
    "            \"role\":\"tool\",\n",
    "            \"content\":\"Successfully Transferred \",\n",
    "            \"tool_call_id\":tool_call_id\n",
    "        }\n",
    "        return Command(\n",
    "            goto=\"multiplication_expert\",update= {\"messages\":[tool_msg,ai_msg]}\n",
    "                       )\n",
    "    return {\"messages\":[ai_msg]}"
   ]
  },
  {
   "cell_type": "code",
   "execution_count": 208,
   "id": "37710236",
   "metadata": {},
   "outputs": [],
   "source": [
    "def multiplication_expert(state: MessagesState)-> Command[Literal[\"addition_expert\",END]]:\n",
    "    print(\"----MULTIPLICATION EXPERT----\")\n",
    "    system_message=(\n",
    "        \"You are a multiplication expert, you can ask the addition expert for help with addition. you can also call function multiply_numbers(a,b) to multiply two numbers.\"\n",
    "        \"Always do your portion of calculation before the handoff.\"\n",
    "    )\n",
    "    messages=[{\"role\":\"system\",\"content\":system_message}]+ [state[\"messages\"][-1].content\n",
    "    ]\n",
    "    print(\"from mul\",state[\"messages\"][-1].content)\n",
    "    ai_msg= groq_model.bind_tools([transfer_to_addition_expert]).invoke(messages)\n",
    "    print(\"to mul\",ai_msg)\n",
    "    if len(ai_msg.tool_calls)>0:\n",
    "        tool_call_id=ai_msg.tool_calls[-1][\"id\"]\n",
    "        tool_msg={\n",
    "            \"role\":\"tool\",\n",
    "            \"content\":\"Successfully Transferred \",\n",
    "            \"tool_call_id\":tool_call_id\n",
    "        }\n",
    "        return Command(\n",
    "            goto=\"addition_expert\",update= {\"messages\":[tool_msg,ai_msg]}\n",
    "                       )\n",
    "    return {\"messages\":[ai_msg]}"
   ]
  },
  {
   "cell_type": "code",
   "execution_count": 209,
   "id": "6436d26e",
   "metadata": {},
   "outputs": [
    {
     "data": {
      "text/plain": [
       "<langgraph.graph.state.StateGraph at 0x785bb3bafb20>"
      ]
     },
     "execution_count": 209,
     "metadata": {},
     "output_type": "execute_result"
    }
   ],
   "source": [
    "graph=StateGraph(MessagesState)\n",
    "\n",
    "graph.add_node(\"addition_expert\", addition_expert)\n",
    "graph.add_node(\"multiplication_expert\", multiplication_expert)\n",
    "\n",
    "graph.add_edge(START,\"addition_expert\")\n",
    "# graph.add_edge(\"addition_expert\",\"multiplication_expert\")\n",
    "# graph.add_edge(\"multiplication_expert\",END)\n"
   ]
  },
  {
   "cell_type": "code",
   "execution_count": 210,
   "id": "b88e61e2",
   "metadata": {},
   "outputs": [],
   "source": [
    "app = graph.compile()"
   ]
  },
  {
   "cell_type": "code",
   "execution_count": 211,
   "id": "501a9fd1",
   "metadata": {},
   "outputs": [
    {
     "data": {
      "image/png": "[encoded data removed]",
      "text/plain": [
       "<IPython.core.display.Image object>"
      ]
     },
     "metadata": {},
     "output_type": "display_data"
    }
   ],
   "source": [
    "from IPython.display import Image, display\n",
    "try:\n",
    "    display(Image(app.get_graph(xray=True).draw_mermaid_png()))\n",
    "except Exception:\n",
    "    # This requires some extra dependencies and is optional\n",
    "    pass"
   ]
  },
  {
   "cell_type": "code",
   "execution_count": 213,
   "id": "7b747a40",
   "metadata": {},
   "outputs": [
    {
     "name": "stdout",
     "output_type": "stream",
     "text": [
      "----Addition Expert----\n",
      "from add what's (3 + 5) * 12. Provide me the output\n",
      "to add content='' additional_kwargs={'tool_calls': [{'id': 'call_tbkr', 'function': {'arguments': '{\"a\":8,\"b\":12}', 'name': 'transfer_to_multiplication_expert'}, 'type': 'function'}]} response_metadata={'token_usage': {'completion_tokens': 206, 'prompt_tokens': 180, 'total_tokens': 386, 'completion_time': 0.749090909, 'prompt_time': 0.010446182, 'queue_time': 0.047491058, 'total_time': 0.759537091}, 'model_name': 'deepseek-r1-distill-llama-70b', 'system_fingerprint': 'fp_454c494f52', 'finish_reason': 'tool_calls', 'logprobs': None} id='run-351306d2-fd0d-4c07-994e-6dc3e8e08adc-0' tool_calls=[{'name': 'transfer_to_multiplication_expert', 'args': {'a': 8, 'b': 12}, 'id': 'call_tbkr', 'type': 'tool_call'}] usage_metadata={'input_tokens': 180, 'output_tokens': 206, 'total_tokens': 386}\n",
      "----MULTIPLICATION EXPERT----\n",
      "from mul \n",
      "to mul content='' additional_kwargs={'tool_calls': [{'id': 'call_76gb', 'function': {'arguments': '{\"a\":6,\"b\":4}', 'name': 'multiply_numbers'}, 'type': 'function'}]} response_metadata={'token_usage': {'completion_tokens': 290, 'prompt_tokens': 163, 'total_tokens': 453, 'completion_time': 1.054545455, 'prompt_time': 0.009934852, 'queue_time': 0.047539058, 'total_time': 1.064480307}, 'model_name': 'deepseek-r1-distill-llama-70b', 'system_fingerprint': 'fp_454c494f52', 'finish_reason': 'tool_calls', 'logprobs': None} id='run-f862a9d1-da0e-4af9-b72e-81640e8a4294-0' tool_calls=[{'name': 'multiply_numbers', 'args': {'a': 6, 'b': 4}, 'id': 'call_76gb', 'type': 'tool_call'}] usage_metadata={'input_tokens': 163, 'output_tokens': 290, 'total_tokens': 453}\n",
      "----Addition Expert----\n",
      "from add \n",
      "to add content='' additional_kwargs={'tool_calls': [{'id': 'call_zp11', 'function': {'arguments': '{}', 'name': 'transfer_to_multiplication_expert'}, 'type': 'function'}]} response_metadata={'token_usage': {'completion_tokens': 267, 'prompt_tokens': 164, 'total_tokens': 431, 'completion_time': 0.970909091, 'prompt_time': 0.010289036, 'queue_time': 0.049051613, 'total_time': 0.981198127}, 'model_name': 'deepseek-r1-distill-llama-70b', 'system_fingerprint': 'fp_454c494f52', 'finish_reason': 'tool_calls', 'logprobs': None} id='run-8d9a3a53-eb77-47fa-94f9-7851091dff60-0' tool_calls=[{'name': 'transfer_to_multiplication_expert', 'args': {}, 'id': 'call_zp11', 'type': 'tool_call'}] usage_metadata={'input_tokens': 164, 'output_tokens': 267, 'total_tokens': 431}\n",
      "----MULTIPLICATION EXPERT----\n",
      "from mul \n",
      "to mul content=\"\\nAlright, so I'm trying to multiply two numbers, but I'm not entirely sure how to do it properly. I remember that multiplication is essentially repeated addition, so maybe I can break it down that way. Let's say I need to multiply 4 and 5. I could add 4 five times: 4 + 4 + 4 + 4 + 4, which should give me 20. But wait, is that the most efficient way? Maybe there's a quicker method, especially for larger numbers.\\n\\nI've heard about the distributive property, where you can break down numbers into easier parts. For example, multiplying 7 by 8 could be done by breaking 8 into 5 and 3, so 7*5 is 35 and 7*3 is 21. Then I add those together to get 56. That seems faster than adding 7 eight times.\\n\\nBut sometimes, I get confused with larger numbers. Let's take 23 multiplied by 17. Breaking it down, 23*10 is 230, and 23*7 is 161. Adding those gives me 391. Wait, is that right? Let me check by adding 23 seventeen times. Hmm, that would take too long. Maybe using another method like the lattice method would help. I draw a grid, split the numbers into tens and units, multiply each part, and then add them up. That seems more organized.\\n\\nI also remember something about multiplying by powers of ten. For example, 5*12 is the same as 5*(10+2) which is 50 + 10, giving 60. That makes it easier. But what if I have a number that's not a multiple of ten? Like 6*7. I can think of 7 as 5+2, so 6*5 is 30 and 6*2 is 12, adding up to 42. That works too.\\n\\nWait, sometimes I see people using their fingers or other tricks to multiply quickly. I wonder if those tricks are reliable. For instance, multiplying by 9 can be done by subtracting from 10 and adjusting. So 7*9 is 63 because 7*10 is 70, minus 7 gives 63. That's clever, but I'm not sure if it works for all numbers.\\n\\nI should also consider the properties of multiplication, like commutative and associative properties. So 3*4 is the same as 4*3, and (2*3)*4 is the same as 2*(3*4). That helps in rearranging numbers to make the multiplication easier.\\n\\nWhat about multiplying decimals? If I have 2.5 * 3.2, I can ignore the decimals first, multiply 25*32 to get 800, and then count the total decimal places from both numbers, which is 2 (from 2.5) and 1 (from 3.2), making it 3 decimal places. So 800 becomes 8.00, but I think I messed that up. Maybe I should convert them to fractions or whole numbers first.\\n\\nAnother thing I'm unsure about is multiplying negative numbers. I know that a negative times a negative is a positive, but I often forget why. It's something about the direction or debt, but I need to visualize it better.\\n\\nI've also heard about using arrays or area models for multiplication. Drawing a rectangle where one side is one number and the other side is the other number, then filling it in to find the area. That might help me understand it geometrically.\\n\\nWait, what about multiplying three numbers? Like 2*3*4. I can do 2*3 first to get 6, then multiply by 4 to get 24. Or I could do 3*4 first to get 12, then multiply by 2 to get 24. Both ways work, so the associative property holds.\\n\\nI think I'm getting a better grasp now. Maybe I should practice with a few more examples to solidify my understanding. Let's try 9*6. Using the distributive property, 9*5 is 45 and 9*1 is 9, adding up to 54. That seems correct. Another one: 12*11. I can think of 11 as 10+1, so 12*10 is 120 and 12*1 is 12, totaling 132. That makes sense.\\n\\nBut I'm still a bit confused when the result is a three-digit number. For example, 15*7. I know 15*7 is 105, but if I break it down, 10*7 is 70 and 5*7 is 35, adding to 105. That works. What about 999*999? That's a big number. Maybe breaking it down into (1000 - 1)*(1000 - 1) would help. Expanding that, I get 1000*1000 which is 1,000,000, minus 1000, minus another 1000, plus 1. So 1,000,000 - 1000 - 1000 +1 is 998,001. That seems right, but I should double-check.\\n\\nOverall, I think breaking numbers down using the distributive property and understanding the properties of multiplication makes it easier. I just need to practice more to build confidence and speed.\\n</think>\\n\\nTo multiply two numbers effectively, follow these organized steps:\\n\\n1. **Break Down the Numbers**: Use the distributive property to simplify multiplication. For example, multiply 23 by 17 by breaking it into 20*17 and 3*17, then add the results.\\n\\n2. **Use Known Multiples**: For numbers close to multiples of 10 or easy-to-handle figures, adjust them slightly. For instance, 7*9 can be thought of as (7*10) - 7 = 70 - 7 = 63.\\n\\n3. **Apply Properties of Multiplication**:\\n   - **Commutative Property**: Recognize that the order doesn't matter, so 4*5 is the same as 5*4.\\n   - **Associative Property**: Group numbers to simplify, like (2*3)*4 = 2*(3*4).\\n\\n4. **Handle Decimals and Negative Numbers**:\\n   - **Decimals**: Multiply as if they were whole numbers, then adjust the decimal point based on the total number of decimal places in the original numbers.\\n   - **Negatives**: Remember that a negative times a negative is a positive.\\n\\n5. **Visual Aids**: Use arrays or area models to visualize the multiplication process, especially for larger numbers or to teach the concept.\\n\\n6. **Practice with Examples**:\\n   - **Example 1**: 9*6 = (9*5) + (9*1) = 45 + 9 = 54.\\n   - **Example 2**: 12*11 = (12*10) + (12*1) = 120 + 12 = 132.\\n\\nBy consistently applying these strategies, you'll enhance your multiplication skills and confidence.\" additional_kwargs={} response_metadata={'token_usage': {'completion_tokens': 1491, 'prompt_tokens': 163, 'total_tokens': 1654, 'completion_time': 5.421818182, 'prompt_time': 0.010599049, 'queue_time': 0.04959698, 'total_time': 5.432417231}, 'model_name': 'deepseek-r1-distill-llama-70b', 'system_fingerprint': 'fp_454c494f52', 'finish_reason': 'stop', 'logprobs': None} id='run-2daf5cdd-a66d-4a5e-bd07-19943f27942a-0' usage_metadata={'input_tokens': 163, 'output_tokens': 1491, 'total_tokens': 1654}\n",
      "\n",
      "Alright, so I'm trying to multiply two numbers, but I'm not entirely sure how to do it properly. I remember that multiplication is essentially repeated addition, so maybe I can break it down that way. Let's say I need to multiply 4 and 5. I could add 4 five times: 4 + 4 + 4 + 4 + 4, which should give me 20. But wait, is that the most efficient way? Maybe there's a quicker method, especially for larger numbers.\n",
      "\n",
      "I've heard about the distributive property, where you can break down numbers into easier parts. For example, multiplying 7 by 8 could be done by breaking 8 into 5 and 3, so 7*5 is 35 and 7*3 is 21. Then I add those together to get 56. That seems faster than adding 7 eight times.\n",
      "\n",
      "But sometimes, I get confused with larger numbers. Let's take 23 multiplied by 17. Breaking it down, 23*10 is 230, and 23*7 is 161. Adding those gives me 391. Wait, is that right? Let me check by adding 23 seventeen times. Hmm, that would take too long. Maybe using another method like the lattice method would help. I draw a grid, split the numbers into tens and units, multiply each part, and then add them up. That seems more organized.\n",
      "\n",
      "I also remember something about multiplying by powers of ten. For example, 5*12 is the same as 5*(10+2) which is 50 + 10, giving 60. That makes it easier. But what if I have a number that's not a multiple of ten? Like 6*7. I can think of 7 as 5+2, so 6*5 is 30 and 6*2 is 12, adding up to 42. That works too.\n",
      "\n",
      "Wait, sometimes I see people using their fingers or other tricks to multiply quickly. I wonder if those tricks are reliable. For instance, multiplying by 9 can be done by subtracting from 10 and adjusting. So 7*9 is 63 because 7*10 is 70, minus 7 gives 63. That's clever, but I'm not sure if it works for all numbers.\n",
      "\n",
      "I should also consider the properties of multiplication, like commutative and associative properties. So 3*4 is the same as 4*3, and (2*3)*4 is the same as 2*(3*4). That helps in rearranging numbers to make the multiplication easier.\n",
      "\n",
      "What about multiplying decimals? If I have 2.5 * 3.2, I can ignore the decimals first, multiply 25*32 to get 800, and then count the total decimal places from both numbers, which is 2 (from 2.5) and 1 (from 3.2), making it 3 decimal places. So 800 becomes 8.00, but I think I messed that up. Maybe I should convert them to fractions or whole numbers first.\n",
      "\n",
      "Another thing I'm unsure about is multiplying negative numbers. I know that a negative times a negative is a positive, but I often forget why. It's something about the direction or debt, but I need to visualize it better.\n",
      "\n",
      "I've also heard about using arrays or area models for multiplication. Drawing a rectangle where one side is one number and the other side is the other number, then filling it in to find the area. That might help me understand it geometrically.\n",
      "\n",
      "Wait, what about multiplying three numbers? Like 2*3*4. I can do 2*3 first to get 6, then multiply by 4 to get 24. Or I could do 3*4 first to get 12, then multiply by 2 to get 24. Both ways work, so the associative property holds.\n",
      "\n",
      "I think I'm getting a better grasp now. Maybe I should practice with a few more examples to solidify my understanding. Let's try 9*6. Using the distributive property, 9*5 is 45 and 9*1 is 9, adding up to 54. That seems correct. Another one: 12*11. I can think of 11 as 10+1, so 12*10 is 120 and 12*1 is 12, totaling 132. That makes sense.\n",
      "\n",
      "But I'm still a bit confused when the result is a three-digit number. For example, 15*7. I know 15*7 is 105, but if I break it down, 10*7 is 70 and 5*7 is 35, adding to 105. That works. What about 999*999? That's a big number. Maybe breaking it down into (1000 - 1)*(1000 - 1) would help. Expanding that, I get 1000*1000 which is 1,000,000, minus 1000, minus another 1000, plus 1. So 1,000,000 - 1000 - 1000 +1 is 998,001. That seems right, but I should double-check.\n",
      "\n",
      "Overall, I think breaking numbers down using the distributive property and understanding the properties of multiplication makes it easier. I just need to practice more to build confidence and speed.\n",
      "</think>\n",
      "\n",
      "To multiply two numbers effectively, follow these organized steps:\n",
      "\n",
      "1. **Break Down the Numbers**: Use the distributive property to simplify multiplication. For example, multiply 23 by 17 by breaking it into 20*17 and 3*17, then add the results.\n",
      "\n",
      "2. **Use Known Multiples**: For numbers close to multiples of 10 or easy-to-handle figures, adjust them slightly. For instance, 7*9 can be thought of as (7*10) - 7 = 70 - 7 = 63.\n",
      "\n",
      "3. **Apply Properties of Multiplication**:\n",
      "   - **Commutative Property**: Recognize that the order doesn't matter, so 4*5 is the same as 5*4.\n",
      "   - **Associative Property**: Group numbers to simplify, like (2*3)*4 = 2*(3*4).\n",
      "\n",
      "4. **Handle Decimals and Negative Numbers**:\n",
      "   - **Decimals**: Multiply as if they were whole numbers, then adjust the decimal point based on the total number of decimal places in the original numbers.\n",
      "   - **Negatives**: Remember that a negative times a negative is a positive.\n",
      "\n",
      "5. **Visual Aids**: Use arrays or area models to visualize the multiplication process, especially for larger numbers or to teach the concept.\n",
      "\n",
      "6. **Practice with Examples**:\n",
      "   - **Example 1**: 9*6 = (9*5) + (9*1) = 45 + 9 = 54.\n",
      "   - **Example 2**: 12*11 = (12*10) + (12*1) = 120 + 12 = 132.\n",
      "\n",
      "By consistently applying these strategies, you'll enhance your multiplication skills and confidence.\n"
     ]
    }
   ],
   "source": [
    "res=app.invoke({\"messages\":[(\"user\",\"what's (3 + 5) * 12. Provide me the output\")]})\n",
    "print(res[\"messages\"][-1].content)"
   ]
  }
 ],
 "metadata": {
  "kernelspec": {
   "display_name": "env",
   "language": "python",
   "name": "python3"
  },
  "language_info": {
   "codemirror_mode": {
    "name": "ipython",
    "version": 3
   },
   "file_extension": ".py",
   "mimetype": "text/x-python",
   "name": "python",
   "nbconvert_exporter": "python",
   "pygments_lexer": "ipython3",
   "version": "3.10.12"
  }
 },
 "nbformat": 4,
 "nbformat_minor": 5
}
