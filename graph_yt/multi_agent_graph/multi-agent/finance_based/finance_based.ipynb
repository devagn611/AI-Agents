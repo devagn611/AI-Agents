{
 "cells": [
  {
   "cell_type": "code",
   "execution_count": 981,
   "id": "2c753a58",
   "metadata": {},
   "outputs": [
    {
     "data": {
      "text/plain": [
       "True"
      ]
     },
     "execution_count": 981,
     "metadata": {},
     "output_type": "execute_result"
    }
   ],
   "source": [
    "import os\n",
    "import json\n",
    "from dotenv import load_dotenv\n",
    "import yfinance\n",
    "from langchain_groq import ChatGroq\n",
    "\n",
    "# from langchain.text_splitter import RecursiveCharacterTextSplitter\n",
    "# from langchain_community.document_loaders import WebBaseLoader\n",
    "from langchain_core.output_parsers import StrOutputParser\n",
    "from langchain_core.prompts import PromptTemplate\n",
    "from langchain_core.messages import HumanMessage, BaseMessage, AIMessage\n",
    "from typing_extensions import Annotated, Literal, Sequence, TypedDict\n",
    "from langgraph.graph.message import add_messages\n",
    "from langchain.tools.tavily_search import TavilySearchResults\n",
    "from langgraph.graph import StateGraph, START, END\n",
    "from langgraph.types import Command\n",
    "from langchain_google_genai import ChatGoogleGenerativeAI\n",
    "\n",
    "load_dotenv()"
   ]
  },
  {
   "cell_type": "code",
   "execution_count": 982,
   "id": "67e74837",
   "metadata": {},
   "outputs": [],
   "source": [
    "llm = ChatGoogleGenerativeAI(model=\"gemini-2.0-flash\")\n",
    "# llm = ChatGroq(model_name=\"Gemma2-9b-It\")"
   ]
  },
  {
   "cell_type": "code",
   "execution_count": 983,
   "id": "57e95a09",
   "metadata": {},
   "outputs": [],
   "source": [
    "# llm.invoke(\"What is the current price of AAPL stock?\")"
   ]
  },
  {
   "cell_type": "code",
   "execution_count": 984,
   "id": "7dcdf578",
   "metadata": {},
   "outputs": [],
   "source": [
    "class State(TypedDict):\n",
    "    messages: Annotated[Sequence[BaseMessage], add_messages]\n",
    "    next: str\n",
    "    content: Annotated[Sequence[BaseMessage], add_messages]"
   ]
  },
  {
   "cell_type": "code",
   "execution_count": 985,
   "id": "d9c50566",
   "metadata": {},
   "outputs": [],
   "source": [
    "# class responseState(TypedDict):\n",
    "#     response: Annotated[Sequence[BaseMessage], add_messages]"
   ]
  },
  {
   "cell_type": "code",
   "execution_count": 986,
   "id": "33bd3f5f",
   "metadata": {},
   "outputs": [],
   "source": [
    "# # def get_stock_price(ticker: str) -> Command[Literal[\"answer_checker\"]]:\n",
    "# #     \"\"\"\n",
    "# #     Get the current stock price for a given ticker symbol.\n",
    "# #     \"\"\"\n",
    "# #     print(\"--------- Stock Price -----------\")\n",
    "\n",
    "# #     # Use yfinance to get the stock price\n",
    "# #     stock = yfinance.Ticker(ticker)\n",
    "# #     data = stock.history(period=\"1d\")\n",
    "# #     # price = data[\"Close\"].iloc[-1]\n",
    "# #     print(data)\n",
    "\n",
    "# #     return {\"messages\": data}\n",
    "\n",
    "# #     # return state\n",
    "\n",
    "\n",
    "# def get_stock_price(ticker: str) -> State:\n",
    "#     \"\"\"\n",
    "#     Retrieve the latest closing stock price for the specified ticker symbol.\n",
    "#     \"\"\"\n",
    "#     print(\"--------- Stock Price -----------\")\n",
    "\n",
    "#     try:\n",
    "#         # Create a Ticker object\n",
    "#         stock = yf.Ticker(ticker)\n",
    "\n",
    "#         # Fetch historical data for the last trading day\n",
    "#         data = stock.history(period=\"1d\")\n",
    "\n",
    "#         # Check if data is returned\n",
    "#         if data.empty:\n",
    "#             return {\n",
    "#                 \"messages\": [\n",
    "#                     AIMessage(content=f\"No data found for ticker symbol '{ticker}'.\")\n",
    "#                 ]\n",
    "#             }\n",
    "\n",
    "#         # Extract the latest closing price\n",
    "#         latest_close = data[\"Close\"].iloc[-1]\n",
    "\n",
    "#         # Format the response\n",
    "#         response = (\n",
    "\n",
    "#         return {\"messages\": [AIMessage(content=response)]}\n",
    "\n",
    "#     except Exception as e:\n",
    "#         # Handle exceptions and return an error message\n",
    "#         error_message = (\n",
    "#             f\"An error occurred while retrieving data for '{ticker}': {str(e)}\"\n",
    "#         )\n",
    "#         return {\"messages\": [AIMessage(content=error_message)]}\n",
    "\n",
    "\n",
    "# def search_web(state: State) -> State:\n",
    "#     \"\"\"\n",
    "#     Search the web for the latest news about a given stock ticker.\n",
    "#     \"\"\"\n",
    "#     print(\"--------- Search Web -----------\")\n",
    "\n",
    "#     # Extract the user's query from the latest message\n",
    "#     query = state[\"messages\"][-1].content\n",
    "#     print(\"User Query:\", query)\n",
    "\n",
    "#     # Initialize TavilySearchResults with desired parameters\n",
    "#     tavily_search = TavilySearchResults(\n",
    "#         max_results=3,\n",
    "#         include_answer=True,\n",
    "#         include_raw_content=True,\n",
    "#         include_images=False,\n",
    "#     )\n",
    "\n",
    "#     # Perform the search\n",
    "#     search_results = tavily_search.invoke({\"query\": query})\n",
    "\n",
    "#     # Format the search results into a readable string\n",
    "#     formatted_results = \"\"\n",
    "#     for idx, result in enumerate(search_results[\"results\"], start=1):\n",
    "#         title = result.get(\"title\", \"No Title\")\n",
    "#         link = result.get(\"link\", \"No Link\")\n",
    "#         description = result.get(\"description\", \"No Description\")\n",
    "#         formatted_results += f\"{idx}. {title}\\n{description}\\nLink: {link}\\n\\n\"\n",
    "\n",
    "#     # Return the formatted results as an AI message\n",
    "#     return {\"messages\": [AIMessage(content=formatted_results)]}"
   ]
  },
  {
   "cell_type": "code",
   "execution_count": 987,
   "id": "e38b82ee",
   "metadata": {},
   "outputs": [],
   "source": [
    "# get_stock_price(\"AAPL\")"
   ]
  },
  {
   "cell_type": "code",
   "execution_count": 988,
   "id": "71c38987",
   "metadata": {},
   "outputs": [],
   "source": [
    "# def serach_web(state: State) -> Command[Literal[\"answer_checker\"]]:\n",
    "#     \"\"\"\n",
    "#     Search the web for the latest news about a given stock ticker.\n",
    "#     \"\"\"\n",
    "#     print(\"--------- Search Web -----------\")\n",
    "\n",
    "#     # Use Tavily to search for the latest news\n",
    "#     query = state[\"messages\"][-1].content\n",
    "#     tavily_search = TavilySearchResults(num_results=3)\n",
    "#     search_results = tavily_search.invoke(input=query)\n",
    "#     # print(search_results.results[0].title)\n",
    "#     # print(search_results.results[0].link)\n",
    "#     # print(search_results.results[0].description)\n",
    "#     # print(search_results.results[0].source)\n",
    "#     # print(search_results.results[0].published_at)\n",
    "\n",
    "#     return {\"messages\": search_results}"
   ]
  },
  {
   "cell_type": "code",
   "execution_count": 989,
   "id": "dcd3d5a9",
   "metadata": {},
   "outputs": [],
   "source": [
    "# serach_web({\"messages\": [HumanMessage(content=\"What is the  Capital of the france?\")]})"
   ]
  },
  {
   "cell_type": "code",
   "execution_count": 990,
   "id": "3b76f13a",
   "metadata": {},
   "outputs": [],
   "source": [
    "# def ans_checker(state: State) -> State:\n",
    "#     \"\"\"\n",
    "#     Validates the correctness of the user's answer using the LLM.\n",
    "#     \"\"\"\n",
    "#     print(\"--------- Answer Checker -----------\")\n",
    "#     # Retrieve the latest message content\n",
    "#     message = state[\"messages\"][-1].content\n",
    "#     print(\"Message from ans_checker:\", message)\n",
    "\n",
    "#     # Construct a detailed prompt for validation\n",
    "#     prompt = (\n",
    "#         \"You are an expert AI assistant tasked with validating the following answer:\\n\\n\"\n",
    "#         f\"Answer: {message}\\n\\n\"\n",
    "#         \"Please assess the answer based on the following criteria:\\n\"\n",
    "#         \"- Accuracy: Is the information factually correct?\\n\"\n",
    "#         \"- Relevance: Does the answer address the question appropriately?\\n\"\n",
    "#         \"- Clarity: Is the answer clear and understandable?\\n\\n\"\n",
    "#         \"Provide a brief evaluation for each criterion and conclude with an overall assessment:\\n\"\n",
    "#         \"- Correct\\n\"\n",
    "#         \"- Partially Correct\\n\"\n",
    "#         \"- Incorrect\\n\"\n",
    "#         \"- Cannot Determine\\n\\n\"\n",
    "#         \"If the answer is partially correct or incorrect, please suggest improvements.\"\n",
    "#     )\n",
    "\n",
    "#     # Invoke the LLM with the constructed prompt\n",
    "#     final_result = llm.invoke(prompt)\n",
    "\n",
    "#     # Return the evaluation as an AI message\n",
    "#     return {\"messages\": [AIMessage(content=final_result)]}"
   ]
  },
  {
   "cell_type": "code",
   "execution_count": 991,
   "id": "3e09bcee",
   "metadata": {},
   "outputs": [],
   "source": [
    "# def search_web(state: State) -> Command[Literal[\"answer_checker\"]]:\n",
    "#     query = state[\"messages\"][-1].content\n",
    "#     tavily_search = TavilySearchResults(num_results=3)\n",
    "#     results = tavily_search.invoke({\"input\": query})\n",
    "#     return {\"messages\": [AIMessage(content=str(results))], \"next\": \"END\"}\n",
    "\n",
    "\n",
    "# def get_stock_price(state: State) -> Command[Literal[\"answer_checker\"]]:\n",
    "#     import yfinance\n",
    "\n",
    "#     ticker = state[\"messages\"][-1].content.split()[-1]  # crude way to extract symbol\n",
    "#     stock = yfinance.Ticker(ticker)\n",
    "#     data = stock.history(period=\"1d\")\n",
    "#     price = data[\"Close\"].iloc[-1]\n",
    "#     return {\n",
    "#         \"messages\": [AIMessage(content=f\"Current price of {ticker} is ${price:.2f}\")],\n",
    "#         \"next\": \"END\",\n",
    "#     }\n",
    "\n",
    "\n",
    "# def ans_checker(state: State) -> Command[Literal[\"ai_assistant\"]]:\n",
    "#     message = state[\"messages\"][-1].content\n",
    "#     result = llm.invoke(f\"Is this answer correct? {message}\")\n",
    "#     return {\"messages\": [AIMessage(content=result)], \"next\": \"END\"}"
   ]
  },
  {
   "cell_type": "code",
   "execution_count": null,
   "id": "c074b74f",
   "metadata": {},
   "outputs": [],
   "source": [
    "def get_stock_price(state: State) -> State:\n",
    "    print(\"--- Get Stock ---\")\n",
    "\n",
    "    user_msg_main = state[\"messages\"]\n",
    "    user_msg = user_msg_main[-1].content  # get last message\n",
    "    ticker = user_msg.split()[-1].upper()  # crude extraction like \"GOOG\"\n",
    "\n",
    "    stock = yfinance.Ticker(ticker)\n",
    "    data = stock.history(period=\"1d\")\n",
    "    print(\"---Data From yFinance---\", data, \"\\n\")\n",
    "    try:\n",
    "        price = data[\"Close\"].iloc[-1]\n",
    "        response = f\"The current price of {ticker} is ${price:.2f}\"\n",
    "        # response=data\n",
    "    except Exception:\n",
    "        response = \"Sorry, I couldn't fetch the stock price. Please check the ticker.\"\n",
    "\n",
    "    return {\n",
    "        \"messages\": state[\"messages\"] + [AIMessage(content=response)],\n",
    "        \"next\": \"answer_checker\",\n",
    "    }\n",
    "\n",
    "\n",
    "def search_web(state: State) -> State:\n",
    "    print(\"--- Search Web ---\")\n",
    "\n",
    "    query = state[\"messages\"][-1].content\n",
    "    print(\"User Query:\", query, \"\\n\")\n",
    "    tavily_search = TavilySearchResults(num_results=3)\n",
    "    results = tavily_search.invoke(input=query)\n",
    "\n",
    "    # response = \"\\n\\n\".join([f\"{r['title']}: {r['link']}\" for r in results[\"results\"]])\n",
    "\n",
    "    return {\n",
    "        \"messages\": state[\"messages\"] + [AIMessage(content=results)],\n",
    "        \"next\": \"answer_checker\",\n",
    "    }\n",
    "\n",
    "\n",
    "def ans_checker(state: State) -> State:\n",
    "    print(\"--- Answer Checker ---\", state[\"messages\"][-1].content, \"\\n\")\n",
    "    print(\"question\", state[\"messages\"][0].content, \"\\n\")\n",
    "    last_msg = state[\"messages\"][-1].content\n",
    "    question = state[\"messages\"][0].content\n",
    "\n",
    "    prompt = PromptTemplate(\n",
    "        template=\"\"\"\n",
    "    You are an expert AI assistant tasked with validating the following answer:\n",
    "    Here is the question asked by the user:\n",
    "    Question: {question}\n",
    "    Here is the answer provided by the AI:\n",
    "    Answer: {last_msg}\n",
    "\n",
    "    Please assess the answer and question based on the following criteria:\n",
    "    - Accuracy: Does the answer is near or somehow relate or match to the question?\n",
    "    - Relevance: Does the answer address the question appropriately?\n",
    "    - Clarity: Is the answer clear and understandable?\n",
    "\n",
    "    Provide a brief evaluation for each criterion and conclude with an overall assessment:\n",
    "    - Correct\n",
    "    - Partially Correct\n",
    "    - Incorrect\n",
    "    - Cannot Determine\n",
    "\n",
    "    If the answer is partially correct or incorrect, please suggest improvements.\n",
    "    and if the answer is correct give a brief explanation and write the answer clearly.\n",
    "    \"\"\",\n",
    "        input_variables=[\"question\", \"last_msg\"],\n",
    "    )\n",
    "    chain = prompt | llm | StrOutputParser()\n",
    "    result = chain.invoke(\n",
    "        {\n",
    "            \"question\": question,\n",
    "            \"last_msg\": last_msg,\n",
    "        }\n",
    "    )\n",
    "    # print(\"Prompt:\", result, \"\\n\")\n",
    "\n",
    "    return {\n",
    "        \"messages\": state[\"messages\"] + [AIMessage(content=result)],\n",
    "        \"content\": [AIMessage(content=result)],\n",
    "        \"next\": \"END\",\n",
    "    }"
   ]
  },
  {
   "cell_type": "code",
   "execution_count": 1089,
   "id": "c4da1720",
   "metadata": {},
   "outputs": [],
   "source": [
    "tools = [ans_checker, get_stock_price, search_web]"
   ]
  },
  {
   "cell_type": "code",
   "execution_count": 1112,
   "id": "2457a1d1",
   "metadata": {},
   "outputs": [
    {
     "name": "stdout",
     "output_type": "stream",
     "text": [
      "--- Get Stock ---\n",
      "---Data From yFinance---                                  Open        High         Low       Close  \\\n",
      "Date                                                                        \n",
      "2025-04-17 00:00:00-04:00  197.199997  198.830002  194.419998  196.979996   \n",
      "\n",
      "                             Volume  Dividends  Stock Splits  \n",
      "Date                                                          \n",
      "2025-04-17 00:00:00-04:00  52164700        0.0           0.0   \n",
      "\n"
     ]
    },
    {
     "data": {
      "text/plain": [
       "{'messages': [HumanMessage(content='AAPL', additional_kwargs={}, response_metadata={}),\n",
       "  AIMessage(content='The current price of AAPL is $196.98', additional_kwargs={}, response_metadata={})],\n",
       " 'next': 'answer_checker'}"
      ]
     },
     "execution_count": 1112,
     "metadata": {},
     "output_type": "execute_result"
    }
   ],
   "source": [
    "get_stock_price({\"messages\": [HumanMessage(content=\"AAPL\")]})"
   ]
  },
  {
   "cell_type": "code",
   "execution_count": 1090,
   "id": "e902c2b9",
   "metadata": {},
   "outputs": [],
   "source": [
    "llm_with_tools = llm.bind_tools(tools)"
   ]
  },
  {
   "cell_type": "code",
   "execution_count": 1091,
   "id": "afe9f78c",
   "metadata": {},
   "outputs": [],
   "source": [
    "# research_agent = create_react_agent(\n",
    "#     llm,\n",
    "#     tools=tools,\n",
    "#     prompt=make_system_prompt(\n",
    "#         \"You can only do research. You are working with a chart generator colleague.\"\n",
    "#     ),\n",
    "# )"
   ]
  },
  {
   "cell_type": "code",
   "execution_count": null,
   "metadata": {},
   "outputs": [],
   "source": []
  },
  {
   "cell_type": "code",
   "execution_count": 1092,
   "id": "5aef9852",
   "metadata": {},
   "outputs": [],
   "source": [
    "# res = llm_with_tools.invoke(\n",
    "#     \"What is the current price of Google stock? tell me the answer in one line\"\n",
    "# )"
   ]
  },
  {
   "cell_type": "code",
   "execution_count": 1093,
   "id": "b4a50c41",
   "metadata": {},
   "outputs": [],
   "source": [
    "# res"
   ]
  },
  {
   "cell_type": "code",
   "execution_count": 1094,
   "id": "654c92ea",
   "metadata": {},
   "outputs": [],
   "source": [
    "# def ai_assistant(state: State) -> State:\n",
    "#     print(\"--------- AI Assistant -----------\")\n",
    "\n",
    "#     message = state[\"messages\"][-1].content\n",
    "#     tools = \"search_web, stock_price, answer_checker\"\n",
    "\n",
    "#     prompt = PromptTemplate(\n",
    "#         input_variables=[\"question\", \"tools\"],\n",
    "#         template=\"\"\"\n",
    "#         You are a finance assistant.\n",
    "\n",
    "#         - If the answer is straightforward, say \"Correct\" and give the answer.\n",
    "#         - If not, respond ONLY with one tool name from: {tools}\n",
    "\n",
    "#         Question: {question}\n",
    "#         \"\"\",\n",
    "#     )\n",
    "\n",
    "#     chain = prompt | llm | StrOutputParser()\n",
    "#     result = chain.invoke({\"question\": message, \"tools\": tools}).strip()\n",
    "\n",
    "#     # Maintain message history + decision\n",
    "#     if result in tools.split(\", \"):\n",
    "#         print(\"Tool selected:\", result)\n",
    "#         return {\n",
    "#             \"messages\": state[\"messages\"] + [result],\n",
    "#             \"next\": result,\n",
    "#         }\n",
    "\n",
    "#     return {\"messages\": state[\"messages\"] + [result]}\n",
    "\n",
    "\n",
    "# def ai_assistant(state: State) -> State:\n",
    "#     message = state[\"messages\"][-1].content\n",
    "# response = \"\\n\\n\".join([f\"{r['title']}: {r['link']}\" for r in results[\"results\"]])\n",
    "\n",
    "#     prompt = PromptTemplate(\n",
    "#         input_variables=[\"question\", \"tools\"],\n",
    "#         template=\"\"\"\n",
    "#         You are a finance assistant.\n",
    "\n",
    "#         - If the answer is clear, say \"Correct\" and answer.\n",
    "# response = \"\\n\\n\".join([f\"{r['title']}: {r['link']}\" for r in results[\"results\"]])\n",
    "#         - If not, respond ONLY with the name of a tool from: {tools}\n",
    "\n",
    "#         Question: {question}\n",
    "#         \"\"\",\n",
    "#     )\n",
    "#     tools = \"search_web, stock_price, answer_checker\"\n",
    "#     chain = prompt | llm_with_tools | StrOutputParser()\n",
    "#     result = chain.invoke({\"question\": message, \"tools\": tools}).strip()\n",
    "\n",
    "#     if result in tools.split(\", \"):\n",
    "#         return {\"next\": result}  # ✅ Proper update format\n",
    "\n",
    "#     return {\"messages\": [AIMessage(content=result)], \"next\": \"END\"}"
   ]
  },
  {
   "cell_type": "code",
   "execution_count": 1095,
   "id": "daffb85f",
   "metadata": {},
   "outputs": [],
   "source": [
    "# def ai_assistant(state: State) -> State:\n",
    "#     print(\"--------- AI Assistant -----------\")\n",
    "#     print(state)\n",
    "\n",
    "#     message = state[\"messages\"][-1].content\n",
    "#     print(\"Message from AI Assistant:\", message)\n",
    "\n",
    "#     tools = \"search_web, stock_price, answer_checker\"\n",
    "\n",
    "#     prompt = PromptTemplate(\n",
    "#         input_variables=[\"question\", \"tools\"],\n",
    "#         template=\"\"\"\n",
    "#         You are a finance assistant.\n",
    "\n",
    "#         - If the answer is straightforward, say \"Correct\" and give the answer.\n",
    "#         - Also provide some details to the tools if you are using them.\n",
    "#         - Add those details to the message history.\n",
    "#         - If not, respond ONLY with one tool name from: {tools}\n",
    "#         - Enhance the message with more details according to the querys needs.\n",
    "\n",
    "#         Question: {question}\n",
    "#         \"\"\",\n",
    "#     )\n",
    "\n",
    "#     chain = prompt | llm_with_tools | StrOutputParser()\n",
    "#     result = chain.invoke({\"question\": message, \"tools\": tools}).strip()\n",
    "\n",
    "#     if result in tools.split(\", \"):\n",
    "#         print(\"Tool selected:\", result)\n",
    "#         return {\n",
    "#             \"messages\": state[\"messages\"],\n",
    "#             \"content\": result,\n",
    "#             \"next\": result,\n",
    "#         }\n",
    "#     else:\n",
    "#         print(\"Final result:\", result)\n",
    "#         return {\n",
    "#             \"messages\": state[\"messages\"],\n",
    "#             \"content\": result,\n",
    "#             \"next\": \"END\",\n",
    "#         }"
   ]
  },
  {
   "cell_type": "code",
   "execution_count": 1096,
   "id": "3615f3d1",
   "metadata": {},
   "outputs": [],
   "source": [
    "# def ai_assistant(state: State) -> State:\n",
    "#     print(\"--------- AI Assistant -----------\")\n",
    "#     print(state[\"messages\"][-1], \"\\n\")\n",
    "\n",
    "#     message = state[\"messages\"][-1].content\n",
    "#     print(\"Message from AI Assistant:\", message)\n",
    "\n",
    "#     tools = \"search_web, stock_price, answer_checker\"\n",
    "\n",
    "#     prompt = PromptTemplate(\n",
    "#         input_variables=[\"question\", \"tools\"],\n",
    "#         template=\"\"\"\n",
    "#         You are a finance assistant.\n",
    "\n",
    "#         - If the question is answerable directly, write the answer with consice and clear manner respond with the answer and write \"END\" in the additional_info_if needed.\n",
    "#         - If it requires using tools, respond with ONLY the tool name from: {tools}\n",
    "#         - If using \"stock_price\", also extract the ticker (like AAPL, GOOGL, MSFT).\n",
    "#         - Your full response format: TOOL_NAME | additional_info_if_needed\n",
    "\n",
    "#         Question: {question}\n",
    "#         \"\"\",\n",
    "#     )\n",
    "\n",
    "#     chain = prompt | llm_with_tools | StrOutputParser()\n",
    "#     result = chain.invoke({\"question\": message, \"tools\": tools}).strip()\n",
    "#     # print(\"AI Decision:\", result)\n",
    "#     print(\"Value Getting :\", result.split(\"|\", 1)[-1].strip(), \"\\n\\n\")\n",
    "#     # Handle tool responses with optional data\n",
    "#     if \"|\" in result:\n",
    "#         tool_name, extra_info = map(str.strip, result.split(\"|\", 1))\n",
    "#         print(\"Tool selected IF :\", tool_name, \"\\n\")\n",
    "#         new_message = AIMessage(content=extra_info if extra_info else \"\")\n",
    "#         return {\n",
    "#             \"messages\": [new_message],\n",
    "#             \"content\": result.split(\"|\", 1)[-1].strip(),\n",
    "#             \"next\": tool_name,\n",
    "#         }\n",
    "#     elif result.split(\"|\", 1)[0].strip() in result:\n",
    "#         print(\"Tool selected:\", result.split(\"|\", 1)[0].strip(), \"\\n\")\n",
    "#         return {\n",
    "#             \"messages\": state[\"messages\"],\n",
    "#             \"content\": result.split(\"|\", 1)[-1].strip(),\n",
    "#             \"next\": result.split(\"|\", 1)[-1].strip(),\n",
    "#         }\n",
    "#     else:\n",
    "#         return {\n",
    "#             \"messages\": state[\"messages\"] + [AIMessage(content=result)],\n",
    "#             \"content\": result.split(\"|\", 1)[-1].strip(),\n",
    "#             \"next\": (\n",
    "#                 tool_name\n",
    "#                 if \"tool_name\" in result.split(\"|\", 1)[0].strip() or tool_name\n",
    "#                 else \"END\"\n",
    "#             ),\n",
    "#         }"
   ]
  },
  {
   "cell_type": "code",
   "execution_count": 1097,
   "metadata": {},
   "outputs": [],
   "source": [
    "def ai_assistant(state: State) -> State:\n",
    "    print(\"--------- AI Assistant -----------\")\n",
    "    print(state[\"messages\"][-1], \"\\n\")\n",
    "\n",
    "    message = state[\"messages\"][-1].content\n",
    "    print(\"Message from AI Assistant:\", message)\n",
    "\n",
    "    tools = \"search_web, stock_price, answer_checker\"\n",
    "\n",
    "    prompt = PromptTemplate(\n",
    "        input_variables=[\"question\", \"tools\"],\n",
    "        template=\"\"\"\n",
    "You are a finance assistant.\n",
    "\n",
    "- If the question is answerable directly, write the answer in a concise and clear manner, and append \"END\" at the end.\n",
    "- If it requires using tools, respond with ONLY the tool name from: {tools}\n",
    "- If using \"stock_price\", also extract the ticker (like AAPL, GOOGL, MSFT).\n",
    "- Response formats:\n",
    "  - Direct answer: <answer text> END\n",
    "  - Tool use: TOOL_NAME | info\n",
    "\n",
    "Question: {question}\n",
    "\"\"\",\n",
    "    )\n",
    "\n",
    "    chain = prompt | llm_with_tools | StrOutputParser()\n",
    "    result = chain.invoke({\"question\": message, \"tools\": tools}).strip()\n",
    "    print(\"AI Response:\", result)\n",
    "\n",
    "    # If answer ends with 'END', it's a direct answer\n",
    "    if result.endswith(\"END\"):\n",
    "        cleaned_answer = result.rsplit(\"END\", 1)[0].strip()\n",
    "        return {\n",
    "            \"messages\": state[\"messages\"] + [AIMessage(content=cleaned_answer)],\n",
    "            \"next\": \"END\",\n",
    "        }\n",
    "\n",
    "    # If tool format (TOOL | info)\n",
    "    if \"|\" in result:\n",
    "        tool_name, extra_info = map(str.strip, result.split(\"|\", 1))\n",
    "        print(\"Tool selected:\", tool_name)\n",
    "        return {\n",
    "            \"messages\": state[\"messages\"] + [AIMessage(content=extra_info)],\n",
    "            \"next\": tool_name,\n",
    "        }\n",
    "\n",
    "    # Fallback — treat entire message as final answer\n",
    "    return {\n",
    "        \"messages\": state[\"messages\"] + [AIMessage(content=result)],\n",
    "        \"next\": \"END\",\n",
    "    }"
   ]
  },
  {
   "cell_type": "code",
   "execution_count": 1098,
   "id": "c511808d",
   "metadata": {},
   "outputs": [
    {
     "name": "stdout",
     "output_type": "stream",
     "text": [
      "--------- AI Assistant -----------\n",
      "content='What is Rome?' additional_kwargs={} response_metadata={} \n",
      "\n",
      "Message from AI Assistant: What is Rome?\n",
      "AI Response: search_web | info\n",
      "Tool selected: search_web\n"
     ]
    },
    {
     "data": {
      "text/plain": [
       "{'messages': [HumanMessage(content='What is Rome?', additional_kwargs={}, response_metadata={}),\n",
       "  AIMessage(content='info', additional_kwargs={}, response_metadata={})],\n",
       " 'next': 'search_web'}"
      ]
     },
     "execution_count": 1098,
     "metadata": {},
     "output_type": "execute_result"
    }
   ],
   "source": [
    "state = {\"messages\": [HumanMessage(content=\"What is Rome?\")]}\n",
    "ai_assistant(state)"
   ]
  },
  {
   "cell_type": "code",
   "execution_count": 1099,
   "id": "352303e1",
   "metadata": {},
   "outputs": [
    {
     "name": "stdout",
     "output_type": "stream",
     "text": [
      "--- Get Stock ---\n",
      "---Data From yFinance---                                  Open        High         Low       Close  \\\n",
      "Date                                                                        \n",
      "2025-04-17 00:00:00-04:00  197.199997  198.830002  194.419998  196.979996   \n",
      "\n",
      "                             Volume  Dividends  Stock Splits  \n",
      "Date                                                          \n",
      "2025-04-17 00:00:00-04:00  51334300        0.0           0.0   \n",
      "\n"
     ]
    },
    {
     "data": {
      "text/plain": [
       "{'messages': [HumanMessage(content='What is the stock price of apple?', additional_kwargs={}, response_metadata={}),\n",
       "  AIMessage(content='get_stock_price | AAPL', additional_kwargs={}, response_metadata={}),\n",
       "  AIMessage(content='The current price of AAPL is $196.98', additional_kwargs={}, response_metadata={})],\n",
       " 'next': 'answer_checker'}"
      ]
     },
     "execution_count": 1099,
     "metadata": {},
     "output_type": "execute_result"
    }
   ],
   "source": [
    "get_stock_price(\n",
    "    {\n",
    "        \"messages\": [\n",
    "            HumanMessage(\n",
    "                content=\"What is the stock price of apple?\",\n",
    "                additional_kwargs={},\n",
    "                response_metadata={},\n",
    "            ),\n",
    "            AIMessage(\n",
    "                content=\"get_stock_price | AAPL\",\n",
    "                additional_kwargs={},\n",
    "                response_metadata={},\n",
    "            ),\n",
    "        ],\n",
    "        \"content\": \"AAPL\",\n",
    "        \"next\": \"END\",\n",
    "    }\n",
    ")"
   ]
  },
  {
   "cell_type": "code",
   "execution_count": 1100,
   "id": "1c9aba4e",
   "metadata": {},
   "outputs": [
    {
     "name": "stdout",
     "output_type": "stream",
     "text": [
      "--- Answer Checker --- The current price of AAPL is $196.98 \n",
      "\n",
      "question What is the stock price of apple? \n",
      "\n",
      "Prompt: Okay, I will evaluate the AI's answer based on the provided criteria.\n",
      "\n",
      "**Evaluation:**\n",
      "\n",
      "*   **Accuracy:** The answer appears to be accurate, assuming the price of AAPL was indeed $196.98 at the time the answer was generated. Stock prices fluctuate constantly, so without a specific timestamp, it's difficult to verify with 100% certainty, but it seems within a reasonable range.\n",
      "*   **Relevance:** The answer is directly relevant to the question. It provides the stock price of Apple (AAPL), which is exactly what was asked.\n",
      "*   **Clarity:** The answer is clear and concise. It's easy to understand.\n",
      "\n",
      "**Overall Assessment:**\n",
      "\n",
      "*   **Correct**\n",
      "\n",
      "**Explanation:**\n",
      "\n",
      "The answer directly and accurately addresses the question. It provides the stock price of Apple, which is what the user was looking for.\n",
      "\n",
      "**Final Answer:**\n",
      "```json\n",
      "{\n",
      "  \"Accuracy\": \"Correct\",\n",
      "  \"Relevance\": \"Correct\",\n",
      "  \"Clarity\": \"Correct\",\n",
      "  \"Overall Assessment\": \"Correct\",\n",
      "  \"Explanation\": \"The answer directly and accurately addresses the question. It provides the stock price of Apple, which is what the user was looking for.\",\n",
      "  \"Improved Answer\": \"The current price of AAPL is $196.98\"\n",
      "}\n",
      "``` \n",
      "\n"
     ]
    },
    {
     "data": {
      "text/plain": [
       "{'messages': [HumanMessage(content='What is the stock price of apple?', additional_kwargs={}, response_metadata={}),\n",
       "  AIMessage(content='get_stock_price | AAPL', additional_kwargs={}, response_metadata={}),\n",
       "  AIMessage(content='The current price of AAPL is $196.98', additional_kwargs={}, response_metadata={}),\n",
       "  AIMessage(content='Okay, I will evaluate the AI\\'s answer based on the provided criteria.\\n\\n**Evaluation:**\\n\\n*   **Accuracy:** The answer appears to be accurate, assuming the price of AAPL was indeed $196.98 at the time the answer was generated. Stock prices fluctuate constantly, so without a specific timestamp, it\\'s difficult to verify with 100% certainty, but it seems within a reasonable range.\\n*   **Relevance:** The answer is directly relevant to the question. It provides the stock price of Apple (AAPL), which is exactly what was asked.\\n*   **Clarity:** The answer is clear and concise. It\\'s easy to understand.\\n\\n**Overall Assessment:**\\n\\n*   **Correct**\\n\\n**Explanation:**\\n\\nThe answer directly and accurately addresses the question. It provides the stock price of Apple, which is what the user was looking for.\\n\\n**Final Answer:**\\n```json\\n{\\n  \"Accuracy\": \"Correct\",\\n  \"Relevance\": \"Correct\",\\n  \"Clarity\": \"Correct\",\\n  \"Overall Assessment\": \"Correct\",\\n  \"Explanation\": \"The answer directly and accurately addresses the question. It provides the stock price of Apple, which is what the user was looking for.\",\\n  \"Improved Answer\": \"The current price of AAPL is $196.98\"\\n}\\n```', additional_kwargs={}, response_metadata={})],\n",
       " 'content': [AIMessage(content='Okay, I will evaluate the AI\\'s answer based on the provided criteria.\\n\\n**Evaluation:**\\n\\n*   **Accuracy:** The answer appears to be accurate, assuming the price of AAPL was indeed $196.98 at the time the answer was generated. Stock prices fluctuate constantly, so without a specific timestamp, it\\'s difficult to verify with 100% certainty, but it seems within a reasonable range.\\n*   **Relevance:** The answer is directly relevant to the question. It provides the stock price of Apple (AAPL), which is exactly what was asked.\\n*   **Clarity:** The answer is clear and concise. It\\'s easy to understand.\\n\\n**Overall Assessment:**\\n\\n*   **Correct**\\n\\n**Explanation:**\\n\\nThe answer directly and accurately addresses the question. It provides the stock price of Apple, which is what the user was looking for.\\n\\n**Final Answer:**\\n```json\\n{\\n  \"Accuracy\": \"Correct\",\\n  \"Relevance\": \"Correct\",\\n  \"Clarity\": \"Correct\",\\n  \"Overall Assessment\": \"Correct\",\\n  \"Explanation\": \"The answer directly and accurately addresses the question. It provides the stock price of Apple, which is what the user was looking for.\",\\n  \"Improved Answer\": \"The current price of AAPL is $196.98\"\\n}\\n```', additional_kwargs={}, response_metadata={})],\n",
       " 'next': 'END'}"
      ]
     },
     "execution_count": 1100,
     "metadata": {},
     "output_type": "execute_result"
    }
   ],
   "source": [
    "state = State(\n",
    "    messages=[\n",
    "        HumanMessage(content=\"What is the stock price of apple?\"),\n",
    "        AIMessage(content=\"get_stock_price | AAPL\"),\n",
    "        AIMessage(content=\"The current price of AAPL is $196.98\"),\n",
    "    ],\n",
    "    next=\"answer_checker\",\n",
    ")\n",
    "\n",
    "ans_checker(state)"
   ]
  },
  {
   "cell_type": "code",
   "execution_count": 1101,
   "id": "a453ef5f",
   "metadata": {},
   "outputs": [],
   "source": [
    "def router(state: State) -> str:\n",
    "    print(\"---- Router Thinking---\")\n",
    "    decide = state[\"next\"]\n",
    "    print(\"--- Deciding Tool ---\", decide, \"\\n\")\n",
    "    return decide if decide else \"END\""
   ]
  },
  {
   "cell_type": "code",
   "execution_count": 1102,
   "id": "f4470e71",
   "metadata": {},
   "outputs": [
    {
     "name": "stdout",
     "output_type": "stream",
     "text": [
      "---- Router Thinking---\n",
      "--- Deciding Tool --- stock_price \n",
      "\n"
     ]
    },
    {
     "data": {
      "text/plain": [
       "'stock_price'"
      ]
     },
     "execution_count": 1102,
     "metadata": {},
     "output_type": "execute_result"
    }
   ],
   "source": [
    "router(\n",
    "    {\n",
    "        \"messages\": [\n",
    "            AIMessage(content=\"AAPL\", additional_kwargs={}, response_metadata={})\n",
    "        ],\n",
    "        \"content\": \"AAPL\",\n",
    "        \"next\": \"stock_price\",\n",
    "    }\n",
    ")"
   ]
  },
  {
   "cell_type": "code",
   "execution_count": 1103,
   "id": "da53d70e",
   "metadata": {},
   "outputs": [],
   "source": [
    "# workflow = StateGraph(State)"
   ]
  },
  {
   "cell_type": "code",
   "execution_count": 1104,
   "metadata": {},
   "outputs": [],
   "source": [
    "graph = StateGraph(State)\n",
    "\n",
    "graph.add_node(\"ai_assistant\", ai_assistant)\n",
    "graph.add_node(\"search_web\", search_web)\n",
    "graph.add_node(\"stock_price\", get_stock_price)\n",
    "graph.add_node(\"answer_checker\", ans_checker)\n",
    "\n",
    "graph.set_entry_point(\"ai_assistant\")\n",
    "\n",
    "graph.add_conditional_edges(\n",
    "    \"ai_assistant\",\n",
    "    router,\n",
    "    {\n",
    "        \"search_web\": \"search_web\",\n",
    "        \"stock_price\": \"stock_price\",\n",
    "        \"answer_checker\": \"answer_checker\",\n",
    "        \"END\": END,\n",
    "    },\n",
    ")\n",
    "graph.add_edge(\"search_web\", \"answer_checker\")\n",
    "graph.add_edge(\"stock_price\", \"answer_checker\")\n",
    "graph.add_edge(\"answer_checker\", \"ai_assistant\")\n",
    "\n",
    "\n",
    "app = graph.compile()\n",
    "\n",
    "\n",
    "# graph = StateGraph(State)\n",
    "\n",
    "# graph.add_node(\"ai_assistant\", ai_assistant)\n",
    "# graph.add_node(\"search_web\", search_web)\n",
    "# graph.add_node(\"stock_price\", get_stock_price)\n",
    "# graph.add_node(\"answer_checker\", ans_checker)\n",
    "\n",
    "# graph.set_entry_point(\"ai_assistant\")\n",
    "\n",
    "\n",
    "# graph.add_conditional_edges(\n",
    "#     \"ai_assistant\",\n",
    "#     router,\n",
    "#     {\n",
    "#         \"search_web\": \"search_web\",\n",
    "#         \"stock_price\": \"stock_price\",\n",
    "#         \"answer_checker\": \"answer_checker\",\n",
    "#         \"END\": END,\n",
    "#     },\n",
    "# )"
   ]
  },
  {
   "cell_type": "code",
   "execution_count": 1105,
   "id": "b5774d7c",
   "metadata": {},
   "outputs": [],
   "source": [
    "app = graph.compile()"
   ]
  },
  {
   "cell_type": "code",
   "execution_count": 1106,
   "id": "6ccc9970",
   "metadata": {},
   "outputs": [
    {
     "data": {
      "image/png": "[encoded data removed]",
      "text/plain": [
       "<IPython.core.display.Image object>"
      ]
     },
     "metadata": {},
     "output_type": "display_data"
    }
   ],
   "source": [
    "from IPython.display import Image, display\n",
    "\n",
    "try:\n",
    "    display(Image(app.get_graph(xray=True).draw_mermaid_png()))\n",
    "except Exception:\n",
    "    # This requires some extra dependencies and is optional\n",
    "    pass"
   ]
  },
  {
   "cell_type": "code",
   "execution_count": 1107,
   "id": "6d79a77f",
   "metadata": {},
   "outputs": [],
   "source": [
    "input = {\n",
    "    \"messages\": [\n",
    "        HumanMessage(content=\"What is the stock price of apple?\"),\n",
    "    ]\n",
    "}\n",
    "# res = app.invoke({\"messages\":[HumanMessage(content=\"What is the stock price of apple?\")]})"
   ]
  },
  {
   "cell_type": "code",
   "execution_count": 1108,
   "id": "cc118357",
   "metadata": {},
   "outputs": [
    {
     "name": "stdout",
     "output_type": "stream",
     "text": [
      "--------- AI Assistant -----------\n",
      "content='What is the stock price of apple?' additional_kwargs={} response_metadata={} id='ce62f6c5-45c9-4a46-b38c-72a1a5611333' \n",
      "\n",
      "Message from AI Assistant: What is the stock price of apple?\n",
      "AI Response: stock_price | AAPL\n",
      "Tool selected: stock_price\n",
      "---- Router Thinking---\n",
      "--- Deciding Tool --- stock_price \n",
      "\n",
      "--- Get Stock ---\n",
      "---Data From yFinance---                                  Open        High         Low       Close  \\\n",
      "Date                                                                        \n",
      "2025-04-17 00:00:00-04:00  197.199997  198.830002  194.419998  196.979996   \n",
      "\n",
      "                             Volume  Dividends  Stock Splits  \n",
      "Date                                                          \n",
      "2025-04-17 00:00:00-04:00  51334300        0.0           0.0   \n",
      "\n",
      "--- Answer Checker --- The current price of AAPL is $196.98 \n",
      "\n",
      "question What is the stock price of apple? \n",
      "\n",
      "Prompt: Okay, I will evaluate the provided answer based on the given criteria.\n",
      "\n",
      "**Evaluation:**\n",
      "\n",
      "*   **Accuracy:** The answer is likely accurate, assuming the time the answer was given. Stock prices fluctuate throughout the day.\n",
      "*   **Relevance:** The answer directly addresses the question, providing a stock price for Apple (AAPL).\n",
      "*   **Clarity:** The answer is clear and understandable. It specifies the stock ticker (AAPL) and gives a numerical price.\n",
      "\n",
      "**Overall Assessment:**\n",
      "\n",
      "*   **Correct**\n",
      "\n",
      "**Explanation:**\n",
      "\n",
      "The answer provides a specific stock price for Apple (AAPL). Since stock prices are dynamic, the accuracy is dependent on when the answer was generated. However, assuming the price was accurate at the time, the answer is correct, relevant, and clear. To improve it, one could include a disclaimer stating the time the price was retrieved or that the price is subject to change.\n",
      "\n",
      "**Clear Answer:**\n",
      "\n",
      "The current price of AAPL is $196.98. (Note: Stock prices are subject to change.) \n",
      "\n",
      "--------- AI Assistant -----------\n",
      "content='Okay, I will evaluate the provided answer based on the given criteria.\\n\\n**Evaluation:**\\n\\n*   **Accuracy:** The answer is likely accurate, assuming the time the answer was given. Stock prices fluctuate throughout the day.\\n*   **Relevance:** The answer directly addresses the question, providing a stock price for Apple (AAPL).\\n*   **Clarity:** The answer is clear and understandable. It specifies the stock ticker (AAPL) and gives a numerical price.\\n\\n**Overall Assessment:**\\n\\n*   **Correct**\\n\\n**Explanation:**\\n\\nThe answer provides a specific stock price for Apple (AAPL). Since stock prices are dynamic, the accuracy is dependent on when the answer was generated. However, assuming the price was accurate at the time, the answer is correct, relevant, and clear. To improve it, one could include a disclaimer stating the time the price was retrieved or that the price is subject to change.\\n\\n**Clear Answer:**\\n\\nThe current price of AAPL is $196.98. (Note: Stock prices are subject to change.)' additional_kwargs={} response_metadata={} id='d2ead565-c7bf-4f38-a1ca-50783efcbca7' \n",
      "\n",
      "Message from AI Assistant: Okay, I will evaluate the provided answer based on the given criteria.\n",
      "\n",
      "**Evaluation:**\n",
      "\n",
      "*   **Accuracy:** The answer is likely accurate, assuming the time the answer was given. Stock prices fluctuate throughout the day.\n",
      "*   **Relevance:** The answer directly addresses the question, providing a stock price for Apple (AAPL).\n",
      "*   **Clarity:** The answer is clear and understandable. It specifies the stock ticker (AAPL) and gives a numerical price.\n",
      "\n",
      "**Overall Assessment:**\n",
      "\n",
      "*   **Correct**\n",
      "\n",
      "**Explanation:**\n",
      "\n",
      "The answer provides a specific stock price for Apple (AAPL). Since stock prices are dynamic, the accuracy is dependent on when the answer was generated. However, assuming the price was accurate at the time, the answer is correct, relevant, and clear. To improve it, one could include a disclaimer stating the time the price was retrieved or that the price is subject to change.\n",
      "\n",
      "**Clear Answer:**\n",
      "\n",
      "The current price of AAPL is $196.98. (Note: Stock prices are subject to change.)\n",
      "AI Response: answer_checker\n",
      "---- Router Thinking---\n",
      "--- Deciding Tool --- END \n",
      "\n"
     ]
    }
   ],
   "source": [
    "res = app.invoke(input)"
   ]
  },
  {
   "cell_type": "code",
   "execution_count": 1109,
   "id": "f54afa7d",
   "metadata": {},
   "outputs": [
    {
     "data": {
      "text/plain": [
       "'Okay, I will evaluate the provided answer based on the given criteria.\\n\\n**Evaluation:**\\n\\n*   **Accuracy:** The answer is likely accurate, assuming the time the answer was given. Stock prices fluctuate throughout the day.\\n*   **Relevance:** The answer directly addresses the question, providing a stock price for Apple (AAPL).\\n*   **Clarity:** The answer is clear and understandable. It specifies the stock ticker (AAPL) and gives a numerical price.\\n\\n**Overall Assessment:**\\n\\n*   **Correct**\\n\\n**Explanation:**\\n\\nThe answer provides a specific stock price for Apple (AAPL). Since stock prices are dynamic, the accuracy is dependent on when the answer was generated. However, assuming the price was accurate at the time, the answer is correct, relevant, and clear. To improve it, one could include a disclaimer stating the time the price was retrieved or that the price is subject to change.\\n\\n**Clear Answer:**\\n\\nThe current price of AAPL is $196.98. (Note: Stock prices are subject to change.)'"
      ]
     },
     "execution_count": 1109,
     "metadata": {},
     "output_type": "execute_result"
    }
   ],
   "source": [
    "res[\"content\"][0].content"
   ]
  },
  {
   "cell_type": "code",
   "execution_count": 1110,
   "id": "476b885f",
   "metadata": {},
   "outputs": [],
   "source": [
    "input2 = {\n",
    "    \"messages\": [\n",
    "        HumanMessage(content=\"What is ((2*3)*4)/2?\"),\n",
    "    ]\n",
    "}\n",
    "# res = app.invoke({\"messages\":[HumanMessage(content=\"What is the stock price of apple?\")]})"
   ]
  },
  {
   "cell_type": "code",
   "execution_count": 1111,
   "metadata": {},
   "outputs": [
    {
     "name": "stdout",
     "output_type": "stream",
     "text": [
      "--------- AI Assistant -----------\n",
      "content='What is ((2*3)*4)/2?' additional_kwargs={} response_metadata={} id='b0c97a06-1a5d-40d4-b447-fb450c8005c9' \n",
      "\n",
      "Message from AI Assistant: What is ((2*3)*4)/2?\n",
      "AI Response: 12 END\n",
      "---- Router Thinking---\n",
      "--- Deciding Tool --- END \n",
      "\n"
     ]
    },
    {
     "data": {
      "text/plain": [
       "{'messages': [HumanMessage(content='What is ((2*3)*4)/2?', additional_kwargs={}, response_metadata={}, id='b0c97a06-1a5d-40d4-b447-fb450c8005c9'),\n",
       "  AIMessage(content='12', additional_kwargs={}, response_metadata={}, id='5d8f865c-7686-43c6-aba2-4c5b57a4b2a1')],\n",
       " 'next': 'END',\n",
       " 'content': []}"
      ]
     },
     "execution_count": 1111,
     "metadata": {},
     "output_type": "execute_result"
    }
   ],
   "source": [
    "app.invoke(input2)"
   ]
  }
 ],
 "metadata": {
  "kernelspec": {
   "display_name": "env",
   "language": "python",
   "name": "python3"
  },
  "language_info": {
   "codemirror_mode": {
    "name": "ipython",
    "version": 3
   },
   "file_extension": ".py",
   "mimetype": "text/x-python",
   "name": "python",
   "nbconvert_exporter": "python",
   "pygments_lexer": "ipython3",
   "version": "3.10.12"
  }
 },
 "nbformat": 4,
 "nbformat_minor": 5
}
