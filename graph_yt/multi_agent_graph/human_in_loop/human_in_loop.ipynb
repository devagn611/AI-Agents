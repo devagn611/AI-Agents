{
 "cells": [
  {
   "cell_type": "code",
   "execution_count": 317,
   "metadata": {},
   "outputs": [],
   "source": [
    "from typing import Annotated\n",
    "import operator,json\n",
    "from typing import TypedDict, Annotated, Sequence\n",
    "from typing_extensions import TypedDict\n",
    "from langchain_core.messages import BaseMessage\n",
    "from langgraph.checkpoint.memory import MemorySaver\n",
    "from langgraph.graph import StateGraph,END,START\n",
    "from langgraph.graph.message import add_messages\n",
    "from langgraph.prebuilt import ToolNode, tools_condition\n",
    "from langchain_core.tools import tool\n",
    "from langchain_community.tools.tavily_search import TavilySearchResults"
   ]
  },
  {
   "cell_type": "code",
   "execution_count": 318,
   "metadata": {},
   "outputs": [],
   "source": [
    "from langchain_groq import ChatGroq\n",
    "llm=ChatGroq(model_name=\"Gemma2-9b-It\")"
   ]
  },
  {
   "cell_type": "code",
   "execution_count": 319,
   "metadata": {},
   "outputs": [
    {
     "data": {
      "text/plain": [
       "'Hi! 👋  How can I help you today? 😊\\n'"
      ]
     },
     "execution_count": 319,
     "metadata": {},
     "output_type": "execute_result"
    }
   ],
   "source": [
    "llm.invoke(\"hi\").content"
   ]
  },
  {
   "cell_type": "code",
   "execution_count": 320,
   "metadata": {},
   "outputs": [],
   "source": [
    "@tool\n",
    "def multiply(first_number:int, second_number:int)->int:\n",
    "    \"\"\"multiply two integer number\"\"\"\n",
    "    return first_number * second_number"
   ]
  },
  {
   "cell_type": "code",
   "execution_count": 321,
   "metadata": {},
   "outputs": [],
   "source": [
    "@tool\n",
    "def search(query:str):\n",
    "    \"\"\"perform the web search on the user query\"\"\"\n",
    "    tavily=TavilySearchResults()\n",
    "    result=tavily.invoke(query)\n",
    "    return result\n",
    "\n",
    "# @tool\n",
    "# def search(query:str):\n",
    "#     \"\"\"Perform the web search on the query\"\"\"\n",
    "#     return TavilySearchResults().invoke(query)[0]"
   ]
  },
  {
   "cell_type": "code",
   "execution_count": 322,
   "metadata": {},
   "outputs": [
    {
     "data": {
      "text/plain": [
       "[{'title': '\"Hello, World!\" program - Wikipedia',\n",
       "  'url': 'https://en.wikipedia.org/wiki/%22Hello,_World!%22_program',\n",
       "  'content': 'A \"Hello, World!\" program is usually a simple computer program that emits displays to the screen (often the console) a message similar to \"Hello, World!\". A small piece of code in most general-purpose programming languages, this program is used to illustrate a language\\'s basic syntax. Such program is often the first written by a student of a new programming language,[1] but such a program can also be used as a sanity check to ensure that the computer software intended to compile or run source [...] External links\\n[edit]\\n\\nWikimedia Commons has media related to Hello World.\\n\\nThe Wikibook Computer Programming has a page on the topic of: Hello world [...] The program above prints hello, world! on the terminal, including a newline character. The phrase is divided into multiple variables because in B a character constant is limited to four ASCII characters. The previous example in the tutorial printed hi! on the terminal, and the phrase hello, world! was introduced as a slightly longer greeting that required several character constants for its expression.',\n",
       "  'score': 0.8091708},\n",
       " {'title': 'Hello World | Code.org',\n",
       "  'url': 'https://code.org/helloworld',\n",
       "  'content': 'Cookie Notice\\nTerms of Service\\nHelp and support\\nReport a problem\\nCheck out the new Transformers One theme of Hello World!\\nHello World\\nSay hello to the world of computer science with this introductory activity that equips students with the basic coding skills and confidence to create apps.\\n \\n× Close',\n",
       "  'score': 0.70823324},\n",
       " {'title': 'Hello World - Raspberry Pi Foundation',\n",
       "  'url': 'https://www.raspberrypi.org/hello-world',\n",
       "  'content': 'The Big Book of Computing Pedagogy: Hello World’s first-ever special edition focuses on approaches to teaching computing in the classroom, and includes some of our favourite pedagogically themed articles from previous Hello World issues, as well as a couple of never-seen-before features. This special issue aims to be your companion to learning about tried-and-tested approaches to teaching computing. It bridges the gap between research and practice, giving you accessible chunks of research, [...] Contact us\\nSend us your questions about Hello World.\\nContact formchevron_right\\nSign up to our monthly newsletter\\nYou can expect bite-size summaries of all items, plus links for you to explore more in your own time.\\nEach newsletter includes exciting computing education ideas and insights, some of our favourite Hello World articles, and news about the free education resources, research, community stories, and events from the Raspberry Pi Foundation. [...] Podcast\\nSubscribe to the Hello World podcast\\nHear directly from the educators behind our articles. Listen on the move and never miss an episode by subscribing via your preferred app.\\n  \\nListen to our podcast right now\\nYou can explore our past episodes now. We talk to Hello World authors to delve a little deeper into key topics — and have some fun along the way.\\nExplore all podcast episodesopen_in_new',\n",
       "  'score': 0.6907474},\n",
       " {'title': 'Hello World - GitHub Docs',\n",
       "  'url': 'https://docs.github.com/get-started/quickstart/hello-world',\n",
       "  'content': 'Your hello-world repository can be a place where you store ideas, resources, or even share and discuss things with others. [...] In the upper-right corner of any page, select , then click New repository.\\n\\n\\n\\nIn the \"Repository name\" box, type hello-world.\\n\\n\\nIn the \"Description\" box, type a short description. For example, type \"This repository is for practicing the GitHub Flow.\"\\n\\n\\nSelect whether your repository will be Public or Private.\\n\\n\\nSelect Add a README file.\\n\\n\\nClick Create repository.',\n",
       "  'score': 0.59655124},\n",
       " {'title': 'Total immersion, Serious fun! with Hello-World!',\n",
       "  'url': 'https://www.hello-world.com/',\n",
       "  'content': 'Hello-world.com: Learn languages with games, songs and vocabulary, Total immersion, Serious fun! with Hello-World!',\n",
       "  'score': 0.58664185}]"
      ]
     },
     "execution_count": 322,
     "metadata": {},
     "output_type": "execute_result"
    }
   ],
   "source": [
    "search.invoke(\"hello world\") # this will return a list of search results"
   ]
  },
  {
   "cell_type": "code",
   "execution_count": 323,
   "metadata": {},
   "outputs": [],
   "source": [
    "tools=[search,multiply]"
   ]
  },
  {
   "cell_type": "code",
   "execution_count": 324,
   "metadata": {},
   "outputs": [],
   "source": [
    "model_with_tools=llm.bind_tools(tools)"
   ]
  },
  {
   "cell_type": "code",
   "execution_count": 325,
   "metadata": {},
   "outputs": [],
   "source": [
    "tools_mapping={tool.name : tool for tool in tools}"
   ]
  },
  {
   "cell_type": "code",
   "execution_count": 326,
   "metadata": {},
   "outputs": [
    {
     "data": {
      "text/plain": [
       "{'search': StructuredTool(name='search', description='perform the web search on the user query', args_schema=<class 'langchain_core.utils.pydantic.search'>, func=<function search at 0x70fb1f417eb0>),\n",
       " 'multiply': StructuredTool(name='multiply', description='multiply two integer number', args_schema=<class 'langchain_core.utils.pydantic.multiply'>, func=<function multiply at 0x70fb1f417130>)}"
      ]
     },
     "execution_count": 326,
     "metadata": {},
     "output_type": "execute_result"
    }
   ],
   "source": [
    "tools_mapping"
   ]
  },
  {
   "cell_type": "code",
   "execution_count": null,
   "metadata": {},
   "outputs": [],
   "source": []
  },
  {
   "cell_type": "code",
   "execution_count": 327,
   "metadata": {},
   "outputs": [],
   "source": [
    "class AgentState(TypedDict):\n",
    "    messages: Annotated[Sequence[BaseMessage], operator.add]\n",
    "\n",
    "\n",
    "# class AgentState(TypedDict):\n",
    "#     \"\"\"Agent state.\"\"\"\n",
    "#     # memory: MemorySaver\n",
    "#     # graph: StateGraph\n",
    "#     # current_node: str\n",
    "#     # current_tool: str\n",
    "#     # current_message: BaseMessage\n",
    "#     messages:Annotated[Sequence[BaseMessage], operator.add]"
   ]
  },
  {
   "cell_type": "code",
   "execution_count": 328,
   "metadata": {},
   "outputs": [],
   "source": [
    "def invoke_model(state:AgentState):\n",
    "    messages = state['messages']\n",
    "    question = messages[-1]   ## Fetching the user question\n",
    "    return {\"messages\":[model_with_tools.invoke(question)]}"
   ]
  },
  {
   "cell_type": "code",
   "execution_count": 329,
   "metadata": {},
   "outputs": [],
   "source": [
    "# def invoke_tool(state:AgentState):\n",
    "#     tool_details= state[\"messages\"][-1].additional_kwargs.get(\"tool_calls\",[])\n",
    "#     if tool_details is None:\n",
    "#         raise ValueError(\"No tool calls found in the message\")\n",
    "    \n",
    "#     print(f\"Selected tool:{tool_details[0]['function']['name']}\")\n",
    "\n",
    "#     if tool_details[0][\"function\"][\"name\"] ==\"search\":\n",
    "#         response=input(prompt=f\"[y/n] continue with expensive web search\")\n",
    "#         if response.lower()==\"n\":\n",
    "#             return Exception(\"web Seach Discarded\")\n",
    "\n",
    "\n",
    "#     response=tools_mapping[tool_details[0][\"function\"][\"name\"]].invoke(json.loads(tool_details.get(\"function\")))\n",
    "#     return {\"messages\":[response]}\n",
    "#     # messages=state[\"messages\"]\n",
    "#     # question=messages[-1]\n",
    "#     # tool_name=question.tool\n",
    "#     # tool=tools_condition[tool_name]\n",
    "#     # inputs=tool.get_inputs(question)\n",
    "#     # result=tool.invoke(**inputs)\n",
    "#     # return {\"messages\":[result]}\n",
    "#     # pass\n",
    "def invoke_tool(state:AgentState):\n",
    "    tool_details= state['messages'][-1].additional_kwargs.get(\"tool_calls\", [])[0]\n",
    "    \n",
    "    if tool_details is None:\n",
    "        raise Exception(\"no tool call found\")\n",
    "    \n",
    "    print(f'Selected tool: {tool_details.get(\"function\").get(\"name\")}')\n",
    "    \n",
    "    if tool_details.get(\"function\").get(\"name\")==\"search\":\n",
    "        response = input(prompt=f\"[y/n] continue with expensive web search?\")\n",
    "        if response == \"n\":\n",
    "            raise Exception(\"web search discard\")\n",
    "        \n",
    "    response = tools_mapping[tool_details['function']['name']].invoke(json.loads(tool_details.get(\"function\").get(\"arguments\")))\n",
    "    return {\"messages\" : [response]}\n"
   ]
  },
  {
   "cell_type": "code",
   "execution_count": 330,
   "metadata": {},
   "outputs": [],
   "source": [
    "def router(state):\n",
    "    tool_calls = state['messages'][-1].additional_kwargs.get(\"tool_calls\", [])\n",
    "    if len(tool_calls):\n",
    "        return \"tool\"\n",
    "    else:\n",
    "        return \"end\""
   ]
  },
  {
   "cell_type": "code",
   "execution_count": 331,
   "metadata": {},
   "outputs": [
    {
     "data": {
      "text/plain": [
       "<langgraph.graph.state.StateGraph at 0x70fb1cd3fc40>"
      ]
     },
     "execution_count": 331,
     "metadata": {},
     "output_type": "execute_result"
    }
   ],
   "source": [
    "graph= StateGraph(AgentState)\n",
    "\n",
    "graph.add_node(\"ai_assistant\", invoke_model)\n",
    "graph.add_node(\"tool\", invoke_tool)"
   ]
  },
  {
   "cell_type": "code",
   "execution_count": 332,
   "metadata": {},
   "outputs": [
    {
     "data": {
      "text/plain": [
       "<langgraph.graph.state.StateGraph at 0x70fb1cd3fc40>"
      ]
     },
     "execution_count": 332,
     "metadata": {},
     "output_type": "execute_result"
    }
   ],
   "source": [
    "graph.add_conditional_edges(\"ai_assistant\", \n",
    "            router,\n",
    "            {\n",
    "                \"tool\": \"tool\",\n",
    "                \"end\": END\n",
    "            }                \n",
    "            )\n",
    "graph.add_edge(\"tool\",END)\n",
    "\n",
    "# graph.add_edge(\"tool\",\"ai_assistant\")\n",
    "graph.set_entry_point(\"ai_assistant\")\n"
   ]
  },
  {
   "cell_type": "code",
   "execution_count": 333,
   "metadata": {},
   "outputs": [],
   "source": [
    "app=graph.compile()"
   ]
  },
  {
   "cell_type": "code",
   "execution_count": 334,
   "metadata": {},
   "outputs": [
    {
     "data": {
      "image/png": "[encoded data removed]",
      "text/plain": [
       "<langgraph.graph.state.CompiledStateGraph object at 0x70fb1cd3fbb0>"
      ]
     },
     "execution_count": 334,
     "metadata": {},
     "output_type": "execute_result"
    }
   ],
   "source": [
    "app"
   ]
  },
  {
   "cell_type": "code",
   "execution_count": 335,
   "metadata": {},
   "outputs": [
    {
     "name": "stdout",
     "output_type": "stream",
     "text": [
      "{'messages': [AIMessage(content='', additional_kwargs={'tool_calls': [{'id': 'call_djsx', 'function': {'arguments': '{\"query\":\"upcoming president of USA\"}', 'name': 'search'}, 'type': 'function'}]}, response_metadata={'token_usage': {'completion_tokens': 83, 'prompt_tokens': 1075, 'total_tokens': 1158, 'completion_time': 0.150909091, 'prompt_time': 0.046377056, 'queue_time': 0.232487859, 'total_time': 0.197286147}, 'model_name': 'Gemma2-9b-It', 'system_fingerprint': 'fp_10c08bf97d', 'finish_reason': 'tool_calls', 'logprobs': None}, id='run-b99138aa-b35d-4d64-bed0-43562006cc9f-0', tool_calls=[{'name': 'search', 'args': {'query': 'upcoming president of USA'}, 'id': 'call_djsx', 'type': 'tool_call'}], usage_metadata={'input_tokens': 1075, 'output_tokens': 83, 'total_tokens': 1158})]}\n",
      "----\n",
      "Selected tool: search\n",
      "{'messages': [[{'title': '2024 United States presidential election - Wikipedia', 'url': 'https://en.wikipedia.org/wiki/2024_United_States_presidential_election', 'content': \"2024 United States presidential election\\n\\n\\n\\n\\nPresidential elections were held in the United States on November 5, 2024.[a] The Republican Party's ticket—Donald Trump, who was the 45th president of the United States from 2017 to 2021, and JD Vance, the junior U.S. senator from Ohio—defeated the Democratic Party's ticket—Kamala Harris, the incumbent vice president, and Tim Walz, the 41st governor of Minnesota.[6][7]\\n\\nJoe Biden\\nDemocratic\\n\\nDonald Trump\\nRepublican [...] The incumbent president, Joe Biden of the Democratic Party, initially ran for re-election as the party's presumptive nominee,[8] facing little opposition and easily defeating Representative Dean Phillips during the Democratic primaries;[9] however, what was broadly considered a poor debate performance in June 2024 intensified concerns about his age and health, and led to calls within his party for him to leave the race.[10] After initially declining to do so, Biden withdrew on July 21, becoming [...] Republican to have won the popular vote since George H. W. Bush in 1988.[26][632] Trump improved his percentage of the vote in every state and DC compared to the 2020 election;[633] 2024 was the first presidential election since 1976 in which all 50 states and DC shifted to the same party.[634][635] Trump numerically performed with 49.8% of the vote, one of the smallest margins of victory since 1888, with his 1.48%[636][637] victory smaller than every winning president other than two: John F.\", 'score': 0.7935067}, {'title': 'United States presidential election of 2024 - Britannica', 'url': 'https://www.britannica.com/event/United-States-presidential-election-of-2024', 'content': \"United States presidential election of 2024, American election, held on November 5, 2024, in which former Republican president Donald Trump (2017–21) defeated the Democratic nominee, Vice Pres. Kamala Harris. Trump, who lost his bid for reelection in 2020 to Democrat Joe Biden, is the first U.S. president to be elected to two nonconsecutive terms since Grover Cleveland, the 22nd and 24th president of the United States (1885–89 and 1893–97). Having been convicted of a felony crime in May 2024, [...] Date:\\nNovember 5, 2024\\n(Show\\xa0more)\\nLocation:\\nUnited States\\n(Show\\xa0more)\\nKey People:\\nDonald Trump\\nKamala Harris\\nMarianne Williamson\\nRobert F. Kennedy, Jr.\\nVivek Ramaswamy\\n(Show\\xa0more)\\nSee all related content\\nNews •\\nTrump's swearing-in will move inside the Capitol Rotunda because of intense cold weather • Jan. 17, 2025, 5:31 PM ET (AP)\\nShow less [...] Numerous polls conducted shortly before the November election indicated that Harris and Trump were neck and neck both nationally and in swing states. When vote counting began on election day (November 5, 2024), however, most of the polls proved to be inaccurate: Trump won both the national popular vote and the projected Electoral College vote, capturing all seven swing states.\\nTracy Grant Brian Duignan\", 'score': 0.7311551}, {'title': '2024 United States elections - Wikipedia', 'url': 'https://en.wikipedia.org/wiki/2024_United_States_elections', 'content': 'The 2024 United States elections were held on Tuesday, November 5, 2024. In the presidential election, former Republican President Donald Trump, seeking a non-consecutive second term, defeated the incumbent Democratic Vice President Kamala Harris. Republicans also gained control of the Senate and held narrow control of the House of Representatives, winning a government trifecta for the first time since 2016. This was the first time since 1980 that Republicans flipped control of a chamber of [...] ^ Fabian, Jordan; Korte, Gregory (July 22, 2024). \"Harris Crosses Delegate Threshold in Sign Nomination Is Hers\". Bloomberg. Archived from the original on July 23, 2024. Retrieved July 22, 2024.\\n^ Kim, Seung Min (August 5, 2024). \"Kamala Harris is now Democratic presidential nominee, will face off against Donald Trump this fall\". Associated Press. Archived from the original on August 8, 2024. Retrieved August 16, 2024. [...] In November 2022, former President Donald Trump announced his candidacy in the 2024 presidential election.[61] Other candidates who entered the 2024 Republican Party presidential primaries include former South Carolina governor and former U.S. Ambassador to the U.N. Nikki Haley and Governor Ron DeSantis of Florida, who later suspended their campaigns and endorsed Trump.[62] The first Republican presidential debate was held on August 23, 2023, and the first primary contest was the 2024 Iowa', 'score': 0.70531887}, {'title': 'Presidential election, 2024 - Ballotpedia', 'url': 'https://ballotpedia.org/Presidential_election,_2024', 'content': 'The Electoral College met on December 17, 2024, to cast their votes for president and vice president of the United States. The final tally was 312 votes for former President Donald Trump (R) and U.S. Sen. J.D. Vance (R) and 226 votes for Vice President Kamala Harris (D) and Gov. Tim Walz (D). [...] Former President Donald Trump (R) won the November 5, 2024, presidential election. Trump won with 312 electoral votes, defeating Vice President Kamala Harris (D) who received 226 electoral votes. This was the lowest electoral vote count received by a president running for re-election since 1916, when Woodrow Wilson (D) won re-election with 277 electoral votes.[1] Trump is also projected to win the popular vote. [...] An Associated Press survey of Democratic delegates estimated Vice President Kamala Harris (D) had reached the majority delegate threshold necessary to become the Democratic presidential nominee on July 22, 2024.[13][97]\\n\\nPresident Joe Biden (D), the former presumptive Democratic nominee, withdrew from the presidential race on July 21, 2024. He became the presumptive nominee on March 12, 2024, after winning an estimated majority of delegates in the presidential primaries.', 'score': 0.6546525}, {'title': 'Donald Trump defeats Kamala Harris to become the next U.S. ...', 'url': 'https://www.nbcnews.com/politics/2024-election/trump-wins-election-president-harris-defeat-2024-race-rcna176107', 'content': \"Politics\\nU.S. News\\nWorld\\nBusiness\\nEditors' picks\\nShopping\\nTipline\\nSports\\nHealth\\nScience\\nCulture & Trends\\n\\n2024 Election\\nDonald Trump defeats Kamala Harris to become the next U.S. president, NBC News projects\\nTrump will make history as the 45th and now 47th president, NBC News projects, saying he will fix an ailing country and despite warnings he will rule as an authoritarian.\\nGet more newson [...] /\\xa0Updated\\xa0\\nBy Jonathan Allen\\nDonald J. Trump, the once and now future president, capped an improbable political comeback by defeating Vice President Kamala Harris on promises to turbocharge the economy and deport undocumented immigrants by the millions. [...] By that time, several Republican hopefuls, most notably Florida Gov. Ron DeSantis and former U.N. Ambassador Nikki Haley, were eyeing primary challenges. Some Republicans blamed Trump for picking winners in primaries who went on to lose marquee Senate elections, depriving the GOP of a majority in the upper chamber. In December 2022, several national surveys showed DeSantis leading Trump by wide margins in a hypothetical head-to-head matchup.\", 'score': 0.6279746}]]}\n",
      "----\n"
     ]
    }
   ],
   "source": [
    "for s in app.stream({\"messages\": [\"who is upcoming president of USA?\"]}):\n",
    "    print(list(s.values())[0])\n",
    "    print(\"----\")"
   ]
  },
  {
   "cell_type": "code",
   "execution_count": 339,
   "metadata": {},
   "outputs": [
    {
     "name": "stdout",
     "output_type": "stream",
     "text": [
      "Selected tool: search\n"
     ]
    }
   ],
   "source": [
    "res= app.invoke({\"messages\":[\"who is the president of the USA?\"]})"
   ]
  },
  {
   "cell_type": "code",
   "execution_count": 340,
   "metadata": {},
   "outputs": [
    {
     "data": {
      "text/plain": [
       "{'messages': ['who is the president of the USA?',\n",
       "  AIMessage(content='', additional_kwargs={'tool_calls': [{'id': 'call_arp9', 'function': {'arguments': '{\"query\":\"Who is the president of the USA?\"}', 'name': 'search'}, 'type': 'function'}]}, response_metadata={'token_usage': {'completion_tokens': 86, 'prompt_tokens': 1076, 'total_tokens': 1162, 'completion_time': 0.156363636, 'prompt_time': 0.046433519, 'queue_time': 0.23141349999999997, 'total_time': 0.202797155}, 'model_name': 'Gemma2-9b-It', 'system_fingerprint': 'fp_10c08bf97d', 'finish_reason': 'tool_calls', 'logprobs': None}, id='run-80ada77a-8ce5-46d9-b4d2-0a18abb186cb-0', tool_calls=[{'name': 'search', 'args': {'query': 'Who is the president of the USA?'}, 'id': 'call_arp9', 'type': 'tool_call'}], usage_metadata={'input_tokens': 1076, 'output_tokens': 86, 'total_tokens': 1162}),\n",
       "  [{'title': 'List of presidents of the United States - Wikipedia',\n",
       "    'url': 'https://en.wikipedia.org/wiki/List_of_presidents_of_the_United_States',\n",
       "    'content': 'The president of the United States is the head of state and head of government of the United States,[1] indirectly elected to a four-year term via the Electoral College.[2] Under the U.S. Constitution, the officeholder leads the executive branch of the federal government and is the commander-in-chief of the United States Armed Forces.[3] The first president, George Washington, won a unanimous vote of the Electoral College.[4] The incumbent president is Donald Trump, who assumed office on [...] John F. Kennedy (1961–1963)\\nLyndon B. Johnson (1963–1969)\\nRichard Nixon (1969–1974)\\nGerald Ford (1974–1977)\\nJimmy Carter (1977–1981)\\nRonald Reagan (1981–1989)\\nGeorge H. W. Bush (1989–1993)\\nBill Clinton (1993–2001)\\nGeorge W. Bush (2001–2009)\\nBarack Obama (2009–2017)\\nDonald Trump (2017–2021)\\nJoe Biden (2021–2025)\\nDonald Trump (2025–present) [...] January 20, 2025.[5][6] Since the office was established in 1789, 45 men have served in 47 presidencies; the discrepancy arises from two individuals elected to non-consecutive terms: Grover Cleveland is counted as the 22nd and 24th president of the United States, while Donald Trump is counted as the 45th and 47th president.[7][8]',\n",
       "    'score': 0.8512743},\n",
       "   {'title': 'Presidents, vice presidents, and first ladies | USAGov',\n",
       "    'url': 'https://www.usa.gov/presidents',\n",
       "    'content': 'Current president\\nThe 47th and current president of the United States is Donald John Trump.\\xa0He was sworn into office on January 20, 2025.\\nFormer U.S. presidents\\nThe United States has had 46 former U.S. presidents. Read about past presidents and vice presidents.\\nMany former presidents have presidential libraries and museums you can visit to learn about their lives and their time in office. Find presidential libraries and museums.\\nRequirements to be eligible to become president [...] Presidents, vice presidents, and first ladies\\nLearn about the duties of president, vice president, and first lady of the United States. Find out how to contact and learn more about current and past leaders.\\nPresident of the United States\\nThe president of the United States is the:\\n\\nU.S. head of state\\nChief executive of the federal government\\nCommander-in-Chief of the armed forces',\n",
       "    'score': 0.8312667},\n",
       "   {'title': 'President of the United States',\n",
       "    'url': 'https://usun.usmission.gov/our-leaders/the-president-of-the-united-states/',\n",
       "    'content': 'President Donald J. Trump\\nDonald J. Trump serves as the 47th President of the United States. He also served as the 45th.\\nRead the President’s full biography.\\nVisit The White House Website\\nNews, issues, and photos of the President\\nU.S. MISSION TO THE UN\\n\\nOur Leaders\\nAbout the Mission\\nHighlights\\nRemarks\\nContact Us\\nPrivacy\\nSocial Media Terms of Use\\nSitemap\\nAccessibility Statement',\n",
       "    'score': 0.71687365},\n",
       "   {'title': 'President of the United States - Wikipedia',\n",
       "    'url': 'https://en.wikipedia.org/wiki/President_of_the_United_States',\n",
       "    'content': \"The president is elected indirectly through the Electoral College to a four-year term, along with the vice president. Under the Twenty-second Amendment, ratified in 1951, no person who has been elected to two presidential terms may be elected to a third. In addition, nine vice presidents have become president by virtue of a president's intra-term death or resignation.[C] In all, 45 individuals have served 47 presidencies spanning 60 four-year terms.[D] Donald Trump is the 47th and current [...] Contents\\nPresident of the United States\\n\\n\\n\\n\\n \\n\\nThe president of the United States (POTUS)[B] is the head of state and head of government of the United States. The president directs the executive branch of the federal government and is the commander-in-chief of the United States Armed Forces. [...] After the Cold War, the United States became the world's undisputed leading power.[61] Bill Clinton, George W. Bush, and Barack Obama each served two terms as president. Meanwhile, the nation gradually became more politically polarized, leading to the ascendency of increasingly polarized Congressmembers, especially following the 1994 mid-term elections which saw Republicans control the House for the first time in 40 years, and the rise of routine filibusters in the Senate.[62] Recent presidents\",\n",
       "    'score': 0.7055624},\n",
       "   {'title': 'The White House',\n",
       "    'url': 'https://www.whitehouse.gov/',\n",
       "    'content': 'Donald J. Trump\\nPresident of the United States\\n\\nJD Vance\\nVICE PRESIDENT OF THE UNITED STATES\\n\\nMelania Trump\\nFirst Lady OF THE UNITED STATES\\n\\nThe Cabinet\\nOf the 47th Administration',\n",
       "    'score': 0.657033}]]}"
      ]
     },
     "execution_count": 340,
     "metadata": {},
     "output_type": "execute_result"
    }
   ],
   "source": [
    "res"
   ]
  },
  {
   "cell_type": "code",
   "execution_count": 341,
   "metadata": {},
   "outputs": [
    {
     "name": "stdout",
     "output_type": "stream",
     "text": [
      "{'messages': [AIMessage(content='', additional_kwargs={'tool_calls': [{'id': 'call_sba0', 'function': {'arguments': '{\"first_number\":34,\"second_number\":2}', 'name': 'multiply'}, 'type': 'function'}]}, response_metadata={'token_usage': {'completion_tokens': 90, 'prompt_tokens': 1079, 'total_tokens': 1169, 'completion_time': 0.163636364, 'prompt_time': 0.061294753, 'queue_time': 0.232093476, 'total_time': 0.224931117}, 'model_name': 'Gemma2-9b-It', 'system_fingerprint': 'fp_10c08bf97d', 'finish_reason': 'tool_calls', 'logprobs': None}, id='run-ee3c7efd-000f-4ac2-be97-4847d1ce014a-0', tool_calls=[{'name': 'multiply', 'args': {'first_number': 34, 'second_number': 2}, 'id': 'call_sba0', 'type': 'tool_call'}], usage_metadata={'input_tokens': 1079, 'output_tokens': 90, 'total_tokens': 1169})]}\n",
      "-----------------\n",
      "Selected tool: multiply\n",
      "{'messages': [68]}\n",
      "-----------------\n"
     ]
    }
   ],
   "source": [
    "\n",
    "for s in app.stream({\"messages\":[\"What is multiplication of 34 and 2?\"]}):\n",
    "    print(list(s.values())[0])\n",
    "    print(\"-----------------\")\n",
    "    # if s.get(\"messages\")[-1].type==\"tool\":\n",
    "    #     print(\"tool invoked\")\n",
    "    #     break\n"
   ]
  }
 ],
 "metadata": {
  "kernelspec": {
   "display_name": "env",
   "language": "python",
   "name": "python3"
  },
  "language_info": {
   "codemirror_mode": {
    "name": "ipython",
    "version": 3
   },
   "file_extension": ".py",
   "mimetype": "text/x-python",
   "name": "python",
   "nbconvert_exporter": "python",
   "pygments_lexer": "ipython3",
   "version": "3.10.12"
  }
 },
 "nbformat": 4,
 "nbformat_minor": 2
}
