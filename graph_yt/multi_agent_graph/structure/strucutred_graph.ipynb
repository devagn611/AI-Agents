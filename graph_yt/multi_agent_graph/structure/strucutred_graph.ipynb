{
 "cells": [
  {
   "cell_type": "code",
   "execution_count": 654,
   "metadata": {},
   "outputs": [],
   "source": [
    "from langchain_community.tools.tavily_search import TavilySearchResults\n",
    "from langchain_community.tools import tool\n",
    "from pydantic import BaseModel, Field\n",
    "from langgraph.graph import MessagesState, StateGraph, END\n",
    "from langgraph.prebuilt import ToolNode\n",
    "from langchain_core.messages import HumanMessage\n",
    "# from langchain.agents import Agen"
   ]
  },
  {
   "cell_type": "code",
   "execution_count": 655,
   "metadata": {},
   "outputs": [],
   "source": [
    "import os\n",
    "from dotenv import load_dotenv\n",
    "load_dotenv()\n",
    "os.environ[\"TAVILY_API_KEY\"] = os.getenv(\"TAVILY_API_KEY\")\n",
    "os.environ[\"GROQ_API_KEY\"] = os.getenv(\"GROQ_API_KEY\")\n"
   ]
  },
  {
   "cell_type": "code",
   "execution_count": 656,
   "metadata": {},
   "outputs": [],
   "source": [
    "from langchain_groq import ChatGroq\n",
    "llm=ChatGroq(model_name=\"Gemma2-9b-It\")"
   ]
  },
  {
   "cell_type": "code",
   "execution_count": 657,
   "metadata": {},
   "outputs": [],
   "source": [
    "tavily_search= TavilySearchResults()"
   ]
  },
  {
   "cell_type": "code",
   "execution_count": 658,
   "metadata": {},
   "outputs": [],
   "source": [
    "@tool\n",
    "def get_city_details(prompt):\n",
    "    \"Should do a web search to find the required city details\"\n",
    "    response = tavily_search.invoke(prompt)\n",
    "    return response"
   ]
  },
  {
   "cell_type": "code",
   "execution_count": 659,
   "metadata": {},
   "outputs": [],
   "source": [
    "# def entry_node(state: StockState):\n",
    "#     # state[\"messages\"] is List[BaseMessage]\n",
    "#     last = state[\"messages\"][-1]\n",
    "#     question = last.content\n",
    "#     return {\"query\": question}\n"
   ]
  },
  {
   "cell_type": "code",
   "execution_count": 660,
   "metadata": {},
   "outputs": [],
   "source": [
    "# def get_stock_details(prompt:DefaultState):\n",
    "#     \"\"\"\n",
    "#     Fetch detailed stock information for the given ticker symbol.\n",
    "\n",
    "#     Args:\n",
    "#         ticker (str): The stock ticker (e.g., \"AAPL\", \"GOOG\").\n",
    "\n",
    "#     Returns:\n",
    "#         dict: A dictionary containing price, volume, and other metrics.\n",
    "#     \"\"\"\n",
    "#     # input = entry_node(prompt)\n",
    "#     print(\"from stock prompt-------\",prompt)\n",
    "#     # print(\"from stock input-------\",input)\n",
    "#     \"Should do a web search to find the required stock details\"\n",
    "#     response =tavily_search.invoke(prompt[\"messages\"])\n",
    "#     return response"
   ]
  },
  {
   "cell_type": "code",
   "execution_count": null,
   "metadata": {},
   "outputs": [],
   "source": [
    "tools=[get_city_details]"
   ]
  },
  {
   "cell_type": "code",
   "execution_count": 662,
   "metadata": {},
   "outputs": [],
   "source": [
    "model_with_tools=llm.bind_tools(tools)"
   ]
  },
  {
   "cell_type": "code",
   "execution_count": 663,
   "metadata": {},
   "outputs": [],
   "source": [
    "# def get_stock_details(prompt):\n",
    "#     \"Should do a web search to find the required stock details\"\n",
    "#     response =tavily_search.invoke(prompt)\n",
    "#     return response"
   ]
  },
  {
   "cell_type": "code",
   "execution_count": 664,
   "metadata": {},
   "outputs": [],
   "source": [
    "class CityDetails(BaseModel):\n",
    "    \"\"\"Respond to the user with this\"\"\"\n",
    "    state_name: str = Field(description=\"State name of the city\")\n",
    "    state_capital: str = Field(description=\"State capital of the city\")\n",
    "    country_name: str = Field(description=\"Country name of the city\")\n",
    "    country_capital: str = Field(description=\"Country capital of the city\")"
   ]
  },
  {
   "cell_type": "code",
   "execution_count": 665,
   "metadata": {},
   "outputs": [],
   "source": [
    "class DefaultResponse(BaseModel):\n",
    "    \"\"\"Respond to the user with this\"\"\"\n",
    "    stock_name:str = Field(description=\"Write Stock Name \")\n",
    "    stocke_price:str = Field(description=\"Write Stock Price\")"
   ]
  },
  {
   "cell_type": "code",
   "execution_count": 666,
   "metadata": {},
   "outputs": [],
   "source": [
    "# Inherit 'messages' key from MessagesState, which is a list of chat messages\n",
    "class AgentState(MessagesState):\n",
    "    # Final structured response from the agent\n",
    "    final_response: CityDetails"
   ]
  },
  {
   "cell_type": "code",
   "execution_count": 667,
   "metadata": {},
   "outputs": [],
   "source": [
    "class DefaultState(MessagesState):\n",
    "    # Final structured response from the agent\n",
    "    final_response: DefaultResponse"
   ]
  },
  {
   "cell_type": "code",
   "execution_count": 668,
   "metadata": {},
   "outputs": [],
   "source": [
    "\n",
    "model_with_structured_output = llm.with_structured_output(CityDetails)\n",
    "model_with_llm_output= llm.with_structured_output(DefaultResponse)\n"
   ]
  },
  {
   "cell_type": "code",
   "execution_count": 766,
   "metadata": {},
   "outputs": [],
   "source": [
    "def get_stock_details(prompt):\n",
    "    \"\"\"\n",
    "    find ticker from the prompt then use it to pass in the search\n",
    "    Fetch detailed stock information for the given ticker symbol.\n",
    "\n",
    "    Args:\n",
    "        ticker (str): The stock ticker \n",
    "\n",
    "    Returns:\n",
    "        dict: A dictionary containing price, volume, and other metrics.\n",
    "    \"\"\"\n",
    "    # input = entry_node(prompt)\n",
    "    print(\"from stock prompt-------\",prompt)\n",
    "    # print(\"from stock input-------\",input)\n",
    "    \"Should do a web search to find the required stock details\"\n",
    "    input=llm.invoke(prompt[\"messages\"]).content\n",
    "    print(\"from stock input-------\",input)\n",
    "    response =tavily_search.invoke(input)\n",
    "    final_response = model_with_llm_output.invoke(response[0][\"content\"])\n",
    "    print(\"from stock final_response-------\",final_response)\n",
    "    return {\"final_response\": final_response}\n",
    "    # return response[0][\"content\"]"
   ]
  },
  {
   "cell_type": "code",
   "execution_count": 767,
   "metadata": {},
   "outputs": [],
   "source": [
    "# get_stock_details({\"messages\":\"What is the stock price of Tesla?\"})"
   ]
  },
  {
   "cell_type": "code",
   "execution_count": 768,
   "metadata": {},
   "outputs": [],
   "source": [
    "def call_model(state: AgentState):\n",
    "    \n",
    "    print(f\"01 ____________ {state}\")\n",
    "    response = model_with_tools.invoke(state['messages'])\n",
    "    print(f\"02_______________{response}\")\n",
    "    # We return a list, because this will get added to the existing list\n",
    "    return {\"messages\": [response]}"
   ]
  },
  {
   "cell_type": "code",
   "execution_count": 769,
   "metadata": {},
   "outputs": [],
   "source": [
    "# model_with_structured_output= llm.with_structured_output(CityDetails)\n",
    "# model_with_llm_output= llm.with_structured_output(DefaultResponse)"
   ]
  },
  {
   "cell_type": "code",
   "execution_count": 770,
   "metadata": {},
   "outputs": [],
   "source": [
    "def should_continue(state: AgentState):\n",
    "    messages = state[\"messages\"]\n",
    "    last_message = messages[-1]\n",
    "    temp_check = messages[0].content.split(\" \")\n",
    "    if not last_message.tool_calls[0][\"name\"] == \"get_city_details\":\n",
    "        return \"continue\"\n",
    "    elif \"stock\" in temp_check:\n",
    "        return \"stock\"\n",
    "    else:\n",
    "        return \"respond\""
   ]
  },
  {
   "cell_type": "code",
   "execution_count": 771,
   "metadata": {},
   "outputs": [],
   "source": [
    "def respond(state: AgentState):\n",
    "    print(f\"03 _____________ {state}\")\n",
    "    if \"city\" in state:\n",
    "        response = model_with_structured_output.invoke([HumanMessage(content=state['messages'][-1].content)])\n",
    "    else:\n",
    "        response = model_with_llm_output.invoke([HumanMessage(content=state['messages'][-1].content)])\n",
    "    # We return the final answer\n",
    "    print(f\"04_______________{response}\")\n",
    "    return {\"final_response\": response}\n",
    "# def llm_response(state: AgentState):\n",
    "#     print(f\"05 _____________ {state}\")\n",
    "#     response = model_with_llm_output.invoke([HumanMessage(content=state['messages'][-1].content)])\n",
    "#     # We return the final answer\n",
    "#     print(f\"06_______________{response}\")\n",
    "#     return {\"final_response\": response}"
   ]
  },
  {
   "cell_type": "markdown",
   "metadata": {},
   "source": [
    "### WorkFlow"
   ]
  },
  {
   "cell_type": "code",
   "execution_count": 772,
   "metadata": {},
   "outputs": [],
   "source": [
    "\n",
    "workflow = StateGraph(AgentState)\n",
    "\n",
    "\n",
    "workflow.add_node(\"llm\", call_model)\n",
    "workflow.add_node(\"tools\", ToolNode(tools))\n",
    "workflow.add_node(\"respond\", respond)\n",
    "workflow.add_node(\"stock_response\", get_stock_details)\n",
    "\n",
    "\n",
    "workflow.set_entry_point(\"llm\")\n",
    "\n",
    "# We now add a conditional edge\n",
    "workflow.add_conditional_edges(\n",
    "    \"llm\",\n",
    "    \n",
    "    should_continue,\n",
    "    {\n",
    "        \"continue\": \"tools\",\n",
    "        \"respond\": \"respond\",\n",
    "        \"stock\": \"stock_response\",\n",
    "    },\n",
    ")\n",
    "\n",
    "workflow.add_edge(\"tools\", \"llm\")\n",
    "workflow.add_edge(\"respond\", END)\n",
    "workflow.add_edge(\"stock_response\", END)\n",
    "graph = workflow.compile()"
   ]
  },
  {
   "cell_type": "code",
   "execution_count": 773,
   "metadata": {},
   "outputs": [
    {
     "data": {
      "image/png": "[encoded data removed]",
      "text/plain": [
       "<langgraph.graph.state.CompiledStateGraph object at 0x772aabc469b0>"
      ]
     },
     "execution_count": 773,
     "metadata": {},
     "output_type": "execute_result"
    }
   ],
   "source": [
    "graph"
   ]
  },
  {
   "cell_type": "code",
   "execution_count": 774,
   "metadata": {},
   "outputs": [
    {
     "name": "stdout",
     "output_type": "stream",
     "text": [
      "01 ____________ {'messages': [HumanMessage(content='What is the stock price of the Tesla?', additional_kwargs={}, response_metadata={}, id='a935ef99-936c-4809-b5dc-d58c494987d0')]}\n",
      "02_______________content='' additional_kwargs={'tool_calls': [{'id': 'call_erea', 'function': {'arguments': '{\"prompt\":\"What is the stock price of Tesla?\"}', 'name': 'get_city_details'}, 'type': 'function'}]} response_metadata={'token_usage': {'completion_tokens': 90, 'prompt_tokens': 944, 'total_tokens': 1034, 'completion_time': 0.163636364, 'prompt_time': 0.033173415, 'queue_time': 0.23327542300000004, 'total_time': 0.196809779}, 'model_name': 'Gemma2-9b-It', 'system_fingerprint': 'fp_10c08bf97d', 'finish_reason': 'tool_calls', 'logprobs': None} id='run-bf0f7a1e-5f05-4c2e-983e-4669d19b9f73-0' tool_calls=[{'name': 'get_city_details', 'args': {'prompt': 'What is the stock price of Tesla?'}, 'id': 'call_erea', 'type': 'tool_call'}] usage_metadata={'input_tokens': 944, 'output_tokens': 90, 'total_tokens': 1034}\n",
      "from stock prompt------- {'messages': [HumanMessage(content='What is the stock price of the Tesla?', additional_kwargs={}, response_metadata={}, id='a935ef99-936c-4809-b5dc-d58c494987d0'), AIMessage(content='', additional_kwargs={'tool_calls': [{'id': 'call_erea', 'function': {'arguments': '{\"prompt\":\"What is the stock price of Tesla?\"}', 'name': 'get_city_details'}, 'type': 'function'}]}, response_metadata={'token_usage': {'completion_tokens': 90, 'prompt_tokens': 944, 'total_tokens': 1034, 'completion_time': 0.163636364, 'prompt_time': 0.033173415, 'queue_time': 0.23327542300000004, 'total_time': 0.196809779}, 'model_name': 'Gemma2-9b-It', 'system_fingerprint': 'fp_10c08bf97d', 'finish_reason': 'tool_calls', 'logprobs': None}, id='run-bf0f7a1e-5f05-4c2e-983e-4669d19b9f73-0', tool_calls=[{'name': 'get_city_details', 'args': {'prompt': 'What is the stock price of Tesla?'}, 'id': 'call_erea', 'type': 'tool_call'}], usage_metadata={'input_tokens': 944, 'output_tokens': 90, 'total_tokens': 1034})]}\n",
      "from stock input------- I do not have access to real-time information, including stock prices. To get the current stock price of Tesla, I recommend checking a reliable financial website such as:\n",
      "\n",
      "* **Google Finance:** https://www.google.com/finance\n",
      "* **Yahoo Finance:** https://finance.yahoo.com\n",
      "* **Bloomberg:** https://www.bloomberg.com\n",
      "* **Nasdaq:** https://www.nasdaq.com\n",
      "\n",
      "from stock final_response------- stock_name='Tesla' stocke_price='374.32'\n"
     ]
    }
   ],
   "source": [
    "# graph.invoke(input={\"messages\":[(\"human\",\"What is the capital of delhi?\")]})[\"final_response\"]\n",
    "answer = graph.invoke(input={\"messages\": [(\"human\", \"What is the stock price of the Tesla?\")]})['final_response']"
   ]
  },
  {
   "cell_type": "code",
   "execution_count": 775,
   "metadata": {},
   "outputs": [
    {
     "data": {
      "text/plain": [
       "DefaultResponse(stock_name='Tesla', stocke_price='374.32')"
      ]
     },
     "execution_count": 775,
     "metadata": {},
     "output_type": "execute_result"
    }
   ],
   "source": [
    "answer"
   ]
  }
 ],
 "metadata": {
  "kernelspec": {
   "display_name": "env",
   "language": "python",
   "name": "python3"
  },
  "language_info": {
   "codemirror_mode": {
    "name": "ipython",
    "version": 3
   },
   "file_extension": ".py",
   "mimetype": "text/x-python",
   "name": "python",
   "nbconvert_exporter": "python",
   "pygments_lexer": "ipython3",
   "version": "3.10.12"
  }
 },
 "nbformat": 4,
 "nbformat_minor": 2
}
