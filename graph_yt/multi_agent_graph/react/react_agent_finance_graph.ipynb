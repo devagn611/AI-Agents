{
 "cells": [
  {
   "cell_type": "code",
   "execution_count": 4,
   "metadata": {},
   "outputs": [],
   "source": [
    "import os\n",
    "import yfinance"
   ]
  },
  {
   "cell_type": "code",
   "execution_count": 163,
   "metadata": {},
   "outputs": [],
   "source": [
    "from langgraph.graph import MessagesState,StateGraph, END, START\n",
    "from langchain_core.messages import HumanMessage, SystemMessage\n",
    "from langchain_community.tools import DuckDuckGoSearchRun\n",
    "from langgraph.prebuilt import tools_condition # this is the checker for the if you got a tool back\n",
    "from langgraph.prebuilt import ToolNode\n",
    "from IPython.display import Image, display\n",
    "from typing import Annotated, TypedDict\n",
    "import operator\n",
    "from langchain_core.messages import AnyMessage\n",
    "from langgraph.graph.message import add_messages\n",
    "from langgraph.prebuilt import tools_condition # this is the checker for the\n",
    "from langgraph.prebuilt import ToolNode"
   ]
  },
  {
   "cell_type": "code",
   "execution_count": 164,
   "metadata": {},
   "outputs": [],
   "source": [
    "from dotenv import load_dotenv\n",
    "load_dotenv()\n",
    "os.environ[\"GROQ_API_KEY\"] = os.getenv(\"GROQ_API_KEY\")\n",
    "\n",
    "from langchain_groq import ChatGroq\n",
    "llm=ChatGroq(model_name=\"Gemma2-9b-It\")"
   ]
  },
  {
   "cell_type": "code",
   "execution_count": 165,
   "metadata": {},
   "outputs": [],
   "source": [
    "def multiply(a: float, b: float) -> complex:\n",
    "    \"\"\"\n",
    "    Multiply a and b.\n",
    "    Args:\n",
    "        a: first int\n",
    "        b: second int\n",
    "    \"\"\"\n",
    "    return a * b"
   ]
  },
  {
   "cell_type": "code",
   "execution_count": 166,
   "metadata": {},
   "outputs": [],
   "source": [
    "def add(a: float, b: float) -> complex:\n",
    "    \"\"\"Adds a and b.\n",
    "\n",
    "    Args:\n",
    "        a: first int\n",
    "        b: second int\n",
    "    \"\"\"\n",
    "    return a + b"
   ]
  },
  {
   "cell_type": "code",
   "execution_count": 167,
   "metadata": {},
   "outputs": [],
   "source": [
    "def divide(a: float, b: float) -> float:\n",
    "    \"\"\"Divide a and b.\n",
    "\n",
    "    Args:\n",
    "        a: first int\n",
    "        b: second int\n",
    "    \"\"\"\n",
    "    return a / b"
   ]
  },
  {
   "cell_type": "code",
   "execution_count": 5,
   "metadata": {},
   "outputs": [],
   "source": [
    "def get_stock_data(ticker: str) -> str:\n",
    "    \"\"\"Get stock data for a given ticker.\n",
    "\n",
    "    Args:\n",
    "        ticker: The stock ticker symbol.\n",
    "    \"\"\"\n",
    "    stock_price= yfinance.Ticker(ticker)\n",
    "    # print(\"------\",stock_price.history(period=\"1d\"))\n",
    "    # return stock_price.history(period=\"1d\").to_json()\n",
    "    return stock_price.info\n"
   ]
  },
  {
   "cell_type": "code",
   "execution_count": 6,
   "metadata": {},
   "outputs": [
    {
     "data": {
      "text/plain": [
       "{'address1': 'One Apple Park Way',\n",
       " 'city': 'Cupertino',\n",
       " 'state': 'CA',\n",
       " 'zip': '95014',\n",
       " 'country': 'United States',\n",
       " 'phone': '(408) 996-1010',\n",
       " 'website': 'https://www.apple.com',\n",
       " 'industry': 'Consumer Electronics',\n",
       " 'industryKey': 'consumer-electronics',\n",
       " 'industryDisp': 'Consumer Electronics',\n",
       " 'sector': 'Technology',\n",
       " 'sectorKey': 'technology',\n",
       " 'sectorDisp': 'Technology',\n",
       " 'longBusinessSummary': 'Apple Inc. designs, manufactures, and markets smartphones, personal computers, tablets, wearables, and accessories worldwide. The company offers iPhone, a line of smartphones; Mac, a line of personal computers; iPad, a line of multi-purpose tablets; and wearables, home, and accessories comprising AirPods, Apple TV, Apple Watch, Beats products, and HomePod. It also provides AppleCare support and cloud services; and operates various platforms, including the App Store that allow customers to discover and download applications and digital content, such as books, music, video, games, and podcasts, as well as advertising services include third-party licensing arrangements and its own advertising platforms. In addition, the company offers various subscription-based services, such as Apple Arcade, a game subscription service; Apple Fitness+, a personalized fitness service; Apple Music, which offers users a curated listening experience with on-demand radio stations; Apple News+, a subscription news and magazine service; Apple TV+, which offers exclusive original content; Apple Card, a co-branded credit card; and Apple Pay, a cashless payment service, as well as licenses its intellectual property. The company serves consumers, and small and mid-sized businesses; and the education, enterprise, and government markets. It distributes third-party applications for its products through the App Store. The company also sells its products through its retail and online stores, and direct sales force; and third-party cellular network carriers, wholesalers, retailers, and resellers. Apple Inc. was founded in 1976 and is headquartered in Cupertino, California.',\n",
       " 'fullTimeEmployees': 150000,\n",
       " 'companyOfficers': [{'maxAge': 1,\n",
       "   'name': 'Mr. Timothy D. Cook',\n",
       "   'age': 63,\n",
       "   'title': 'CEO & Director',\n",
       "   'yearBorn': 1961,\n",
       "   'fiscalYear': 2023,\n",
       "   'totalPay': 16239562,\n",
       "   'exercisedValue': 0,\n",
       "   'unexercisedValue': 0},\n",
       "  {'maxAge': 1,\n",
       "   'name': 'Mr. Jeffrey E. Williams',\n",
       "   'age': 60,\n",
       "   'title': 'Chief Operating Officer',\n",
       "   'yearBorn': 1964,\n",
       "   'fiscalYear': 2023,\n",
       "   'totalPay': 4637585,\n",
       "   'exercisedValue': 0,\n",
       "   'unexercisedValue': 0},\n",
       "  {'maxAge': 1,\n",
       "   'name': 'Ms. Katherine L. Adams',\n",
       "   'age': 60,\n",
       "   'title': 'Senior VP, General Counsel & Secretary',\n",
       "   'yearBorn': 1964,\n",
       "   'fiscalYear': 2023,\n",
       "   'totalPay': 4618064,\n",
       "   'exercisedValue': 0,\n",
       "   'unexercisedValue': 0},\n",
       "  {'maxAge': 1,\n",
       "   'name': \"Ms. Deirdre  O'Brien\",\n",
       "   'age': 57,\n",
       "   'title': 'Chief People Officer & Senior VP of Retail',\n",
       "   'yearBorn': 1967,\n",
       "   'fiscalYear': 2023,\n",
       "   'totalPay': 4613369,\n",
       "   'exercisedValue': 0,\n",
       "   'unexercisedValue': 0},\n",
       "  {'maxAge': 1,\n",
       "   'name': 'Mr. Kevan  Parekh',\n",
       "   'age': 52,\n",
       "   'title': 'Senior VP & CFO',\n",
       "   'yearBorn': 1972,\n",
       "   'fiscalYear': 2023,\n",
       "   'exercisedValue': 0,\n",
       "   'unexercisedValue': 0},\n",
       "  {'maxAge': 1,\n",
       "   'name': 'Mr. Chris  Kondo',\n",
       "   'title': 'Senior Director of Corporate Accounting',\n",
       "   'fiscalYear': 2023,\n",
       "   'exercisedValue': 0,\n",
       "   'unexercisedValue': 0},\n",
       "  {'maxAge': 1,\n",
       "   'name': 'Suhasini  Chandramouli',\n",
       "   'title': 'Director of Investor Relations',\n",
       "   'fiscalYear': 2023,\n",
       "   'exercisedValue': 0,\n",
       "   'unexercisedValue': 0},\n",
       "  {'maxAge': 1,\n",
       "   'name': 'Ms. Kristin Huguet Quayle',\n",
       "   'title': 'Vice President of Worldwide Communications',\n",
       "   'fiscalYear': 2023,\n",
       "   'exercisedValue': 0,\n",
       "   'unexercisedValue': 0},\n",
       "  {'maxAge': 1,\n",
       "   'name': 'Mr. Greg  Joswiak',\n",
       "   'title': 'Senior Vice President of Worldwide Marketing',\n",
       "   'fiscalYear': 2023,\n",
       "   'exercisedValue': 0,\n",
       "   'unexercisedValue': 0},\n",
       "  {'maxAge': 1,\n",
       "   'name': 'Mr. Adrian  Perica',\n",
       "   'age': 50,\n",
       "   'title': 'Vice President of Corporate Development',\n",
       "   'yearBorn': 1974,\n",
       "   'fiscalYear': 2023,\n",
       "   'exercisedValue': 0,\n",
       "   'unexercisedValue': 0}],\n",
       " 'auditRisk': 7,\n",
       " 'boardRisk': 1,\n",
       " 'compensationRisk': 3,\n",
       " 'shareHolderRightsRisk': 1,\n",
       " 'overallRisk': 1,\n",
       " 'governanceEpochDate': 1743465600,\n",
       " 'compensationAsOfEpochDate': 1703980800,\n",
       " 'irWebsite': 'http://investor.apple.com/',\n",
       " 'executiveTeam': [],\n",
       " 'maxAge': 86400,\n",
       " 'priceHint': 2,\n",
       " 'previousClose': 181.46,\n",
       " 'open': 186.73,\n",
       " 'dayLow': 169.2101,\n",
       " 'dayHigh': 190.335,\n",
       " 'regularMarketPreviousClose': 181.46,\n",
       " 'regularMarketOpen': 186.73,\n",
       " 'regularMarketDayLow': 169.2101,\n",
       " 'regularMarketDayHigh': 190.335,\n",
       " 'dividendRate': 1.0,\n",
       " 'dividendYield': 0.53,\n",
       " 'exDividendDate': 1739145600,\n",
       " 'payoutRatio': 0.1571,\n",
       " 'fiveYearAvgDividendYield': 0.57,\n",
       " 'beta': 1.259,\n",
       " 'trailingPE': 27.411764,\n",
       " 'forwardPE': 20.748495,\n",
       " 'volume': 119908881,\n",
       " 'regularMarketVolume': 119908881,\n",
       " 'averageVolume': 58045350,\n",
       " 'averageVolume10days': 75915700,\n",
       " 'averageDailyVolume10Day': 75915700,\n",
       " 'bid': 168.0,\n",
       " 'ask': 181.74,\n",
       " 'bidSize': 1,\n",
       " 'askSize': 1,\n",
       " 'marketCap': 2590110646272,\n",
       " 'fiftyTwoWeekLow': 164.08,\n",
       " 'fiftyTwoWeekHigh': 260.1,\n",
       " 'priceToSalesTrailing12Months': 6.5446496,\n",
       " 'fiftyDayAverage': 227.0452,\n",
       " 'twoHundredDayAverage': 228.65555,\n",
       " 'trailingAnnualDividendRate': 0.99,\n",
       " 'trailingAnnualDividendYield': 0.0054557477,\n",
       " 'currency': 'USD',\n",
       " 'tradeable': False,\n",
       " 'enterpriseValue': 2872882233344,\n",
       " 'profitMargins': 0.24295,\n",
       " 'floatShares': 14998187904,\n",
       " 'sharesOutstanding': 15022100480,\n",
       " 'sharesShort': 129678474,\n",
       " 'sharesShortPriorMonth': 127893856,\n",
       " 'sharesShortPreviousMonthDate': 1739491200,\n",
       " 'dateShortInterest': 1741910400,\n",
       " 'sharesPercentSharesOut': 0.0086,\n",
       " 'heldPercentInsiders': 0.0207,\n",
       " 'heldPercentInstitutions': 0.62813,\n",
       " 'shortRatio': 2.54,\n",
       " 'shortPercentOfFloat': 0.0086,\n",
       " 'impliedSharesOutstanding': 15022100480,\n",
       " 'bookValue': 4.438,\n",
       " 'priceToBook': 38.85083,\n",
       " 'lastFiscalYearEnd': 1727481600,\n",
       " 'nextFiscalYearEnd': 1759017600,\n",
       " 'mostRecentQuarter': 1735344000,\n",
       " 'earningsQuarterlyGrowth': 0.071,\n",
       " 'netIncomeToCommon': 96150003712,\n",
       " 'trailingEps': 6.29,\n",
       " 'forwardEps': 8.31,\n",
       " 'lastSplitFactor': '4:1',\n",
       " 'lastSplitDate': 1598832000,\n",
       " 'enterpriseToRevenue': 7.259,\n",
       " 'enterpriseToEbitda': 20.916,\n",
       " '52WeekChange': 0.027655244,\n",
       " 'SandP52WeekChange': -0.034466684,\n",
       " 'lastDividendValue': 0.25,\n",
       " 'lastDividendDate': 1739145600,\n",
       " 'quoteType': 'EQUITY',\n",
       " 'currentPrice': 172.42,\n",
       " 'targetHighPrice': 300.0,\n",
       " 'targetLowPrice': 165.0,\n",
       " 'targetMeanPrice': 240.69707,\n",
       " 'targetMedianPrice': 250.0,\n",
       " 'recommendationMean': 2.08696,\n",
       " 'recommendationKey': 'buy',\n",
       " 'numberOfAnalystOpinions': 41,\n",
       " 'totalCash': 53774999552,\n",
       " 'totalCashPerShare': 3.58,\n",
       " 'ebitda': 137352003584,\n",
       " 'totalDebt': 96798998528,\n",
       " 'quickRatio': 0.783,\n",
       " 'currentRatio': 0.923,\n",
       " 'totalRevenue': 395760009216,\n",
       " 'debtToEquity': 145.0,\n",
       " 'revenuePerShare': 25.974,\n",
       " 'returnOnAssets': 0.22518998,\n",
       " 'returnOnEquity': 1.3652,\n",
       " 'grossProfits': 184102993920,\n",
       " 'freeCashflow': 93833871360,\n",
       " 'operatingCashflow': 108293996544,\n",
       " 'earningsGrowth': 0.101,\n",
       " 'revenueGrowth': 0.04,\n",
       " 'grossMargins': 0.46519002,\n",
       " 'ebitdaMargins': 0.34706002,\n",
       " 'operatingMargins': 0.34459,\n",
       " 'financialCurrency': 'USD',\n",
       " 'symbol': 'AAPL',\n",
       " 'language': 'en-US',\n",
       " 'region': 'US',\n",
       " 'typeDisp': 'Equity',\n",
       " 'quoteSourceName': 'Nasdaq Real Time Price',\n",
       " 'triggerable': True,\n",
       " 'customPriceAlertConfidence': 'HIGH',\n",
       " 'marketState': 'PREPRE',\n",
       " 'shortName': 'Apple Inc.',\n",
       " 'longName': 'Apple Inc.',\n",
       " 'hasPrePostMarketData': True,\n",
       " 'firstTradeDateMilliseconds': 345479400000,\n",
       " 'postMarketChangePercent': -1.72254,\n",
       " 'postMarketPrice': 169.45,\n",
       " 'postMarketChange': -2.97,\n",
       " 'regularMarketChange': -9.040009,\n",
       " 'regularMarketDayRange': '169.2101 - 190.335',\n",
       " 'fullExchangeName': 'NasdaqGS',\n",
       " 'averageDailyVolume3Month': 58045350,\n",
       " 'fiftyTwoWeekLowChange': 8.339996,\n",
       " 'fiftyTwoWeekLowChangePercent': 0.05082884,\n",
       " 'fiftyTwoWeekRange': '164.08 - 260.1',\n",
       " 'fiftyTwoWeekHighChange': -87.68001,\n",
       " 'fiftyTwoWeekHighChangePercent': -0.33710113,\n",
       " 'fiftyTwoWeekChangePercent': 2.7655244,\n",
       " 'dividendDate': 1739404800,\n",
       " 'earningsTimestamp': 1746129600,\n",
       " 'earningsTimestampStart': 1746129600,\n",
       " 'earningsTimestampEnd': 1746129600,\n",
       " 'earningsCallTimestampStart': 1746133200,\n",
       " 'earningsCallTimestampEnd': 1746133200,\n",
       " 'isEarningsDateEstimate': False,\n",
       " 'epsTrailingTwelveMonths': 6.29,\n",
       " 'epsForward': 8.31,\n",
       " 'epsCurrentYear': 7.26662,\n",
       " 'priceEpsCurrentYear': 23.727674,\n",
       " 'fiftyDayAverageChange': -54.6252,\n",
       " 'fiftyDayAverageChangePercent': -0.24059173,\n",
       " 'twoHundredDayAverageChange': -56.23555,\n",
       " 'twoHundredDayAverageChangePercent': -0.24594001,\n",
       " 'sourceInterval': 15,\n",
       " 'exchangeDataDelayedBy': 0,\n",
       " 'averageAnalystRating': '2.1 - Buy',\n",
       " 'cryptoTradeable': False,\n",
       " 'corporateActions': [],\n",
       " 'postMarketTime': 1744156798,\n",
       " 'regularMarketTime': 1744142402,\n",
       " 'exchange': 'NMS',\n",
       " 'messageBoardId': 'finmb_24937',\n",
       " 'exchangeTimezoneName': 'America/New_York',\n",
       " 'exchangeTimezoneShortName': 'EDT',\n",
       " 'gmtOffSetMilliseconds': -14400000,\n",
       " 'market': 'us_market',\n",
       " 'esgPopulated': False,\n",
       " 'regularMarketChangePercent': -4.9818187,\n",
       " 'regularMarketPrice': 172.42,\n",
       " 'displayName': 'Apple',\n",
       " 'trailingPegRatio': 1.6002}"
      ]
     },
     "execution_count": 6,
     "metadata": {},
     "output_type": "execute_result"
    }
   ],
   "source": [
    "get_stock_data(\"AAPL\")"
   ]
  },
  {
   "cell_type": "code",
   "execution_count": 170,
   "metadata": {},
   "outputs": [],
   "source": [
    "# %pip install -U duckduckgo-search"
   ]
  },
  {
   "cell_type": "code",
   "execution_count": 171,
   "metadata": {},
   "outputs": [],
   "source": [
    "search = DuckDuckGoSearchRun()"
   ]
  },
  {
   "cell_type": "code",
   "execution_count": 172,
   "metadata": {},
   "outputs": [
    {
     "data": {
      "text/plain": [
       "\"The White House, official residence of the president of the United States, in 2008. The president of the United States is the head of state and head of government of the United States, [1] indirectly elected to a four-year term via the Electoral College. [2] Under the U.S. Constitution, the officeholder leads the executive branch of the federal government and is the commander-in-chief of the ... WASHINGTON − Donald Trump was sworn in Monday as the 47th president of the United States, returning to the White House after overcoming four criminal indictments and two assassination attempts ... Donald Trump takes office for his second term as the 47th president of the United States in the Rotunda of the U.S. Capitol in Washington, DC, on Monday, January 20, 2025. 1 of 39. Donald Trump, who overcame impeachments, criminal indictments and a pair of assassination attempts to win another term in the White House, was sworn in Monday as the 47th U.S. president taking ... Donald Trump has officially become the 47th president of the United States. In a special ceremony called an inauguration , President Trump took over from Joe Biden as America's new leader.\""
      ]
     },
     "execution_count": 172,
     "metadata": {},
     "output_type": "execute_result"
    }
   ],
   "source": [
    "search.invoke(\"who is a current president of USA?\")"
   ]
  },
  {
   "cell_type": "code",
   "execution_count": 173,
   "metadata": {},
   "outputs": [],
   "source": [
    "tools = [add, multiply, divide, search, get_stock_data]"
   ]
  },
  {
   "cell_type": "code",
   "execution_count": 174,
   "metadata": {},
   "outputs": [],
   "source": [
    "llm_with_tools=llm.bind_tools(tools)"
   ]
  },
  {
   "cell_type": "code",
   "execution_count": 175,
   "metadata": {},
   "outputs": [],
   "source": [
    "def reasoner(state):\n",
    "   query = state[\"query\"]\n",
    "   messages = state[\"messages\"]\n",
    "   sys_msg = SystemMessage(content=\"You are a helpful assistant tasked with using search you find the information needed to passed to the tools find in the internet for the information\"\n",
    "   \" and performing arithmetic on a set of inputs.\")\n",
    "   message= HumanMessage(content=query)\n",
    "   messages.append(message)\n",
    "   result= [llm_with_tools.invoke([sys_msg] + state[\"messages\"])]\n",
    "   return {\"messages\":result}"
   ]
  },
  {
   "cell_type": "code",
   "execution_count": null,
   "metadata": {},
   "outputs": [],
   "source": [
    "class GrahState(TypedDict):\n",
    "    \"\"\"State of the graph.\"\"\"\n",
    "    query: str\n",
    "    finance: str\n",
    "    final_answer: str\n",
    "    messages: Annotated[list[AnyMessage], operator.add]\n",
    "    result: str"
   ]
  },
  {
   "cell_type": "code",
   "execution_count": 177,
   "metadata": {},
   "outputs": [],
   "source": [
    "\n",
    "builder = StateGraph(GrahState)\n",
    "\n",
    "builder.add_node(\"reasoner\", reasoner)\n",
    "builder.add_node(\"tools\", ToolNode(tools))\n",
    "\n",
    "\n",
    "builder.add_edge(START, \"reasoner\")\n",
    "builder.add_conditional_edges(\n",
    "    \"reasoner\",\n",
    "    # If the latest message (result) from node reasoner is a tool call -> tools_condition routes to tools\n",
    "    # If the latest message (result) from node reasoner is a not a tool call -> tools_condition routes to END\n",
    "    tools_condition,\n",
    ")\n",
    "\n",
    "builder.add_edge(\"tools\", \"reasoner\")\n",
    "react_graph = builder.compile()"
   ]
  },
  {
   "cell_type": "code",
   "execution_count": 178,
   "metadata": {},
   "outputs": [
    {
     "data": {
      "image/png": "[encoded data removed]",
      "text/plain": [
       "<langgraph.graph.state.CompiledStateGraph object at 0x7431208e43d0>"
      ]
     },
     "execution_count": 178,
     "metadata": {},
     "output_type": "execute_result"
    }
   ],
   "source": [
    "react_graph"
   ]
  },
  {
   "cell_type": "code",
   "execution_count": null,
   "metadata": {},
   "outputs": [],
   "source": [
    "# messages = [HumanMessage(content=\"What is the result if we multiply stock price of the vedanta(Indian stock) with the 20?\")]"
   ]
  },
  {
   "cell_type": "code",
   "execution_count": 182,
   "metadata": {},
   "outputs": [],
   "source": [
    "messages = react_graph.invoke({\"query\": \"What is the stock price of the microsoft\",\"messages\":[]})"
   ]
  },
  {
   "cell_type": "code",
   "execution_count": 183,
   "metadata": {},
   "outputs": [
    {
     "data": {
      "text/plain": [
       "{'query': 'What is the stock price of the microsoft',\n",
       " 'messages': [AIMessage(content='354.56', additional_kwargs={}, response_metadata={'token_usage': {'completion_tokens': 8, 'prompt_tokens': 4638, 'total_tokens': 4646, 'completion_time': 0.014545455, 'prompt_time': 0.180790691, 'queue_time': 0.047459846, 'total_time': 0.195336146}, 'model_name': 'Gemma2-9b-It', 'system_fingerprint': 'fp_10c08bf97d', 'finish_reason': 'stop', 'logprobs': None}, id='run-b89cf5a6-89ca-4d2b-a18d-40c2c76c021e-0', usage_metadata={'input_tokens': 4638, 'output_tokens': 8, 'total_tokens': 4646})]}"
      ]
     },
     "execution_count": 183,
     "metadata": {},
     "output_type": "execute_result"
    }
   ],
   "source": [
    "messages"
   ]
  },
  {
   "cell_type": "code",
   "execution_count": 184,
   "metadata": {},
   "outputs": [
    {
     "name": "stdout",
     "output_type": "stream",
     "text": [
      "==================================\u001b[1m Ai Message \u001b[0m==================================\n",
      "\n",
      "354.56\n"
     ]
    }
   ],
   "source": [
    "for m in messages['messages']:\n",
    "    m.pretty_print()"
   ]
  }
 ],
 "metadata": {
  "kernelspec": {
   "display_name": "env",
   "language": "python",
   "name": "python3"
  },
  "language_info": {
   "codemirror_mode": {
    "name": "ipython",
    "version": 3
   },
   "file_extension": ".py",
   "mimetype": "text/x-python",
   "name": "python",
   "nbconvert_exporter": "python",
   "pygments_lexer": "ipython3",
   "version": "3.10.12"
  }
 },
 "nbformat": 4,
 "nbformat_minor": 2
}
