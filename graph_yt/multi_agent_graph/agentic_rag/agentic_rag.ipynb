{
 "cells": [
  {
   "cell_type": "code",
   "execution_count": 18,
   "metadata": {},
   "outputs": [],
   "source": [
    "import warnings\n",
    "\n",
    "warnings.filterwarnings(\"ignore\", category=DeprecationWarning)"
   ]
  },
  {
   "cell_type": "code",
   "execution_count": null,
   "metadata": {},
   "outputs": [],
   "source": [
    "from typing import Annotated, Literal, Sequence, TypedDict\n",
    "from langchain import hub\n",
    "from langchain_core.messages import BaseMessage, HumanMessage\n",
    "from langchain_core.output_parsers import StrOutputParser\n",
    "from langchain_core.prompts import PromptTemplate\n",
    "from langchain_core.pydantic_v1 import BaseModel, Field\n",
    "from langgraph.graph.message import add_messages\n",
    "from langgraph.prebuilt import tools_condition\n",
    "from langchain_community.document_loaders import WebBaseLoader\n",
    "from langchain_community.vectorstores import Chroma\n",
    "from langchain_text_splitters import RecursiveCharacterTextSplitter\n",
    "from langchain.tools.retriever import create_retriever_tool\n",
    "from langgraph.graph import END, StateGraph, START\n",
    "from langgraph.prebuilt import ToolNode"
   ]
  },
  {
   "cell_type": "code",
   "execution_count": 64,
   "metadata": {},
   "outputs": [],
   "source": [
    "import os\n",
    "from dotenv import load_dotenv\n",
    "load_dotenv()\n",
    "GOOGLE_API_KEY=os.getenv(\"GOOGLE_API_KEY\")\n",
    "TAVILY_API_KEY=os.getenv(\"TAVILY_API_KEY\")\n",
    "GROQ_API_KEY=os.getenv(\"GROQ_API_KEY\")\n",
    "LANGCHAIN_API_KEY=os.getenv(\"LANGCHAIN_API_KEY\")\n",
    "os.environ[\"GOOGLE_API_KEY\"] = GOOGLE_API_KEY\n",
    "os.environ[\"TAVILY_API_KEY\"] = TAVILY_API_KEY\n",
    "os.environ[\"GROQ_API_KEY\"]= GROQ_API_KEY\n",
    "os.environ[\"LANGCHAIN_API_KEY\"] = LANGCHAIN_API_KEY\n",
    "os.environ[\"LANGCHAIN_TRACING_V2\"] = \"true\"\n",
    "os.environ[\"LANGCHAIN_ENDPOINT\"] = \"https://api.smith.langchain.com\""
   ]
  },
  {
   "cell_type": "code",
   "execution_count": 65,
   "metadata": {},
   "outputs": [],
   "source": [
    "from langchain_huggingface import HuggingFaceEmbeddings\n",
    "embeddings=HuggingFaceEmbeddings(model_name=\"all-MiniLM-L6-v2\")\n",
    "from langchain_groq import ChatGroq\n",
    "llm=ChatGroq(model_name=\"Gemma2-9b-It\")"
   ]
  },
  {
   "cell_type": "code",
   "execution_count": 66,
   "metadata": {},
   "outputs": [
    {
     "data": {
      "text/plain": [
       "AIMessage(content=\"As an AI, I don't have feelings, but I'm here and ready to assist you! How can I help you today? 😊\\n\", additional_kwargs={}, response_metadata={'token_usage': {'completion_tokens': 33, 'prompt_tokens': 14, 'total_tokens': 47, 'completion_time': 0.06, 'prompt_time': 0.001919058, 'queue_time': 0.23924714, 'total_time': 0.061919058}, 'model_name': 'Gemma2-9b-It', 'system_fingerprint': 'fp_10c08bf97d', 'finish_reason': 'stop', 'logprobs': None}, id='run-0cb75285-cc58-45f1-91dd-e44274720719-0', usage_metadata={'input_tokens': 14, 'output_tokens': 33, 'total_tokens': 47})"
      ]
     },
     "execution_count": 66,
     "metadata": {},
     "output_type": "execute_result"
    }
   ],
   "source": [
    "llm.invoke(\"Hello How are you?\")"
   ]
  },
  {
   "cell_type": "code",
   "execution_count": 67,
   "metadata": {},
   "outputs": [],
   "source": [
    "url=\"https://lilianweng.github.io/posts/2023-06-23-agent\""
   ]
  },
  {
   "cell_type": "code",
   "execution_count": 68,
   "metadata": {},
   "outputs": [
    {
     "data": {
      "text/plain": [
       "{'source': 'https://lilianweng.github.io/posts/2023-06-23-agent',\n",
       " 'title': \"LLM Powered Autonomous Agents | Lil'Log\",\n",
       " 'description': 'Building agents with LLM (large language model) as its core controller is a cool concept. Several proof-of-concepts demos, such as AutoGPT, GPT-Engineer and BabyAGI, serve as inspiring examples. The potentiality of LLM extends beyond generating well-written copies, stories, essays and programs; it can be framed as a powerful general problem solver.\\nAgent System Overview\\nIn a LLM-powered autonomous agent system, LLM functions as the agent’s brain, complemented by several key components:\\n\\nPlanning\\n\\nSubgoal and decomposition: The agent breaks down large tasks into smaller, manageable subgoals, enabling efficient handling of complex tasks.\\nReflection and refinement: The agent can do self-criticism and self-reflection over past actions, learn from mistakes and refine them for future steps, thereby improving the quality of final results.\\n\\n\\nMemory\\n\\nShort-term memory: I would consider all the in-context learning (See Prompt Engineering) as utilizing short-term memory of the model to learn.\\nLong-term memory: This provides the agent with the capability to retain and recall (infinite) information over extended periods, often by leveraging an external vector store and fast retrieval.\\n\\n\\nTool use\\n\\nThe agent learns to call external APIs for extra information that is missing from the model weights (often hard to change after pre-training), including current information, code execution capability, access to proprietary information sources and more.\\n\\n\\n\\n\\nFig. 1. Overview of a LLM-powered autonomous agent system.\\nComponent One: Planning\\nA complicated task usually involves many steps. An agent needs to know what they are and plan ahead.',\n",
       " 'language': 'en'}"
      ]
     },
     "execution_count": 68,
     "metadata": {},
     "output_type": "execute_result"
    }
   ],
   "source": [
    "WebBaseLoader(url).load()[0].metadata"
   ]
  },
  {
   "cell_type": "code",
   "execution_count": 69,
   "metadata": {},
   "outputs": [],
   "source": [
    "urls = [\n",
    "    \"https://lilianweng.github.io/posts/2023-06-23-agent/\",\n",
    "    \"https://lilianweng.github.io/posts/2023-03-15-prompt-engineering/\",\n",
    "]"
   ]
  },
  {
   "cell_type": "code",
   "execution_count": 70,
   "metadata": {},
   "outputs": [],
   "source": [
    "docs = [WebBaseLoader(url).load() for url in urls]"
   ]
  },
  {
   "cell_type": "code",
   "execution_count": 71,
   "metadata": {},
   "outputs": [],
   "source": [
    "docs_list=[item for sublist in docs for item in sublist]"
   ]
  },
  {
   "cell_type": "code",
   "execution_count": 72,
   "metadata": {},
   "outputs": [],
   "source": [
    "text_splitter=RecursiveCharacterTextSplitter.from_tiktoken_encoder(chunk_size=100, chunk_overlap=25)"
   ]
  },
  {
   "cell_type": "code",
   "execution_count": 73,
   "metadata": {},
   "outputs": [],
   "source": [
    "doc_splits=text_splitter.split_documents(docs_list)"
   ]
  },
  {
   "cell_type": "code",
   "execution_count": 74,
   "metadata": {},
   "outputs": [],
   "source": [
    "vectorstore=Chroma.from_documents(\n",
    "    documents=doc_splits,\n",
    "    collection_name=\"rag-chrome\",\n",
    "    embedding=embeddings\n",
    "    \n",
    ")"
   ]
  },
  {
   "cell_type": "code",
   "execution_count": 75,
   "metadata": {},
   "outputs": [],
   "source": [
    "retriever=vectorstore.as_retriever()"
   ]
  },
  {
   "cell_type": "code",
   "execution_count": null,
   "metadata": {},
   "outputs": [],
   "source": [
    "retriever_tool=create_retriever_tool(\n",
    "    retriever,\n",
    "    \"retrieve_blog_posts\",\n",
    "    \"Search and return information about Lilian Weng blog posts on LLM agents, prompt engineering, and adversarial attacks on LLMs.You are a specialized assistant. Use the 'retriever_tool' **only** when the query explicitly relates to LangChain blog data. For all other queries, respond directly without using any tool. For simple queries like 'hi', 'hello', or 'how are you', provide a normal response.\",\n",
    "    )"
   ]
  },
  {
   "cell_type": "code",
   "execution_count": 77,
   "metadata": {},
   "outputs": [],
   "source": [
    "tools=[retriever_tool]"
   ]
  },
  {
   "cell_type": "code",
   "execution_count": 78,
   "metadata": {},
   "outputs": [],
   "source": [
    "retrieve = ToolNode([retriever_tool])"
   ]
  },
  {
   "cell_type": "code",
   "execution_count": 114,
   "metadata": {},
   "outputs": [],
   "source": [
    "class AgentState(TypedDict):\n",
    "    messages:Annotated[Sequence[BaseMessage],add_messages]"
   ]
  },
  {
   "cell_type": "code",
   "execution_count": 115,
   "metadata": {},
   "outputs": [],
   "source": [
    "def ai_assistant(state:AgentState):\n",
    "    print(\"----State----\",state['messages'])\n",
    "    print(\"---CALL AGENT---\")\n",
    "    messages = state['messages']\n",
    "    \n",
    "    if len(messages)>1:\n",
    "        last_message = messages[-1]\n",
    "        question = last_message.content\n",
    "        prompt=PromptTemplate(\n",
    "        template=\"\"\"You are a helpful assistant whatever question has been asked to find out that in the given question and answer.\n",
    "                        Here is the question:{question}\n",
    "                        \"\"\",\n",
    "                        input_variables=[\"question\"]\n",
    "                        )\n",
    "            \n",
    "        chain = prompt | llm\n",
    "    \n",
    "        response=chain.invoke({\"question\": question})\n",
    "        return {\"messages\": [response]}\n",
    "    else:\n",
    "        llm_with_tool = llm.bind_tools(tools)\n",
    "        response = llm_with_tool.invoke(messages)\n",
    "        #response=handle_query(messages)\n",
    "        return {\"messages\": [response]}"
   ]
  },
  {
   "cell_type": "code",
   "execution_count": 130,
   "metadata": {},
   "outputs": [],
   "source": [
    "class grade(BaseModel):\n",
    "    binary_score:str = Field(description=\"Relevance score 'yes' or 'no'\")"
   ]
  },
  {
   "cell_type": "code",
   "execution_count": null,
   "metadata": {},
   "outputs": [],
   "source": [
    "from langchain.tools.tavily_search import TavilySearchResults\n",
    "\n",
    "def search_query(state):\n",
    "    print(\"----Query----\")\n",
    "    question = state['messages']\n",
    "    last_message = question[-1]\n",
    "    query=last_message.content\n",
    "\n",
    "    prompt=PromptTemplate(\n",
    "        template=\"\"\"You are a helpful assistant whatever question has been asked to find out that in the given question and answer.\n",
    "                        Here is the question:{question}\n",
    "                        \"\"\",\n",
    "                        input_variables=[\"question\"]\n",
    "                        )\n",
    "    \n",
    "    search = TavilySearchResults()\n",
    "    chain_with_search= search | prompt | llm \n",
    "    response=chain_with_search.invoke({\"question\": query})\n",
    "    print(\"----Response----\")\n",
    "    return {\"messages\": [response]}\n",
    "\n",
    "# self-search-web/self-search-web\n",
    "\n",
    "    \n"
   ]
  },
  {
   "cell_type": "code",
   "execution_count": 183,
   "metadata": {},
   "outputs": [
    {
     "name": "stdout",
     "output_type": "stream",
     "text": [
      "----Query----\n"
     ]
    },
    {
     "ename": "ValidationError",
     "evalue": "1 validation error for TavilyInput\nquery\n  Field required [type=missing, input_value={'question': 'What is LangChain?'}, input_type=dict]\n    For further information visit https://errors.pydantic.dev/2.11/v/missing",
     "output_type": "error",
     "traceback": [
      "\u001b[0;31m---------------------------------------------------------------------------\u001b[0m",
      "\u001b[0;31mValidationError\u001b[0m                           Traceback (most recent call last)",
      "Cell \u001b[0;32mIn[183], line 1\u001b[0m\n\u001b[0;32m----> 1\u001b[0m \u001b[43msearch_query\u001b[49m\u001b[43m(\u001b[49m\u001b[43m{\u001b[49m\u001b[38;5;124;43m\"\u001b[39;49m\u001b[38;5;124;43mmessages\u001b[39;49m\u001b[38;5;124;43m\"\u001b[39;49m\u001b[43m:\u001b[49m\u001b[43m \u001b[49m\u001b[43m[\u001b[49m\u001b[43mHumanMessage\u001b[49m\u001b[43m(\u001b[49m\u001b[43mcontent\u001b[49m\u001b[38;5;241;43m=\u001b[39;49m\u001b[38;5;124;43m\"\u001b[39;49m\u001b[38;5;124;43mWhat is LangChain?\u001b[39;49m\u001b[38;5;124;43m\"\u001b[39;49m\u001b[43m)\u001b[49m\u001b[43m]\u001b[49m\u001b[43m}\u001b[49m\u001b[43m)\u001b[49m\n",
      "Cell \u001b[0;32mIn[182], line 18\u001b[0m, in \u001b[0;36msearch_query\u001b[0;34m(state)\u001b[0m\n\u001b[1;32m     16\u001b[0m search \u001b[38;5;241m=\u001b[39m TavilySearchResults()\n\u001b[1;32m     17\u001b[0m chain_with_search\u001b[38;5;241m=\u001b[39m search \u001b[38;5;241m|\u001b[39m prompt \u001b[38;5;241m|\u001b[39m llm \n\u001b[0;32m---> 18\u001b[0m response\u001b[38;5;241m=\u001b[39m\u001b[43mchain_with_search\u001b[49m\u001b[38;5;241;43m.\u001b[39;49m\u001b[43minvoke\u001b[49m\u001b[43m(\u001b[49m\u001b[43m{\u001b[49m\u001b[38;5;124;43m\"\u001b[39;49m\u001b[38;5;124;43mquestion\u001b[39;49m\u001b[38;5;124;43m\"\u001b[39;49m\u001b[43m:\u001b[49m\u001b[43m \u001b[49m\u001b[43mquery\u001b[49m\u001b[43m}\u001b[49m\u001b[43m)\u001b[49m\n\u001b[1;32m     19\u001b[0m \u001b[38;5;28mprint\u001b[39m(\u001b[38;5;124m\"\u001b[39m\u001b[38;5;124m----Response----\u001b[39m\u001b[38;5;124m\"\u001b[39m)\n\u001b[1;32m     20\u001b[0m \u001b[38;5;28;01mreturn\u001b[39;00m {\u001b[38;5;124m\"\u001b[39m\u001b[38;5;124mmessages\u001b[39m\u001b[38;5;124m\"\u001b[39m: [response]}\n",
      "File \u001b[0;32m~/Desktop/Learning/AI/graph_yt/env/lib/python3.10/site-packages/langchain_core/runnables/base.py:3023\u001b[0m, in \u001b[0;36mRunnableSequence.invoke\u001b[0;34m(self, input, config, **kwargs)\u001b[0m\n\u001b[1;32m   3021\u001b[0m \u001b[38;5;28;01mwith\u001b[39;00m set_config_context(config) \u001b[38;5;28;01mas\u001b[39;00m context:\n\u001b[1;32m   3022\u001b[0m     \u001b[38;5;28;01mif\u001b[39;00m i \u001b[38;5;241m==\u001b[39m \u001b[38;5;241m0\u001b[39m:\n\u001b[0;32m-> 3023\u001b[0m         \u001b[38;5;28minput\u001b[39m \u001b[38;5;241m=\u001b[39m \u001b[43mcontext\u001b[49m\u001b[38;5;241;43m.\u001b[39;49m\u001b[43mrun\u001b[49m\u001b[43m(\u001b[49m\u001b[43mstep\u001b[49m\u001b[38;5;241;43m.\u001b[39;49m\u001b[43minvoke\u001b[49m\u001b[43m,\u001b[49m\u001b[43m \u001b[49m\u001b[38;5;28;43minput\u001b[39;49m\u001b[43m,\u001b[49m\u001b[43m \u001b[49m\u001b[43mconfig\u001b[49m\u001b[43m,\u001b[49m\u001b[43m \u001b[49m\u001b[38;5;241;43m*\u001b[39;49m\u001b[38;5;241;43m*\u001b[39;49m\u001b[43mkwargs\u001b[49m\u001b[43m)\u001b[49m\n\u001b[1;32m   3024\u001b[0m     \u001b[38;5;28;01melse\u001b[39;00m:\n\u001b[1;32m   3025\u001b[0m         \u001b[38;5;28minput\u001b[39m \u001b[38;5;241m=\u001b[39m context\u001b[38;5;241m.\u001b[39mrun(step\u001b[38;5;241m.\u001b[39minvoke, \u001b[38;5;28minput\u001b[39m, config)\n",
      "File \u001b[0;32m~/Desktop/Learning/AI/graph_yt/env/lib/python3.10/site-packages/langchain_core/tools/base.py:508\u001b[0m, in \u001b[0;36mBaseTool.invoke\u001b[0;34m(self, input, config, **kwargs)\u001b[0m\n\u001b[1;32m    501\u001b[0m \u001b[38;5;28;01mdef\u001b[39;00m\u001b[38;5;250m \u001b[39m\u001b[38;5;21minvoke\u001b[39m(\n\u001b[1;32m    502\u001b[0m     \u001b[38;5;28mself\u001b[39m,\n\u001b[1;32m    503\u001b[0m     \u001b[38;5;28minput\u001b[39m: Union[\u001b[38;5;28mstr\u001b[39m, \u001b[38;5;28mdict\u001b[39m, ToolCall],\n\u001b[1;32m    504\u001b[0m     config: Optional[RunnableConfig] \u001b[38;5;241m=\u001b[39m \u001b[38;5;28;01mNone\u001b[39;00m,\n\u001b[1;32m    505\u001b[0m     \u001b[38;5;241m*\u001b[39m\u001b[38;5;241m*\u001b[39mkwargs: Any,\n\u001b[1;32m    506\u001b[0m ) \u001b[38;5;241m-\u001b[39m\u001b[38;5;241m>\u001b[39m Any:\n\u001b[1;32m    507\u001b[0m     tool_input, kwargs \u001b[38;5;241m=\u001b[39m _prep_run_args(\u001b[38;5;28minput\u001b[39m, config, \u001b[38;5;241m*\u001b[39m\u001b[38;5;241m*\u001b[39mkwargs)\n\u001b[0;32m--> 508\u001b[0m     \u001b[38;5;28;01mreturn\u001b[39;00m \u001b[38;5;28;43mself\u001b[39;49m\u001b[38;5;241;43m.\u001b[39;49m\u001b[43mrun\u001b[49m\u001b[43m(\u001b[49m\u001b[43mtool_input\u001b[49m\u001b[43m,\u001b[49m\u001b[43m \u001b[49m\u001b[38;5;241;43m*\u001b[39;49m\u001b[38;5;241;43m*\u001b[39;49m\u001b[43mkwargs\u001b[49m\u001b[43m)\u001b[49m\n",
      "File \u001b[0;32m~/Desktop/Learning/AI/graph_yt/env/lib/python3.10/site-packages/langchain_core/tools/base.py:763\u001b[0m, in \u001b[0;36mBaseTool.run\u001b[0;34m(self, tool_input, verbose, start_color, color, callbacks, tags, metadata, run_name, run_id, config, tool_call_id, **kwargs)\u001b[0m\n\u001b[1;32m    761\u001b[0m \u001b[38;5;28;01mif\u001b[39;00m error_to_raise:\n\u001b[1;32m    762\u001b[0m     run_manager\u001b[38;5;241m.\u001b[39mon_tool_error(error_to_raise)\n\u001b[0;32m--> 763\u001b[0m     \u001b[38;5;28;01mraise\u001b[39;00m error_to_raise\n\u001b[1;32m    764\u001b[0m output \u001b[38;5;241m=\u001b[39m _format_output(content, artifact, tool_call_id, \u001b[38;5;28mself\u001b[39m\u001b[38;5;241m.\u001b[39mname, status)\n\u001b[1;32m    765\u001b[0m run_manager\u001b[38;5;241m.\u001b[39mon_tool_end(output, color\u001b[38;5;241m=\u001b[39mcolor, name\u001b[38;5;241m=\u001b[39m\u001b[38;5;28mself\u001b[39m\u001b[38;5;241m.\u001b[39mname, \u001b[38;5;241m*\u001b[39m\u001b[38;5;241m*\u001b[39mkwargs)\n",
      "File \u001b[0;32m~/Desktop/Learning/AI/graph_yt/env/lib/python3.10/site-packages/langchain_core/tools/base.py:725\u001b[0m, in \u001b[0;36mBaseTool.run\u001b[0;34m(self, tool_input, verbose, start_color, color, callbacks, tags, metadata, run_name, run_id, config, tool_call_id, **kwargs)\u001b[0m\n\u001b[1;32m    723\u001b[0m child_config \u001b[38;5;241m=\u001b[39m patch_config(config, callbacks\u001b[38;5;241m=\u001b[39mrun_manager\u001b[38;5;241m.\u001b[39mget_child())\n\u001b[1;32m    724\u001b[0m \u001b[38;5;28;01mwith\u001b[39;00m set_config_context(child_config) \u001b[38;5;28;01mas\u001b[39;00m context:\n\u001b[0;32m--> 725\u001b[0m     tool_args, tool_kwargs \u001b[38;5;241m=\u001b[39m \u001b[38;5;28;43mself\u001b[39;49m\u001b[38;5;241;43m.\u001b[39;49m\u001b[43m_to_args_and_kwargs\u001b[49m\u001b[43m(\u001b[49m\n\u001b[1;32m    726\u001b[0m \u001b[43m        \u001b[49m\u001b[43mtool_input\u001b[49m\u001b[43m,\u001b[49m\u001b[43m \u001b[49m\u001b[43mtool_call_id\u001b[49m\n\u001b[1;32m    727\u001b[0m \u001b[43m    \u001b[49m\u001b[43m)\u001b[49m\n\u001b[1;32m    728\u001b[0m     \u001b[38;5;28;01mif\u001b[39;00m signature(\u001b[38;5;28mself\u001b[39m\u001b[38;5;241m.\u001b[39m_run)\u001b[38;5;241m.\u001b[39mparameters\u001b[38;5;241m.\u001b[39mget(\u001b[38;5;124m\"\u001b[39m\u001b[38;5;124mrun_manager\u001b[39m\u001b[38;5;124m\"\u001b[39m):\n\u001b[1;32m    729\u001b[0m         tool_kwargs \u001b[38;5;241m=\u001b[39m tool_kwargs \u001b[38;5;241m|\u001b[39m {\u001b[38;5;124m\"\u001b[39m\u001b[38;5;124mrun_manager\u001b[39m\u001b[38;5;124m\"\u001b[39m: run_manager}\n",
      "File \u001b[0;32m~/Desktop/Learning/AI/graph_yt/env/lib/python3.10/site-packages/langchain_core/tools/base.py:648\u001b[0m, in \u001b[0;36mBaseTool._to_args_and_kwargs\u001b[0;34m(self, tool_input, tool_call_id)\u001b[0m\n\u001b[1;32m    640\u001b[0m \u001b[38;5;28;01mif\u001b[39;00m (\n\u001b[1;32m    641\u001b[0m     \u001b[38;5;28mself\u001b[39m\u001b[38;5;241m.\u001b[39margs_schema \u001b[38;5;129;01mis\u001b[39;00m \u001b[38;5;129;01mnot\u001b[39;00m \u001b[38;5;28;01mNone\u001b[39;00m\n\u001b[1;32m    642\u001b[0m     \u001b[38;5;129;01mand\u001b[39;00m \u001b[38;5;28misinstance\u001b[39m(\u001b[38;5;28mself\u001b[39m\u001b[38;5;241m.\u001b[39margs_schema, \u001b[38;5;28mtype\u001b[39m)\n\u001b[0;32m   (...)\u001b[0m\n\u001b[1;32m    645\u001b[0m ):\n\u001b[1;32m    646\u001b[0m     \u001b[38;5;66;03m# StructuredTool with no args\u001b[39;00m\n\u001b[1;32m    647\u001b[0m     \u001b[38;5;28;01mreturn\u001b[39;00m (), {}\n\u001b[0;32m--> 648\u001b[0m tool_input \u001b[38;5;241m=\u001b[39m \u001b[38;5;28;43mself\u001b[39;49m\u001b[38;5;241;43m.\u001b[39;49m\u001b[43m_parse_input\u001b[49m\u001b[43m(\u001b[49m\u001b[43mtool_input\u001b[49m\u001b[43m,\u001b[49m\u001b[43m \u001b[49m\u001b[43mtool_call_id\u001b[49m\u001b[43m)\u001b[49m\n\u001b[1;32m    649\u001b[0m \u001b[38;5;66;03m# For backwards compatibility, if run_input is a string,\u001b[39;00m\n\u001b[1;32m    650\u001b[0m \u001b[38;5;66;03m# pass as a positional argument.\u001b[39;00m\n\u001b[1;32m    651\u001b[0m \u001b[38;5;28;01mif\u001b[39;00m \u001b[38;5;28misinstance\u001b[39m(tool_input, \u001b[38;5;28mstr\u001b[39m):\n",
      "File \u001b[0;32m~/Desktop/Learning/AI/graph_yt/env/lib/python3.10/site-packages/langchain_core/tools/base.py:564\u001b[0m, in \u001b[0;36mBaseTool._parse_input\u001b[0;34m(self, tool_input, tool_call_id)\u001b[0m\n\u001b[1;32m    562\u001b[0m                 \u001b[38;5;28;01mraise\u001b[39;00m \u001b[38;5;167;01mValueError\u001b[39;00m(msg)\n\u001b[1;32m    563\u001b[0m             tool_input[k] \u001b[38;5;241m=\u001b[39m tool_call_id\n\u001b[0;32m--> 564\u001b[0m     result \u001b[38;5;241m=\u001b[39m \u001b[43minput_args\u001b[49m\u001b[38;5;241;43m.\u001b[39;49m\u001b[43mmodel_validate\u001b[49m\u001b[43m(\u001b[49m\u001b[43mtool_input\u001b[49m\u001b[43m)\u001b[49m\n\u001b[1;32m    565\u001b[0m     result_dict \u001b[38;5;241m=\u001b[39m result\u001b[38;5;241m.\u001b[39mmodel_dump()\n\u001b[1;32m    566\u001b[0m \u001b[38;5;28;01melif\u001b[39;00m \u001b[38;5;28missubclass\u001b[39m(input_args, BaseModelV1):\n",
      "File \u001b[0;32m~/Desktop/Learning/AI/graph_yt/env/lib/python3.10/site-packages/pydantic/main.py:693\u001b[0m, in \u001b[0;36mBaseModel.model_validate\u001b[0;34m(cls, obj, strict, from_attributes, context, by_alias, by_name)\u001b[0m\n\u001b[1;32m    687\u001b[0m \u001b[38;5;28;01mif\u001b[39;00m by_alias \u001b[38;5;129;01mis\u001b[39;00m \u001b[38;5;28;01mFalse\u001b[39;00m \u001b[38;5;129;01mand\u001b[39;00m by_name \u001b[38;5;129;01mis\u001b[39;00m \u001b[38;5;129;01mnot\u001b[39;00m \u001b[38;5;28;01mTrue\u001b[39;00m:\n\u001b[1;32m    688\u001b[0m     \u001b[38;5;28;01mraise\u001b[39;00m PydanticUserError(\n\u001b[1;32m    689\u001b[0m         \u001b[38;5;124m'\u001b[39m\u001b[38;5;124mAt least one of `by_alias` or `by_name` must be set to True.\u001b[39m\u001b[38;5;124m'\u001b[39m,\n\u001b[1;32m    690\u001b[0m         code\u001b[38;5;241m=\u001b[39m\u001b[38;5;124m'\u001b[39m\u001b[38;5;124mvalidate-by-alias-and-name-false\u001b[39m\u001b[38;5;124m'\u001b[39m,\n\u001b[1;32m    691\u001b[0m     )\n\u001b[0;32m--> 693\u001b[0m \u001b[38;5;28;01mreturn\u001b[39;00m \u001b[38;5;28;43mcls\u001b[39;49m\u001b[38;5;241;43m.\u001b[39;49m\u001b[43m__pydantic_validator__\u001b[49m\u001b[38;5;241;43m.\u001b[39;49m\u001b[43mvalidate_python\u001b[49m\u001b[43m(\u001b[49m\n\u001b[1;32m    694\u001b[0m \u001b[43m    \u001b[49m\u001b[43mobj\u001b[49m\u001b[43m,\u001b[49m\u001b[43m \u001b[49m\u001b[43mstrict\u001b[49m\u001b[38;5;241;43m=\u001b[39;49m\u001b[43mstrict\u001b[49m\u001b[43m,\u001b[49m\u001b[43m \u001b[49m\u001b[43mfrom_attributes\u001b[49m\u001b[38;5;241;43m=\u001b[39;49m\u001b[43mfrom_attributes\u001b[49m\u001b[43m,\u001b[49m\u001b[43m \u001b[49m\u001b[43mcontext\u001b[49m\u001b[38;5;241;43m=\u001b[39;49m\u001b[43mcontext\u001b[49m\u001b[43m,\u001b[49m\u001b[43m \u001b[49m\u001b[43mby_alias\u001b[49m\u001b[38;5;241;43m=\u001b[39;49m\u001b[43mby_alias\u001b[49m\u001b[43m,\u001b[49m\u001b[43m \u001b[49m\u001b[43mby_name\u001b[49m\u001b[38;5;241;43m=\u001b[39;49m\u001b[43mby_name\u001b[49m\n\u001b[1;32m    695\u001b[0m \u001b[43m\u001b[49m\u001b[43m)\u001b[49m\n",
      "\u001b[0;31mValidationError\u001b[0m: 1 validation error for TavilyInput\nquery\n  Field required [type=missing, input_value={'question': 'What is LangChain?'}, input_type=dict]\n    For further information visit https://errors.pydantic.dev/2.11/v/missing"
     ]
    }
   ],
   "source": [
    "search_query({\"messages\": [HumanMessage(content=\"What is LangChain?\")]})\n"
   ]
  },
  {
   "cell_type": "code",
   "execution_count": 131,
   "metadata": {},
   "outputs": [],
   "source": [
    "def grade_documents(state:AgentState)->Literal[\"Output_Generator\", \"Query_Rewriter\"]:\n",
    "    llm_with_structure_op=llm.with_structured_output(grade)\n",
    "    \n",
    "    prompt=PromptTemplate(\n",
    "        template=\"\"\"You are a grader deciding if a document is relevant to a user’s question.\n",
    "                    Here is the document: {context}\n",
    "                    Here is the user’s question: {question}\n",
    "                    If the document talks about or contains information related to the user’s question, mark it as relevant. \n",
    "                    Give a 'yes' or 'no' answer to show if the document is relevant to the question.\"\"\",\n",
    "                    input_variables=[\"context\", \"question\"]\n",
    "                    )\n",
    "    chain = prompt | llm_with_structure_op\n",
    "    \n",
    "    messages = state[\"messages\"]\n",
    "    last_message = messages[-1]\n",
    "    question = messages[0].content\n",
    "    docs = last_message.content\n",
    "    scored_result = chain.invoke({\"question\": question, \"context\": docs})\n",
    "    score = scored_result.binary_score\n",
    "\n",
    "    if score == \"yes\":\n",
    "        print(\"---DECISION: DOCS RELEVANT---\")\n",
    "        return \"generator\" #this should be a node name\n",
    "    else:\n",
    "        print(\"---DECISION: DOCS NOT RELEVANT---\")\n",
    "        return \"rewriter\" #this should be a node name"
   ]
  },
  {
   "cell_type": "code",
   "execution_count": 132,
   "metadata": {},
   "outputs": [],
   "source": [
    "def generate(state:AgentState):\n",
    "    print(\"---GENERATE---\")\n",
    "    messages = state[\"messages\"]\n",
    "\n",
    "    question = messages[0].content\n",
    "    \n",
    "    last_message = messages[-1]\n",
    "    docs = last_message.content\n",
    "    \n",
    "    prompt = hub.pull(\"rlm/rag-prompt\")\n",
    "    \n",
    "    rag_chain = prompt | llm\n",
    "\n",
    "    response = rag_chain.invoke({\"context\": docs, \"question\": question})\n",
    "    print(f\"this is my response:{response}\")\n",
    "    \n",
    "    return {\"messages\": [response]}"
   ]
  },
  {
   "cell_type": "code",
   "execution_count": 133,
   "metadata": {},
   "outputs": [],
   "source": [
    "from langchain_core.messages import  HumanMessage\n",
    "def rewrite(state:AgentState):\n",
    "    print(\"---TRANSFORM QUERY---\")\n",
    "    messages = state[\"messages\"]\n",
    "    question = messages[0].content\n",
    "    \n",
    "    message = [HumanMessage(content=f\"\"\"Look at the input and try to reason about the underlying semantic intent or meaning. \n",
    "                    Here is the initial question: {question} \n",
    "                    Formulate an improved question: \"\"\")\n",
    "       ]\n",
    "    response = llm.invoke(message)\n",
    "    return {\"messages\": [response]}"
   ]
  },
  {
   "cell_type": "code",
   "execution_count": 134,
   "metadata": {},
   "outputs": [
    {
     "data": {
      "text/plain": [
       "<langgraph.graph.state.StateGraph at 0x700f8078ddb0>"
      ]
     },
     "execution_count": 134,
     "metadata": {},
     "output_type": "execute_result"
    }
   ],
   "source": [
    "workflow=StateGraph(AgentState)\n",
    "workflow.add_node(\"My_Ai_Assistant\",ai_assistant)\n",
    "workflow.add_node(\"Vector_Retriever\",retrieve)\n",
    "workflow.add_node(\"Query_Rewriter\",rewrite)\n",
    "workflow.add_node(\"Output_Generator\",generate)"
   ]
  },
  {
   "cell_type": "code",
   "execution_count": 135,
   "metadata": {},
   "outputs": [
    {
     "data": {
      "text/plain": [
       "<langgraph.graph.state.StateGraph at 0x700f8078ddb0>"
      ]
     },
     "execution_count": 135,
     "metadata": {},
     "output_type": "execute_result"
    }
   ],
   "source": [
    "workflow.add_edge(START,\"My_Ai_Assistant\")"
   ]
  },
  {
   "cell_type": "code",
   "execution_count": 136,
   "metadata": {},
   "outputs": [
    {
     "data": {
      "text/plain": [
       "<langgraph.graph.state.StateGraph at 0x700f8078ddb0>"
      ]
     },
     "execution_count": 136,
     "metadata": {},
     "output_type": "execute_result"
    }
   ],
   "source": [
    "workflow.add_conditional_edges(\"My_Ai_Assistant\",\n",
    "                               tools_condition,\n",
    "                               {\"tools\":\"Vector_Retriever\",\n",
    "                                END:END,})"
   ]
  },
  {
   "cell_type": "code",
   "execution_count": 137,
   "metadata": {},
   "outputs": [
    {
     "data": {
      "text/plain": [
       "<langgraph.graph.state.StateGraph at 0x700f8078ddb0>"
      ]
     },
     "execution_count": 137,
     "metadata": {},
     "output_type": "execute_result"
    }
   ],
   "source": [
    "workflow.add_conditional_edges(\"Vector_Retriever\",\n",
    "                               grade_documents,\n",
    "                               {\n",
    "                                \"generator\":\"Output_Generator\",\n",
    "                                \"rewriter\":\"Query_Rewriter\"\n",
    "                                }\n",
    "                                )"
   ]
  },
  {
   "cell_type": "code",
   "execution_count": 138,
   "metadata": {},
   "outputs": [
    {
     "data": {
      "text/plain": [
       "<langgraph.graph.state.StateGraph at 0x700f8078ddb0>"
      ]
     },
     "execution_count": 138,
     "metadata": {},
     "output_type": "execute_result"
    }
   ],
   "source": [
    "workflow.add_edge(\"Output_Generator\",END)"
   ]
  },
  {
   "cell_type": "code",
   "execution_count": 139,
   "metadata": {},
   "outputs": [
    {
     "data": {
      "text/plain": [
       "<langgraph.graph.state.StateGraph at 0x700f8078ddb0>"
      ]
     },
     "execution_count": 139,
     "metadata": {},
     "output_type": "execute_result"
    }
   ],
   "source": [
    "workflow.add_edge(\"Query_Rewriter\",\"My_Ai_Assistant\")"
   ]
  },
  {
   "cell_type": "code",
   "execution_count": 140,
   "metadata": {},
   "outputs": [],
   "source": [
    "app= workflow.compile()"
   ]
  },
  {
   "cell_type": "code",
   "execution_count": 141,
   "metadata": {},
   "outputs": [
    {
     "data": {
      "image/png": "[encoded data removed]",
      "text/plain": [
       "<langgraph.graph.state.CompiledStateGraph object at 0x700f8078cdf0>"
      ]
     },
     "execution_count": 141,
     "metadata": {},
     "output_type": "execute_result"
    }
   ],
   "source": [
    "app"
   ]
  },
  {
   "cell_type": "code",
   "execution_count": 180,
   "metadata": {},
   "outputs": [
    {
     "name": "stdout",
     "output_type": "stream",
     "text": [
      "----State---- [HumanMessage(content='Find a heart text based animation ASCII art', additional_kwargs={}, response_metadata={}, id='a0539d1b-4555-4d3d-bceb-bdb72b46de5d')]\n",
      "---CALL AGENT---\n",
      "---DECISION: DOCS NOT RELEVANT---\n",
      "---TRANSFORM QUERY---\n",
      "----State---- [HumanMessage(content='Find a heart text based animation ASCII art', additional_kwargs={}, response_metadata={}, id='a0539d1b-4555-4d3d-bceb-bdb72b46de5d'), AIMessage(content='', additional_kwargs={'tool_calls': [{'id': 'call_kjwe', 'function': {'arguments': '{\"query\":\"ASCII art heart animation\"}', 'name': 'retrieve_blog_posts'}, 'type': 'function'}]}, response_metadata={'token_usage': {'completion_tokens': 87, 'prompt_tokens': 1041, 'total_tokens': 1128, 'completion_time': 0.158181818, 'prompt_time': 0.036615672, 'queue_time': 0.23772098600000002, 'total_time': 0.19479749}, 'model_name': 'Gemma2-9b-It', 'system_fingerprint': 'fp_10c08bf97d', 'finish_reason': 'tool_calls', 'logprobs': None}, id='run-0fd8d2ea-a386-41e2-8b0b-cfd5d2f22ede-0', tool_calls=[{'name': 'retrieve_blog_posts', 'args': {'query': 'ASCII art heart animation'}, 'id': 'call_kjwe', 'type': 'tool_call'}], usage_metadata={'input_tokens': 1041, 'output_tokens': 87, 'total_tokens': 1128}), ToolMessage(content='HuggingGPT (Shen et al. 2023) is a framework to use ChatGPT as the task planner to select models available in HuggingFace platform according to the model descriptions and summarize the response based on the execution results.\\n\\nHuggingGPT (Shen et al. 2023) is a framework to use ChatGPT as the task planner to select models available in HuggingFace platform according to the model descriptions and summarize the response based on the execution results.\\n\\n[16] Shen et al. “HuggingGPT: Solving AI Tasks with ChatGPT and its Friends in HuggingFace” arXiv preprint arXiv:2303.17580 (2023).\\n[17] Bran et al. “ChemCrow: Augmenting large-language models with chemistry tools.” arXiv preprint arXiv:2304.05376 (2023).\\n\\n[16] Shen et al. “HuggingGPT: Solving AI Tasks with ChatGPT and its Friends in HuggingFace” arXiv preprint arXiv:2303.17580 (2023).\\n[17] Bran et al. “ChemCrow: Augmenting large-language models with chemistry tools.” arXiv preprint arXiv:2304.05376 (2023).', name='retrieve_blog_posts', id='0b9387dd-517d-4dd5-ab46-01af7c3e3327', tool_call_id='call_kjwe'), AIMessage(content='The user wants to find a visual representation of a heart, made using ASCII characters that move or change over time. \\n\\nHere\\'s a more improved question:\\n\\n**Can you show me some animated ASCII art of a heart?** \\n\\n\\nThis question is clearer because:\\n\\n* **It specifies \"animated\"**:  This emphasizes the moving aspect of the desired art.\\n* **It\\'s more concise**:  \"Find\" is replaced with the more direct \"show me\". \\n* **It avoids jargon**:  \"Text based\" is implied by \"ASCII art\". \\n\\n\\n\\nLet me know if you\\'d like to see some examples! \\n', additional_kwargs={}, response_metadata={'token_usage': {'completion_tokens': 138, 'prompt_tokens': 52, 'total_tokens': 190, 'completion_time': 0.250909091, 'prompt_time': 0.003449453, 'queue_time': 0.23526834600000002, 'total_time': 0.254358544}, 'model_name': 'Gemma2-9b-It', 'system_fingerprint': 'fp_10c08bf97d', 'finish_reason': 'stop', 'logprobs': None}, id='run-099bc19e-3897-490a-aac7-48f3882844fa-0', usage_metadata={'input_tokens': 52, 'output_tokens': 138, 'total_tokens': 190})]\n",
      "---CALL AGENT---\n"
     ]
    }
   ],
   "source": [
    "res=app.invoke({\"messages\":[\"Find a heart text based animation ASCII art\"]})"
   ]
  },
  {
   "cell_type": "code",
   "execution_count": 181,
   "metadata": {},
   "outputs": [
    {
     "data": {
      "text/plain": [
       "\"You're absolutely right! That's a much better question.  I like how it's clear, concise, and gets straight to the point. \\n\\nI can definitely show you some animated ASCII art of a heart.  \\n\\nUnfortunately, I can't directly display moving images within this text-based interface. However, I can give you some code examples or point you to resources online that demonstrate animated ASCII art hearts. \\n\\nWould you like to see some code examples, or would you prefer links to websites that feature animated ASCII art?  \\n\\n\""
      ]
     },
     "execution_count": 181,
     "metadata": {},
     "output_type": "execute_result"
    }
   ],
   "source": [
    "res['messages'][-1].content"
   ]
  },
  {
   "cell_type": "code",
   "execution_count": null,
   "metadata": {},
   "outputs": [
    {
     "name": "stdout",
     "output_type": "stream",
     "text": [
      "content='I need you to tell me what kind of animation you want! For example, you could request a \"2-frame heart animation\", a \"5-frame loading animation\", or a \"3-frame text that says \\'hello\\'\". \\n\\n\\nLet me know and I\\'ll create it for you. 😊 \\n' additional_kwargs={} response_metadata={'token_usage': {'completion_tokens': 66, 'prompt_tokens': 1400, 'total_tokens': 1466, 'completion_time': 0.12, 'prompt_time': 0.048665779, 'queue_time': 0.23872032499999998, 'total_time': 0.168665779}, 'model_name': 'Gemma2-9b-It', 'system_fingerprint': 'fp_10c08bf97d', 'finish_reason': 'stop', 'logprobs': None} id='run-0a32bc2b-7652-4150-bab7-dd8d2e53ff6e-0' usage_metadata={'input_tokens': 1400, 'output_tokens': 66, 'total_tokens': 1466}\n"
     ]
    }
   ],
   "source": [
    "# from langchain import PromptTemplate\n",
    "\n",
    "# prompt = PromptTemplate(\n",
    "#     template=\"\"\"\n",
    "# You are an expert ASCII animation generator. When given a user request, do the following:\n",
    "\n",
    "# 1. **Extract** from the question:\n",
    "#    - The **type** of animation (shape, text, or motif).  \n",
    "#    - The **number of frames** requested (default to 2 if unspecified).  \n",
    "#    - The **characters** to animate (e.g. heart uses `O` or `<3`; loading uses `|`, `/`, `-`, `\\\\`).\n",
    "\n",
    "# 2. **Output** exactly N frames (where N is the extracted frame count), each labeled:\n",
    "\n",
    "# Frame 1:\n",
    "# <ASCII art for frame 1>\n",
    "\n",
    "# Frame 2:\n",
    "# <ASCII art for frame 2>\n",
    "\n",
    "# ...and so on, up to Frame N.\n",
    "\n",
    "# - **Do not** wrap frames in triple backticks or add any extra commentary.  \n",
    "# - **Do** separate frames with a blank line after the label.\n",
    "\n",
    "# **Example** (for “2‑frame heart animation”):\n",
    "# Frame 1:\n",
    "#    _.--\"\"--._\n",
    "#  .'          '.\n",
    "# /   O      O   \\\\\n",
    "# |    \\\\  ^^  /    |\n",
    "# \\\\     `----'     /\n",
    "#  '.__________.'\n",
    "\n",
    "# Frame 2:\n",
    "#    _.--\"\"--._\n",
    "#  .'          '.\n",
    "# /   Y      U   \\\\\n",
    "# |    \\\\  ^^  /    |\n",
    "# \\\\     `----'     /\n",
    "#  '.__________.'\n",
    "\n",
    "# Now, based on the user’s question:\n",
    "# {question}\n",
    "# generate the requested ASCII animation\n",
    "# \"\"\",\n",
    "#     input_variables=[\"question\"]\n",
    "# )\n",
    "\n",
    "# chain = prompt | llm\n",
    "# response = chain.invoke({\"question\": \"Generate a simple text based heart \"})\n",
    "# print(response.content)\n",
    "\n",
    "\n",
    "# # \"You are absolutely right! \\n\\nThat's a great breakdown of how to improve a vague question about creating a text-based heart animation.  You've highlighted the importance of:\\n\\n* **Specificity:**  Making it clear what kind of animation is desired (beating, pulsing, expanding/contracting).\\n* **Technical Focus:**  Outlining the desired tools (programming language, character set) or methods.\\n* **Creative Intent:**  Understanding the user's motivation behind the animation (expressing love, etc.).\\n\\n\\nBy clarifying these aspects, we can provide much more helpful and relevant assistance.  \\n\\n\"\n",
    "\n",
    "\n",
    "# # prompt=PromptTemplate(\n",
    "# #         template=\"\"\"You are an ASCII art animation generator. When asked to create a text animation, follow these rules:\n",
    "\n",
    "# # 1. Output only the raw ASCII frames, each enclosed in triple backticks (```), with no extra explanation.  \n",
    "# # 2. Separate frames with a delimiter line like `--- Frame X ---`.  \n",
    "# # 3. First, create a two‑frame heart animation that alternates between a solid heart and a “You” heart:\n",
    "# #    - Frame 1: A full ASCII heart.  \n",
    "# #    - Frame 2: The word “You” centered inside an ASCII heart outline.  \n",
    "# # 4. Then, produce a simple static “loading” animation of a rotating bar (|, /, –, \\\\) in four frames.  \n",
    "# # 5. Do not add any text other than the ASCII art itself.\n",
    "\n",
    "# # Now generate the animations.\n",
    "# # \"\"\",\n",
    "# #                         input_variables=[\"question\"]\n",
    "# #                         )\n",
    "            \n",
    "# # chain = prompt | llm\n",
    "    \n",
    "# # response=chain.invoke({\"question\": res['messages'][-1].content})\n"
   ]
  },
  {
   "cell_type": "code",
   "execution_count": null,
   "metadata": {},
   "outputs": [
    {
     "name": "stdout",
     "output_type": "stream",
     "text": [
      "Frame 1:\n",
      "   _.--\"\"--._\n",
      " .'          '.\n",
      "/   I      <3   \\\n",
      "|    \\  L  /    |\n",
      "\\     `----'     /\n",
      " '.__________.'\n",
      "\n",
      "Frame 2:\n",
      "   _.--\"\"--._\n",
      " .'          '.\n",
      "/   O      <3   \\\n",
      "|    \\  U  /    |\n",
      "\\     `----'     /\n",
      " '.__________.' \n",
      "\n",
      "\n",
      "\n",
      "\n"
     ]
    }
   ],
   "source": [
    "from langchain import PromptTemplate\n",
    "\n",
    "prompt = PromptTemplate(\n",
    "    template=\"\"\"\n",
    "You are an expert ASCII animation generator.  When given a user request, do the following:\n",
    "\n",
    "1. **Read** the user’s question:  \n",
    "   \"{question}\"\n",
    "\n",
    "2. **Extract**:\n",
    "   - **Motif**: the shape or text to animate (e.g. “heart”, “star”, “dev”, “HELLO”).  \n",
    "   - **Frame count**: if the question mentions “N‑frame” (e.g. “3‑frame”), use that; otherwise default to 2.  \n",
    "\n",
    "3. **Select characters**:\n",
    "   - For **text motifs**, animate by shifting or cycling through the letters.  \n",
    "   - For **shape motifs** (like “heart” or “star”), use common ASCII symbols (`O`, `*`, `<3`, etc.) and, on alternate frames, replace one symbol with the motif’s letters if it’s short (e.g. “DEV” inside a heart).  \n",
    "\n",
    "4. **Generate** exactly N frames:\n",
    "   - Prefix each with `Frame i:` (i from 1 to N)  \n",
    "   - Leave a blank line after the label  \n",
    "   - Draw the ASCII art—**no** triple backticks, **no** extra text  \n",
    "\n",
    "**Example** for “2‑frame heart”:\n",
    "Frame 1:\n",
    "   _.--\"\"--._\n",
    " .'          '.\n",
    "/   O      O   \\\\\n",
    "|    \\\\  ^^  /    |\n",
    "\\\\     `----'     /\n",
    " '.__________.'\n",
    "\n",
    "Frame 2:\n",
    "   _.--\"\"--._\n",
    " .'          '.\n",
    "/   D      E   \\\\\n",
    "|    \\\\  V   /    |\n",
    "\\\\     `----'     /\n",
    " '.__________.'\n",
    "\n",
    "Now, based on the user’s question above, generate the requested ASCII animation.\n",
    "\"\"\",\n",
    "    input_variables=[\"question\"]\n",
    ")\n",
    "\n",
    "# Usage:\n",
    "chain = prompt | llm\n",
    "# response = chain.invoke({\"question\": \"Generate a I love you   \"})\n",
    "print(response.content)\n"
   ]
  },
  {
   "cell_type": "code",
   "execution_count": null,
   "metadata": {},
   "outputs": [],
   "source": []
  }
 ],
 "metadata": {
  "kernelspec": {
   "display_name": "env",
   "language": "python",
   "name": "python3"
  },
  "language_info": {
   "codemirror_mode": {
    "name": "ipython",
    "version": 3
   },
   "file_extension": ".py",
   "mimetype": "text/x-python",
   "name": "python",
   "nbconvert_exporter": "python",
   "pygments_lexer": "ipython3",
   "version": "3.10.12"
  }
 },
 "nbformat": 4,
 "nbformat_minor": 2
}
