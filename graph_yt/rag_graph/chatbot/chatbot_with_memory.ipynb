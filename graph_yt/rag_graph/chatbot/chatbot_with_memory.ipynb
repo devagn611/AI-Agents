{
 "cells": [
  {
   "cell_type": "code",
   "execution_count": 1,
   "metadata": {},
   "outputs": [
    {
     "data": {
      "text/plain": [
       "True"
      ]
     },
     "execution_count": 1,
     "metadata": {},
     "output_type": "execute_result"
    }
   ],
   "source": [
    "import os\n",
    "from dotenv import load_dotenv\n",
    "load_dotenv()\n"
   ]
  },
  {
   "cell_type": "code",
   "execution_count": 2,
   "metadata": {},
   "outputs": [],
   "source": [
    "os.environ[\"GROQ_API_KEY\"] = os.getenv(\"GROQ_API_KEY\")"
   ]
  },
  {
   "cell_type": "code",
   "execution_count": 3,
   "metadata": {},
   "outputs": [],
   "source": [
    "from langchain_groq import ChatGroq\n",
    "llm = ChatGroq(model_name=\"Gemma2-9b-It\")"
   ]
  },
  {
   "cell_type": "code",
   "execution_count": 4,
   "metadata": {},
   "outputs": [
    {
     "data": {
      "text/plain": [
       "'The capital of France is **Paris**. 🇫🇷  \\n'"
      ]
     },
     "execution_count": 4,
     "metadata": {},
     "output_type": "execute_result"
    }
   ],
   "source": [
    "llm.invoke(\"What is the capital of France?\").content"
   ]
  },
  {
   "cell_type": "code",
   "execution_count": 5,
   "metadata": {},
   "outputs": [],
   "source": [
    "from langgraph.graph import StateGraph,MessagesState,START,END\n",
    "from langgraph.graph.message import add_messages\n",
    "from typing import Annotated,Literal,TypedDict\n",
    "from langchain_core.tools import tool\n",
    "from langchain_core.messages import HumanMessage \n",
    "from langgraph.checkpoint.memory import MemorySaver\n",
    "from langgraph.prebuilt import ToolNode"
   ]
  },
  {
   "cell_type": "code",
   "execution_count": 6,
   "metadata": {},
   "outputs": [],
   "source": [
    "def call_model(state: MessagesState):\n",
    "    messages=state['messages']\n",
    "    response=llm.invoke(messages)\n",
    "    return {\"messages\": [response]}"
   ]
  },
  {
   "cell_type": "code",
   "execution_count": 7,
   "metadata": {},
   "outputs": [],
   "source": [
    "workflow = StateGraph(MessagesState)\n",
    "workflow.add_node(\"chatbot\",call_model)\n",
    "# workflow.add_node(\"tool\", ToolNode(tools=[]))  # Provide an empty list or the required tools\n",
    "workflow.add_edge(START,\"chatbot\")\n",
    "workflow.add_edge(\"chatbot\",END)\n",
    "app=workflow.compile()"
   ]
  },
  {
   "cell_type": "code",
   "execution_count": 8,
   "metadata": {},
   "outputs": [
    {
     "data": {
      "image/png": "[encoded data removed]",
      "text/plain": [
       "<langgraph.graph.state.CompiledStateGraph object at 0x71fccab91480>"
      ]
     },
     "execution_count": 8,
     "metadata": {},
     "output_type": "execute_result"
    }
   ],
   "source": [
    "app"
   ]
  },
  {
   "cell_type": "code",
   "execution_count": 9,
   "metadata": {},
   "outputs": [],
   "source": [
    "input={\"messages\":[\"Generate code in python for the following function:\",\"def add(a:int,b:int)->int:\"]}\n",
    "res=app.invoke(input)\n"
   ]
  },
  {
   "cell_type": "code",
   "execution_count": 10,
   "metadata": {},
   "outputs": [
    {
     "data": {
      "text/plain": [
       "{'messages': [HumanMessage(content='Generate code in python for the following function:', additional_kwargs={}, response_metadata={}, id='ee35cbcf-860e-4ac2-9845-f124bf77ac33'),\n",
       "  HumanMessage(content='def add(a:int,b:int)->int:', additional_kwargs={}, response_metadata={}, id='3390ff4b-ebc6-4272-a2d1-cba18b22c2e0'),\n",
       "  AIMessage(content='```python\\ndef add(a: int, b: int) -> int:\\n  \"\"\"\\n  This function adds two integers.\\n\\n  Args:\\n    a: The first integer.\\n    b: The second integer.\\n\\n  Returns:\\n    The sum of a and b.\\n  \"\"\"\\n  return a + b\\n``` \\n\\n**Explanation:**\\n\\n* **`def add(a: int, b: int) -> int:`**\\n    * This line defines the function named `add`.\\n    * `a: int` and `b: int` specify that the function expects two arguments, `a` and `b`, both of which should be integers.\\n    * `-> int` indicates that the function will return an integer value.\\n* **`\"\"\"...\"\"\"`**:\\n    * This is a docstring, which provides a description of what the function does. It\\'s good practice to include docstrings to make your code more understandable.\\n* **`return a + b`**:\\n    * This line performs the addition of the two input integers (`a` and `b`) and returns the result.\\n\\n\\nLet me know if you\\'d like to see examples of how to use this function!\\n', additional_kwargs={}, response_metadata={'token_usage': {'completion_tokens': 262, 'prompt_tokens': 41, 'total_tokens': 303, 'completion_time': 0.476363636, 'prompt_time': 0.003656941, 'queue_time': 0.233216957, 'total_time': 0.480020577}, 'model_name': 'Gemma2-9b-It', 'system_fingerprint': 'fp_10c08bf97d', 'finish_reason': 'stop', 'logprobs': None}, id='run-7b872b5c-9975-4c2a-a4af-45e30fa52103-0', usage_metadata={'input_tokens': 41, 'output_tokens': 262, 'total_tokens': 303})]}"
      ]
     },
     "execution_count": 10,
     "metadata": {},
     "output_type": "execute_result"
    }
   ],
   "source": [
    "res"
   ]
  },
  {
   "cell_type": "code",
   "execution_count": 11,
   "metadata": {},
   "outputs": [
    {
     "name": "stdout",
     "output_type": "stream",
     "text": [
      "Output from chatbot Node\n",
      "________\n",
      "{'messages': [AIMessage(content='```python\\ndef add(a: int, b: int) -> int:\\n  \"\"\"Adds two integers together.\\n\\n  Args:\\n    a: The first integer.\\n    b: The second integer.\\n\\n  Returns:\\n    The sum of the two integers.\\n  \"\"\"\\n  return a + b\\n```\\n\\n**Explanation:**\\n\\n* **`def add(a: int, b: int) -> int:`** This line defines the function named `add` that takes two arguments, `a` and `b`, both of type `int` (integer). The `-> int` part specifies that the function will return a value of type `int`.\\n* **`\"\"\"Adds two integers together...\"\"\"`**: This is a docstring that describes what the function does. Docstrings are used to document code and can be accessed using the `help()` function or by hovering over the function name in an IDE.\\n* **`return a + b`**: This line calculates the sum of `a` and `b` and returns the result.\\n\\n**How to use the function:**\\n\\n```python\\nresult = add(5, 3)  # Call the function with arguments 5 and 3\\nprint(result)     # Output: 8\\n``` \\n\\n\\nLet me know if you have any other functions you\\'d like me to generate code for!\\n', additional_kwargs={}, response_metadata={'token_usage': {'completion_tokens': 292, 'prompt_tokens': 41, 'total_tokens': 333, 'completion_time': 0.530909091, 'prompt_time': 0.002548265, 'queue_time': 0.231300744, 'total_time': 0.533457356}, 'model_name': 'Gemma2-9b-It', 'system_fingerprint': 'fp_10c08bf97d', 'finish_reason': 'stop', 'logprobs': None}, id='run-392b98fa-0396-49c6-87fb-df24c36193f0-0', usage_metadata={'input_tokens': 41, 'output_tokens': 292, 'total_tokens': 333})]}\n",
      "\n",
      "\n"
     ]
    }
   ],
   "source": [
    "for output in app.stream(input):\n",
    "    for key,value in output.items():\n",
    "        print(f\"Output from {key} Node\")\n",
    "        print(\"________\")\n",
    "        print(value)\n",
    "        print(\"\\n\")"
   ]
  },
  {
   "cell_type": "code",
   "execution_count": 45,
   "metadata": {},
   "outputs": [],
   "source": [
    "@tool \n",
    "def search(query: str) -> str:\n",
    "    \"\"\"\n",
    "    This a custom tool that searches for the given query.\n",
    "    only use this tool if required.\n",
    "    \"\"\"\n",
    "    if \"sf\" in query.lower() or \"san francisco\" in query.lower():\n",
    "        return \"it's 60 degrees and foggy in San Francisco\"\n",
    "    return \"It's 90 degrees and sunny in San Francisco\""
   ]
  },
  {
   "cell_type": "code",
   "execution_count": 46,
   "metadata": {},
   "outputs": [
    {
     "data": {
      "text/plain": [
       "\"it's 60 degrees and foggy in San Francisco\""
      ]
     },
     "execution_count": 46,
     "metadata": {},
     "output_type": "execute_result"
    }
   ],
   "source": [
    "search.invoke(\"What is the weather in San Francisco?\")"
   ]
  },
  {
   "cell_type": "code",
   "execution_count": 47,
   "metadata": {},
   "outputs": [
    {
     "data": {
      "text/plain": [
       "\"It's 90 degrees and sunny in San Francisco\""
      ]
     },
     "execution_count": 47,
     "metadata": {},
     "output_type": "execute_result"
    }
   ],
   "source": [
    "search.invoke(\"What is the weather in India?\")"
   ]
  },
  {
   "cell_type": "code",
   "execution_count": 48,
   "metadata": {},
   "outputs": [],
   "source": [
    "tools=[search]"
   ]
  },
  {
   "cell_type": "code",
   "execution_count": 49,
   "metadata": {},
   "outputs": [],
   "source": [
    "tool_node=ToolNode(tools=tools)"
   ]
  },
  {
   "cell_type": "code",
   "execution_count": 50,
   "metadata": {},
   "outputs": [],
   "source": [
    "llm_with_tool=llm.bind_tools(tools=tools)"
   ]
  },
  {
   "cell_type": "code",
   "execution_count": 51,
   "metadata": {},
   "outputs": [],
   "source": [
    "def call_model(state: MessagesState):\n",
    "    messages=state['messages']\n",
    "    response=llm_with_tool.invoke(messages)\n",
    "    return {\"messages\": [response]}"
   ]
  },
  {
   "cell_type": "code",
   "execution_count": 52,
   "metadata": {},
   "outputs": [],
   "source": [
    "response=call_model({\"messages\":[\"Hi, How are you?\"]})"
   ]
  },
  {
   "cell_type": "code",
   "execution_count": 1,
   "metadata": {},
   "outputs": [
    {
     "ename": "NameError",
     "evalue": "name 'response' is not defined",
     "output_type": "error",
     "traceback": [
      "\u001b[0;31m---------------------------------------------------------------------------\u001b[0m",
      "\u001b[0;31mNameError\u001b[0m                                 Traceback (most recent call last)",
      "Cell \u001b[0;32mIn[1], line 1\u001b[0m\n\u001b[0;32m----> 1\u001b[0m \u001b[43mresponse\u001b[49m[\u001b[38;5;124m\"\u001b[39m\u001b[38;5;124mmessages\u001b[39m\u001b[38;5;124m\"\u001b[39m]\n",
      "\u001b[0;31mNameError\u001b[0m: name 'response' is not defined"
     ]
    }
   ],
   "source": [
    "response[\"messages\"]"
   ]
  },
  {
   "cell_type": "code",
   "execution_count": 54,
   "metadata": {},
   "outputs": [],
   "source": [
    "# messages=response['messages']\n",
    "# messages[-1].tool_calls"
   ]
  },
  {
   "cell_type": "code",
   "execution_count": 55,
   "metadata": {},
   "outputs": [],
   "source": [
    "def router_function(state : MessagesState)-> Literal[\"tools\",END]:\n",
    "    print(f\"here is a state from should continue: {state}\")\n",
    "    messgaes=state['messages']\n",
    "    last_message=messgaes[-1]\n",
    "    print(f\"here is a last message from should continue: {last_message}\")\n",
    "    if last_message.tool_calls:\n",
    "        return \"tools\"\n",
    "    else:\n",
    "        return END"
   ]
  },
  {
   "cell_type": "code",
   "execution_count": 56,
   "metadata": {},
   "outputs": [],
   "source": [
    "workflow = StateGraph(MessagesState)\n",
    "workflow.add_node(\"agent\",call_model)\n",
    "workflow.add_node(\"tools\",tool_node)\n",
    "workflow.add_edge(START,\"agent\")\n",
    "\n",
    "workflow.add_conditional_edges(\"agent\",\n",
    "                               router_function,\n",
    "                               {\n",
    "                                    \"tools\": \"tools\",\n",
    "                                    END: END\n",
    "                               })\n",
    "workflow.add_edge(\"tools\", \"agent\")\n",
    "\n",
    "app= workflow.compile()"
   ]
  },
  {
   "cell_type": "code",
   "execution_count": 57,
   "metadata": {},
   "outputs": [
    {
     "data": {
      "image/png": "[encoded data removed]",
      "text/plain": [
       "<langgraph.graph.state.CompiledStateGraph object at 0x71fcc8c7bc40>"
      ]
     },
     "execution_count": 57,
     "metadata": {},
     "output_type": "execute_result"
    }
   ],
   "source": [
    "app"
   ]
  },
  {
   "cell_type": "code",
   "execution_count": 58,
   "metadata": {},
   "outputs": [
    {
     "name": "stdout",
     "output_type": "stream",
     "text": [
      "here is a state from should continue: {'messages': [HumanMessage(content='Hi, How are you?', additional_kwargs={}, response_metadata={}, id='72e9af4c-e24f-467d-955c-53d1a7705510'), AIMessage(content='', additional_kwargs={'tool_calls': [{'id': 'call_n4xr', 'function': {'arguments': '{\"query\":\"How are you?\"}', 'name': 'search'}, 'type': 'function'}]}, response_metadata={'token_usage': {'completion_tokens': 82, 'prompt_tokens': 955, 'total_tokens': 1037, 'completion_time': 0.149090909, 'prompt_time': 0.041258466, 'queue_time': 0.23373408299999998, 'total_time': 0.190349375}, 'model_name': 'Gemma2-9b-It', 'system_fingerprint': 'fp_10c08bf97d', 'finish_reason': 'tool_calls', 'logprobs': None}, id='run-bb15b624-22af-44f0-875c-1726e82caac0-0', tool_calls=[{'name': 'search', 'args': {'query': 'How are you?'}, 'id': 'call_n4xr', 'type': 'tool_call'}], usage_metadata={'input_tokens': 955, 'output_tokens': 82, 'total_tokens': 1037})]}\n",
      "here is a last message from should continue: content='' additional_kwargs={'tool_calls': [{'id': 'call_n4xr', 'function': {'arguments': '{\"query\":\"How are you?\"}', 'name': 'search'}, 'type': 'function'}]} response_metadata={'token_usage': {'completion_tokens': 82, 'prompt_tokens': 955, 'total_tokens': 1037, 'completion_time': 0.149090909, 'prompt_time': 0.041258466, 'queue_time': 0.23373408299999998, 'total_time': 0.190349375}, 'model_name': 'Gemma2-9b-It', 'system_fingerprint': 'fp_10c08bf97d', 'finish_reason': 'tool_calls', 'logprobs': None} id='run-bb15b624-22af-44f0-875c-1726e82caac0-0' tool_calls=[{'name': 'search', 'args': {'query': 'How are you?'}, 'id': 'call_n4xr', 'type': 'tool_call'}] usage_metadata={'input_tokens': 955, 'output_tokens': 82, 'total_tokens': 1037}\n",
      "here is a state from should continue: {'messages': [HumanMessage(content='Hi, How are you?', additional_kwargs={}, response_metadata={}, id='72e9af4c-e24f-467d-955c-53d1a7705510'), AIMessage(content='', additional_kwargs={'tool_calls': [{'id': 'call_n4xr', 'function': {'arguments': '{\"query\":\"How are you?\"}', 'name': 'search'}, 'type': 'function'}]}, response_metadata={'token_usage': {'completion_tokens': 82, 'prompt_tokens': 955, 'total_tokens': 1037, 'completion_time': 0.149090909, 'prompt_time': 0.041258466, 'queue_time': 0.23373408299999998, 'total_time': 0.190349375}, 'model_name': 'Gemma2-9b-It', 'system_fingerprint': 'fp_10c08bf97d', 'finish_reason': 'tool_calls', 'logprobs': None}, id='run-bb15b624-22af-44f0-875c-1726e82caac0-0', tool_calls=[{'name': 'search', 'args': {'query': 'How are you?'}, 'id': 'call_n4xr', 'type': 'tool_call'}], usage_metadata={'input_tokens': 955, 'output_tokens': 82, 'total_tokens': 1037}), ToolMessage(content=\"It's 90 degrees and sunny in San Francisco\", name='search', id='c9de136a-e301-4624-990b-80ae17518b12', tool_call_id='call_n4xr'), AIMessage(content='', additional_kwargs={'tool_calls': [{'id': 'call_gqz0', 'function': {'arguments': '{\"query\":\"What is the weather like in San Francisco?\"}', 'name': 'search'}, 'type': 'function'}]}, response_metadata={'token_usage': {'completion_tokens': 47, 'prompt_tokens': 1038, 'total_tokens': 1085, 'completion_time': 0.085454545, 'prompt_time': 0.044737388, 'queue_time': 0.232068151, 'total_time': 0.130191933}, 'model_name': 'Gemma2-9b-It', 'system_fingerprint': 'fp_10c08bf97d', 'finish_reason': 'tool_calls', 'logprobs': None}, id='run-b4d97da7-be27-4e2e-8bbc-403a5f3d0102-0', tool_calls=[{'name': 'search', 'args': {'query': 'What is the weather like in San Francisco?'}, 'id': 'call_gqz0', 'type': 'tool_call'}], usage_metadata={'input_tokens': 1038, 'output_tokens': 47, 'total_tokens': 1085})]}\n",
      "here is a last message from should continue: content='' additional_kwargs={'tool_calls': [{'id': 'call_gqz0', 'function': {'arguments': '{\"query\":\"What is the weather like in San Francisco?\"}', 'name': 'search'}, 'type': 'function'}]} response_metadata={'token_usage': {'completion_tokens': 47, 'prompt_tokens': 1038, 'total_tokens': 1085, 'completion_time': 0.085454545, 'prompt_time': 0.044737388, 'queue_time': 0.232068151, 'total_time': 0.130191933}, 'model_name': 'Gemma2-9b-It', 'system_fingerprint': 'fp_10c08bf97d', 'finish_reason': 'tool_calls', 'logprobs': None} id='run-b4d97da7-be27-4e2e-8bbc-403a5f3d0102-0' tool_calls=[{'name': 'search', 'args': {'query': 'What is the weather like in San Francisco?'}, 'id': 'call_gqz0', 'type': 'tool_call'}] usage_metadata={'input_tokens': 1038, 'output_tokens': 47, 'total_tokens': 1085}\n",
      "here is a state from should continue: {'messages': [HumanMessage(content='Hi, How are you?', additional_kwargs={}, response_metadata={}, id='72e9af4c-e24f-467d-955c-53d1a7705510'), AIMessage(content='', additional_kwargs={'tool_calls': [{'id': 'call_n4xr', 'function': {'arguments': '{\"query\":\"How are you?\"}', 'name': 'search'}, 'type': 'function'}]}, response_metadata={'token_usage': {'completion_tokens': 82, 'prompt_tokens': 955, 'total_tokens': 1037, 'completion_time': 0.149090909, 'prompt_time': 0.041258466, 'queue_time': 0.23373408299999998, 'total_time': 0.190349375}, 'model_name': 'Gemma2-9b-It', 'system_fingerprint': 'fp_10c08bf97d', 'finish_reason': 'tool_calls', 'logprobs': None}, id='run-bb15b624-22af-44f0-875c-1726e82caac0-0', tool_calls=[{'name': 'search', 'args': {'query': 'How are you?'}, 'id': 'call_n4xr', 'type': 'tool_call'}], usage_metadata={'input_tokens': 955, 'output_tokens': 82, 'total_tokens': 1037}), ToolMessage(content=\"It's 90 degrees and sunny in San Francisco\", name='search', id='c9de136a-e301-4624-990b-80ae17518b12', tool_call_id='call_n4xr'), AIMessage(content='', additional_kwargs={'tool_calls': [{'id': 'call_gqz0', 'function': {'arguments': '{\"query\":\"What is the weather like in San Francisco?\"}', 'name': 'search'}, 'type': 'function'}]}, response_metadata={'token_usage': {'completion_tokens': 47, 'prompt_tokens': 1038, 'total_tokens': 1085, 'completion_time': 0.085454545, 'prompt_time': 0.044737388, 'queue_time': 0.232068151, 'total_time': 0.130191933}, 'model_name': 'Gemma2-9b-It', 'system_fingerprint': 'fp_10c08bf97d', 'finish_reason': 'tool_calls', 'logprobs': None}, id='run-b4d97da7-be27-4e2e-8bbc-403a5f3d0102-0', tool_calls=[{'name': 'search', 'args': {'query': 'What is the weather like in San Francisco?'}, 'id': 'call_gqz0', 'type': 'tool_call'}], usage_metadata={'input_tokens': 1038, 'output_tokens': 47, 'total_tokens': 1085}), ToolMessage(content=\"it's 60 degrees and foggy in San Francisco\", name='search', id='f5747b91-08f0-42cc-8d67-6cee3c9c178f', tool_call_id='call_gqz0'), AIMessage(content=\"That's interesting!  The weather can change quickly in San Francisco.  How are you doing? \\n\", additional_kwargs={}, response_metadata={'token_usage': {'completion_tokens': 25, 'prompt_tokens': 1126, 'total_tokens': 1151, 'completion_time': 0.045454545, 'prompt_time': 0.048358531, 'queue_time': 0.235973057, 'total_time': 0.093813076}, 'model_name': 'Gemma2-9b-It', 'system_fingerprint': 'fp_10c08bf97d', 'finish_reason': 'stop', 'logprobs': None}, id='run-04c595fe-7092-4692-bad3-ec1e78529d71-0', usage_metadata={'input_tokens': 1126, 'output_tokens': 25, 'total_tokens': 1151})]}\n",
      "here is a last message from should continue: content=\"That's interesting!  The weather can change quickly in San Francisco.  How are you doing? \\n\" additional_kwargs={} response_metadata={'token_usage': {'completion_tokens': 25, 'prompt_tokens': 1126, 'total_tokens': 1151, 'completion_time': 0.045454545, 'prompt_time': 0.048358531, 'queue_time': 0.235973057, 'total_time': 0.093813076}, 'model_name': 'Gemma2-9b-It', 'system_fingerprint': 'fp_10c08bf97d', 'finish_reason': 'stop', 'logprobs': None} id='run-04c595fe-7092-4692-bad3-ec1e78529d71-0' usage_metadata={'input_tokens': 1126, 'output_tokens': 25, 'total_tokens': 1151}\n"
     ]
    },
    {
     "data": {
      "text/plain": [
       "{'messages': [HumanMessage(content='Hi, How are you?', additional_kwargs={}, response_metadata={}, id='72e9af4c-e24f-467d-955c-53d1a7705510'),\n",
       "  AIMessage(content='', additional_kwargs={'tool_calls': [{'id': 'call_n4xr', 'function': {'arguments': '{\"query\":\"How are you?\"}', 'name': 'search'}, 'type': 'function'}]}, response_metadata={'token_usage': {'completion_tokens': 82, 'prompt_tokens': 955, 'total_tokens': 1037, 'completion_time': 0.149090909, 'prompt_time': 0.041258466, 'queue_time': 0.23373408299999998, 'total_time': 0.190349375}, 'model_name': 'Gemma2-9b-It', 'system_fingerprint': 'fp_10c08bf97d', 'finish_reason': 'tool_calls', 'logprobs': None}, id='run-bb15b624-22af-44f0-875c-1726e82caac0-0', tool_calls=[{'name': 'search', 'args': {'query': 'How are you?'}, 'id': 'call_n4xr', 'type': 'tool_call'}], usage_metadata={'input_tokens': 955, 'output_tokens': 82, 'total_tokens': 1037}),\n",
       "  ToolMessage(content=\"It's 90 degrees and sunny in San Francisco\", name='search', id='c9de136a-e301-4624-990b-80ae17518b12', tool_call_id='call_n4xr'),\n",
       "  AIMessage(content='', additional_kwargs={'tool_calls': [{'id': 'call_gqz0', 'function': {'arguments': '{\"query\":\"What is the weather like in San Francisco?\"}', 'name': 'search'}, 'type': 'function'}]}, response_metadata={'token_usage': {'completion_tokens': 47, 'prompt_tokens': 1038, 'total_tokens': 1085, 'completion_time': 0.085454545, 'prompt_time': 0.044737388, 'queue_time': 0.232068151, 'total_time': 0.130191933}, 'model_name': 'Gemma2-9b-It', 'system_fingerprint': 'fp_10c08bf97d', 'finish_reason': 'tool_calls', 'logprobs': None}, id='run-b4d97da7-be27-4e2e-8bbc-403a5f3d0102-0', tool_calls=[{'name': 'search', 'args': {'query': 'What is the weather like in San Francisco?'}, 'id': 'call_gqz0', 'type': 'tool_call'}], usage_metadata={'input_tokens': 1038, 'output_tokens': 47, 'total_tokens': 1085}),\n",
       "  ToolMessage(content=\"it's 60 degrees and foggy in San Francisco\", name='search', id='f5747b91-08f0-42cc-8d67-6cee3c9c178f', tool_call_id='call_gqz0'),\n",
       "  AIMessage(content=\"That's interesting!  The weather can change quickly in San Francisco.  How are you doing? \\n\", additional_kwargs={}, response_metadata={'token_usage': {'completion_tokens': 25, 'prompt_tokens': 1126, 'total_tokens': 1151, 'completion_time': 0.045454545, 'prompt_time': 0.048358531, 'queue_time': 0.235973057, 'total_time': 0.093813076}, 'model_name': 'Gemma2-9b-It', 'system_fingerprint': 'fp_10c08bf97d', 'finish_reason': 'stop', 'logprobs': None}, id='run-04c595fe-7092-4692-bad3-ec1e78529d71-0', usage_metadata={'input_tokens': 1126, 'output_tokens': 25, 'total_tokens': 1151})]}"
      ]
     },
     "execution_count": 58,
     "metadata": {},
     "output_type": "execute_result"
    }
   ],
   "source": [
    "app.invoke({\"messages\":[\"Hi, How are you?\"]})"
   ]
  },
  {
   "cell_type": "code",
   "execution_count": 59,
   "metadata": {},
   "outputs": [
    {
     "name": "stdout",
     "output_type": "stream",
     "text": [
      "here is a state from should continue: {'messages': [HumanMessage(content='What is the weather in San Francisco?', additional_kwargs={}, response_metadata={}, id='a1086d2b-3222-4a87-bd11-5358fba17358'), AIMessage(content='', additional_kwargs={'tool_calls': [{'id': 'call_phvc', 'function': {'arguments': '{\"query\":\"weather in San Francisco\"}', 'name': 'search'}, 'type': 'function'}]}, response_metadata={'token_usage': {'completion_tokens': 83, 'prompt_tokens': 957, 'total_tokens': 1040, 'completion_time': 0.150909091, 'prompt_time': 0.060137033, 'queue_time': 0.255875108, 'total_time': 0.211046124}, 'model_name': 'Gemma2-9b-It', 'system_fingerprint': 'fp_10c08bf97d', 'finish_reason': 'tool_calls', 'logprobs': None}, id='run-94b91be5-8593-4680-b146-5b9f5b6afc95-0', tool_calls=[{'name': 'search', 'args': {'query': 'weather in San Francisco'}, 'id': 'call_phvc', 'type': 'tool_call'}], usage_metadata={'input_tokens': 957, 'output_tokens': 83, 'total_tokens': 1040})]}\n",
      "here is a last message from should continue: content='' additional_kwargs={'tool_calls': [{'id': 'call_phvc', 'function': {'arguments': '{\"query\":\"weather in San Francisco\"}', 'name': 'search'}, 'type': 'function'}]} response_metadata={'token_usage': {'completion_tokens': 83, 'prompt_tokens': 957, 'total_tokens': 1040, 'completion_time': 0.150909091, 'prompt_time': 0.060137033, 'queue_time': 0.255875108, 'total_time': 0.211046124}, 'model_name': 'Gemma2-9b-It', 'system_fingerprint': 'fp_10c08bf97d', 'finish_reason': 'tool_calls', 'logprobs': None} id='run-94b91be5-8593-4680-b146-5b9f5b6afc95-0' tool_calls=[{'name': 'search', 'args': {'query': 'weather in San Francisco'}, 'id': 'call_phvc', 'type': 'tool_call'}] usage_metadata={'input_tokens': 957, 'output_tokens': 83, 'total_tokens': 1040}\n",
      "Output from agent \n",
      "________\n",
      "{'messages': [AIMessage(content='', additional_kwargs={'tool_calls': [{'id': 'call_phvc', 'function': {'arguments': '{\"query\":\"weather in San Francisco\"}', 'name': 'search'}, 'type': 'function'}]}, response_metadata={'token_usage': {'completion_tokens': 83, 'prompt_tokens': 957, 'total_tokens': 1040, 'completion_time': 0.150909091, 'prompt_time': 0.060137033, 'queue_time': 0.255875108, 'total_time': 0.211046124}, 'model_name': 'Gemma2-9b-It', 'system_fingerprint': 'fp_10c08bf97d', 'finish_reason': 'tool_calls', 'logprobs': None}, id='run-94b91be5-8593-4680-b146-5b9f5b6afc95-0', tool_calls=[{'name': 'search', 'args': {'query': 'weather in San Francisco'}, 'id': 'call_phvc', 'type': 'tool_call'}], usage_metadata={'input_tokens': 957, 'output_tokens': 83, 'total_tokens': 1040})]}\n",
      "\n",
      "\n",
      "Output from tools \n",
      "________\n",
      "{'messages': [ToolMessage(content=\"it's 60 degrees and foggy in San Francisco\", name='search', id='b8a608ba-6ed7-4396-a793-5e16d62f9b2b', tool_call_id='call_phvc')]}\n",
      "\n",
      "\n",
      "here is a state from should continue: {'messages': [HumanMessage(content='What is the weather in San Francisco?', additional_kwargs={}, response_metadata={}, id='a1086d2b-3222-4a87-bd11-5358fba17358'), AIMessage(content='', additional_kwargs={'tool_calls': [{'id': 'call_phvc', 'function': {'arguments': '{\"query\":\"weather in San Francisco\"}', 'name': 'search'}, 'type': 'function'}]}, response_metadata={'token_usage': {'completion_tokens': 83, 'prompt_tokens': 957, 'total_tokens': 1040, 'completion_time': 0.150909091, 'prompt_time': 0.060137033, 'queue_time': 0.255875108, 'total_time': 0.211046124}, 'model_name': 'Gemma2-9b-It', 'system_fingerprint': 'fp_10c08bf97d', 'finish_reason': 'tool_calls', 'logprobs': None}, id='run-94b91be5-8593-4680-b146-5b9f5b6afc95-0', tool_calls=[{'name': 'search', 'args': {'query': 'weather in San Francisco'}, 'id': 'call_phvc', 'type': 'tool_call'}], usage_metadata={'input_tokens': 957, 'output_tokens': 83, 'total_tokens': 1040}), ToolMessage(content=\"it's 60 degrees and foggy in San Francisco\", name='search', id='b8a608ba-6ed7-4396-a793-5e16d62f9b2b', tool_call_id='call_phvc'), AIMessage(content=\"It's 60 degrees and foggy in San Francisco. \\n\", additional_kwargs={}, response_metadata={'token_usage': {'completion_tokens': 17, 'prompt_tokens': 1038, 'total_tokens': 1055, 'completion_time': 0.030909091, 'prompt_time': 0.036163968, 'queue_time': 0.23538627, 'total_time': 0.067073059}, 'model_name': 'Gemma2-9b-It', 'system_fingerprint': 'fp_10c08bf97d', 'finish_reason': 'stop', 'logprobs': None}, id='run-348f2223-a36f-45d0-8d56-81ca09f24500-0', usage_metadata={'input_tokens': 1038, 'output_tokens': 17, 'total_tokens': 1055})]}\n",
      "here is a last message from should continue: content=\"It's 60 degrees and foggy in San Francisco. \\n\" additional_kwargs={} response_metadata={'token_usage': {'completion_tokens': 17, 'prompt_tokens': 1038, 'total_tokens': 1055, 'completion_time': 0.030909091, 'prompt_time': 0.036163968, 'queue_time': 0.23538627, 'total_time': 0.067073059}, 'model_name': 'Gemma2-9b-It', 'system_fingerprint': 'fp_10c08bf97d', 'finish_reason': 'stop', 'logprobs': None} id='run-348f2223-a36f-45d0-8d56-81ca09f24500-0' usage_metadata={'input_tokens': 1038, 'output_tokens': 17, 'total_tokens': 1055}\n",
      "Output from agent \n",
      "________\n",
      "{'messages': [AIMessage(content=\"It's 60 degrees and foggy in San Francisco. \\n\", additional_kwargs={}, response_metadata={'token_usage': {'completion_tokens': 17, 'prompt_tokens': 1038, 'total_tokens': 1055, 'completion_time': 0.030909091, 'prompt_time': 0.036163968, 'queue_time': 0.23538627, 'total_time': 0.067073059}, 'model_name': 'Gemma2-9b-It', 'system_fingerprint': 'fp_10c08bf97d', 'finish_reason': 'stop', 'logprobs': None}, id='run-348f2223-a36f-45d0-8d56-81ca09f24500-0', usage_metadata={'input_tokens': 1038, 'output_tokens': 17, 'total_tokens': 1055})]}\n",
      "\n",
      "\n"
     ]
    }
   ],
   "source": [
    "for output in app.stream({\"messages\":[\"What is the weather in San Francisco?\"]}):\n",
    "    for key,value in output.items():\n",
    "        print(f\"Output from {key} \")\n",
    "        print(\"________\")\n",
    "        print(value)\n",
    "        print(\"\\n\")"
   ]
  },
  {
   "cell_type": "code",
   "execution_count": 60,
   "metadata": {},
   "outputs": [],
   "source": [
    "from langgraph.checkpoint.memory import MemorySaver\n",
    "\n",
    "memory =MemorySaver()"
   ]
  },
  {
   "cell_type": "code",
   "execution_count": 76,
   "metadata": {},
   "outputs": [
    {
     "data": {
      "text/plain": [
       "<langgraph.graph.state.StateGraph at 0x71fcc8c6ff70>"
      ]
     },
     "execution_count": 76,
     "metadata": {},
     "output_type": "execute_result"
    }
   ],
   "source": [
    "workflow3 = StateGraph(MessagesState)\n",
    "workflow3.add_node(\"agent\",call_model)\n",
    "workflow3.add_node(\"tools\",tool_node)\n",
    "workflow3.add_edge(START,\"agent\")\n",
    "\n",
    "workflow3.add_conditional_edges(\"agent\",\n",
    "                               router_function,\n",
    "                               {\n",
    "                                    \"tools\": \"tools\",\n",
    "                                    END: END\n",
    "                               })\n",
    "workflow3.add_edge(\"tools\", \"agent\")\n",
    "\n"
   ]
  },
  {
   "cell_type": "code",
   "execution_count": 77,
   "metadata": {},
   "outputs": [],
   "source": [
    "app3= workflow3.compile(checkpointer=memory)"
   ]
  },
  {
   "cell_type": "code",
   "execution_count": 78,
   "metadata": {},
   "outputs": [
    {
     "data": {
      "image/png": "[encoded data removed]",
      "text/plain": [
       "<langgraph.graph.state.CompiledStateGraph object at 0x71fcc83cf8e0>"
      ]
     },
     "execution_count": 78,
     "metadata": {},
     "output_type": "execute_result"
    }
   ],
   "source": [
    "app3"
   ]
  },
  {
   "cell_type": "code",
   "execution_count": 79,
   "metadata": {},
   "outputs": [],
   "source": [
    "config={\"configuration\":{\"thread_id\":\"1\"}}"
   ]
  },
  {
   "cell_type": "code",
   "execution_count": 87,
   "metadata": {},
   "outputs": [
    {
     "name": "stdout",
     "output_type": "stream",
     "text": [
      "here is a state from should continue: {'messages': [HumanMessage(content=\"How i's feels like  in the Bhavnagar\", additional_kwargs={}, response_metadata={}, id='26c7a089-1c04-4c08-a277-decfa8d96252'), AIMessage(content='', additional_kwargs={'tool_calls': [{'id': 'call_8wfe', 'function': {'arguments': '{\"query\":\"current weather in Bhavnagar\"}', 'name': 'search'}, 'type': 'function'}]}, response_metadata={'token_usage': {'completion_tokens': 85, 'prompt_tokens': 961, 'total_tokens': 1046, 'completion_time': 0.154545455, 'prompt_time': 0.034125223, 'queue_time': 0.232402776, 'total_time': 0.188670678}, 'model_name': 'Gemma2-9b-It', 'system_fingerprint': 'fp_10c08bf97d', 'finish_reason': 'tool_calls', 'logprobs': None}, id='run-50ce1741-89a7-432f-b26b-da6456c7de81-0', tool_calls=[{'name': 'search', 'args': {'query': 'current weather in Bhavnagar'}, 'id': 'call_8wfe', 'type': 'tool_call'}], usage_metadata={'input_tokens': 961, 'output_tokens': 85, 'total_tokens': 1046}), ToolMessage(content=\"It's 90 degrees and sunny in San Francisco\", name='search', id='534edd5c-3dc8-4861-924b-b8275744f928', tool_call_id='call_8wfe'), AIMessage(content='', additional_kwargs={'tool_calls': [{'id': 'call_2g8x', 'function': {'arguments': '{\"query\":\"current weather in Bhavnagar\"}', 'name': 'search'}, 'type': 'function'}]}, response_metadata={'token_usage': {'completion_tokens': 48, 'prompt_tokens': 1046, 'total_tokens': 1094, 'completion_time': 0.087272727, 'prompt_time': 0.045230536, 'queue_time': 0.23326024300000003, 'total_time': 0.132503263}, 'model_name': 'Gemma2-9b-It', 'system_fingerprint': 'fp_10c08bf97d', 'finish_reason': 'tool_calls', 'logprobs': None}, id='run-436aa377-6e7a-438f-a12a-f5cf29657398-0', tool_calls=[{'name': 'search', 'args': {'query': 'current weather in Bhavnagar'}, 'id': 'call_2g8x', 'type': 'tool_call'}], usage_metadata={'input_tokens': 1046, 'output_tokens': 48, 'total_tokens': 1094}), ToolMessage(content=\"It's 90 degrees and sunny in San Francisco\", name='search', id='86f4d77a-1779-4fda-8a85-9c125d2aa5c8', tool_call_id='call_2g8x'), AIMessage(content='It looks like the tool is providing the weather for San Francisco.  Can you try calling the tool again with \"Bhavnagar\" in the query? \\n\\n\\n', additional_kwargs={}, response_metadata={'token_usage': {'completion_tokens': 35, 'prompt_tokens': 1133, 'total_tokens': 1168, 'completion_time': 0.063636364, 'prompt_time': 0.03963517, 'queue_time': 0.23132174900000002, 'total_time': 0.103271534}, 'model_name': 'Gemma2-9b-It', 'system_fingerprint': 'fp_10c08bf97d', 'finish_reason': 'stop', 'logprobs': None}, id='run-19c8e0c0-bb28-45cf-b508-7e3f312db8b3-0', usage_metadata={'input_tokens': 1133, 'output_tokens': 35, 'total_tokens': 1168}), HumanMessage(content='Hi there my name is dev', additional_kwargs={}, response_metadata={}, id='99e653c4-d8dd-40e7-a116-f50189692cb9'), AIMessage(content='Hello Dev! 👋  Nice to meet you.  What can I do for you today? \\n', additional_kwargs={}, response_metadata={'token_usage': {'completion_tokens': 23, 'prompt_tokens': 1182, 'total_tokens': 1205, 'completion_time': 0.041818182, 'prompt_time': 0.041301816, 'queue_time': 0.23172442, 'total_time': 0.083119998}, 'model_name': 'Gemma2-9b-It', 'system_fingerprint': 'fp_10c08bf97d', 'finish_reason': 'stop', 'logprobs': None}, id='run-c1bb9268-47a6-456e-abd3-f33eff2e0228-0', usage_metadata={'input_tokens': 1182, 'output_tokens': 23, 'total_tokens': 1205}), HumanMessage(content='What is my name ', additional_kwargs={}, response_metadata={}, id='3f25a2c4-0b90-4a5b-a7cc-144100dd4cb9'), AIMessage(content='Your name is Dev.  \\n', additional_kwargs={}, response_metadata={'token_usage': {'completion_tokens': 9, 'prompt_tokens': 1218, 'total_tokens': 1227, 'completion_time': 0.016363636, 'prompt_time': 0.042428413, 'queue_time': 0.232237342, 'total_time': 0.058792049}, 'model_name': 'Gemma2-9b-It', 'system_fingerprint': 'fp_10c08bf97d', 'finish_reason': 'stop', 'logprobs': None}, id='run-5aa0023a-6c0d-4274-9cc0-a36c4186d7a1-0', usage_metadata={'input_tokens': 1218, 'output_tokens': 9, 'total_tokens': 1227}), HumanMessage(content='The weather in my city is 35 degree', additional_kwargs={}, response_metadata={}, id='70f1e57f-0f6b-48a5-9cb2-1c874d85733a'), AIMessage(content=\"That sounds like a pleasant temperature!  Where is your city, if you don't mind me asking? \\n\", additional_kwargs={}, response_metadata={'token_usage': {'completion_tokens': 26, 'prompt_tokens': 1245, 'total_tokens': 1271, 'completion_time': 0.047272727, 'prompt_time': 0.071110639, 'queue_time': 0.233790024, 'total_time': 0.118383366}, 'model_name': 'Gemma2-9b-It', 'system_fingerprint': 'fp_10c08bf97d', 'finish_reason': 'stop', 'logprobs': None}, id='run-5c8d9330-1284-401d-a388-5cbc5d556bd7-0', usage_metadata={'input_tokens': 1245, 'output_tokens': 26, 'total_tokens': 1271}), HumanMessage(content='My city name is Bhavnagar', additional_kwargs={}, response_metadata={}, id='809ff16f-a8e8-453e-82af-60ae9f0f8df5'), AIMessage(content='Thanks for letting me know!  \\n\\nIs there anything else I can help you with today?', additional_kwargs={}, response_metadata={'token_usage': {'completion_tokens': 21, 'prompt_tokens': 1286, 'total_tokens': 1307, 'completion_time': 0.038181818, 'prompt_time': 0.044697209, 'queue_time': 0.231326886, 'total_time': 0.082879027}, 'model_name': 'Gemma2-9b-It', 'system_fingerprint': 'fp_10c08bf97d', 'finish_reason': 'stop', 'logprobs': None}, id='run-06a22e47-18f4-465e-8c3b-092aae66e1f7-0', usage_metadata={'input_tokens': 1286, 'output_tokens': 21, 'total_tokens': 1307}), HumanMessage(content='What is the weather in Bhavnagar', additional_kwargs={}, response_metadata={}, id='3e450f0d-1041-424a-8999-2944121c80fd'), AIMessage(content='I do not have access to real-time information, including weather updates.  \\n\\nTo get the current weather in Bhavnagar, you could check a weather app or website.\\n', additional_kwargs={}, response_metadata={'token_usage': {'completion_tokens': 39, 'prompt_tokens': 1323, 'total_tokens': 1362, 'completion_time': 0.070909091, 'prompt_time': 0.058117417, 'queue_time': 0.23133428699999997, 'total_time': 0.129026508}, 'model_name': 'Gemma2-9b-It', 'system_fingerprint': 'fp_10c08bf97d', 'finish_reason': 'stop', 'logprobs': None}, id='run-a3ef4b89-5add-4f1d-8729-e68626c9acb8-0', usage_metadata={'input_tokens': 1323, 'output_tokens': 39, 'total_tokens': 1362}), HumanMessage(content=\"How it's feels like in Bhavnagar\", additional_kwargs={}, response_metadata={}, id='4b65f097-34c1-47a3-a130-f1337f3d5132'), AIMessage(content='', additional_kwargs={'tool_calls': [{'id': 'call_zqzk', 'function': {'arguments': '{\"query\":\"current weather in Bhavnagar\"}', 'name': 'search'}, 'type': 'function'}]}, response_metadata={'token_usage': {'completion_tokens': 47, 'prompt_tokens': 1380, 'total_tokens': 1427, 'completion_time': 0.085454545, 'prompt_time': 0.060261012, 'queue_time': 0.23192164599999998, 'total_time': 0.145715557}, 'model_name': 'Gemma2-9b-It', 'system_fingerprint': 'fp_10c08bf97d', 'finish_reason': 'tool_calls', 'logprobs': None}, id='run-683b24e1-0fdd-43e5-be32-9b8c837a25d8-0', tool_calls=[{'name': 'search', 'args': {'query': 'current weather in Bhavnagar'}, 'id': 'call_zqzk', 'type': 'tool_call'}], usage_metadata={'input_tokens': 1380, 'output_tokens': 47, 'total_tokens': 1427}), ToolMessage(content=\"It's 90 degrees and sunny in San Francisco\", name='search', id='611b92f7-f0f9-4c6f-8561-24c57459bbde', tool_call_id='call_zqzk'), AIMessage(content='It looks like the tool is providing the weather for San Francisco.  Can you try calling the tool again with \"Bhavnagar\" in the query? \\n\\n\\n', additional_kwargs={}, response_metadata={'token_usage': {'completion_tokens': 35, 'prompt_tokens': 1463, 'total_tokens': 1498, 'completion_time': 0.063636364, 'prompt_time': 0.08353192, 'queue_time': 0.29480014600000004, 'total_time': 0.147168284}, 'model_name': 'Gemma2-9b-It', 'system_fingerprint': 'fp_10c08bf97d', 'finish_reason': 'stop', 'logprobs': None}, id='run-fd95b8f9-53b1-4df6-bcb0-9796ca993dae-0', usage_metadata={'input_tokens': 1463, 'output_tokens': 35, 'total_tokens': 1498}), HumanMessage(content=\"How it's feels like in Bhavnagar\", additional_kwargs={}, response_metadata={}, id='2b74f396-785c-424c-a3aa-c3a2cf21089d'), AIMessage(content='I do not have access to real-time information, including weather updates.  \\n\\nTo get a sense of how it feels like in Bhavnagar, you could search for descriptions or experiences shared by people who live there online. \\n\\n\\n', additional_kwargs={}, response_metadata={'token_usage': {'completion_tokens': 50, 'prompt_tokens': 1516, 'total_tokens': 1566, 'completion_time': 0.090909091, 'prompt_time': 0.065050747, 'queue_time': 0.235899276, 'total_time': 0.155959838}, 'model_name': 'Gemma2-9b-It', 'system_fingerprint': 'fp_10c08bf97d', 'finish_reason': 'stop', 'logprobs': None}, id='run-268a681c-18aa-464a-a94c-16fa4f5ffd62-0', usage_metadata={'input_tokens': 1516, 'output_tokens': 50, 'total_tokens': 1566}), HumanMessage(content='My name is dev', additional_kwargs={}, response_metadata={}, id='ff7b4989-8ea3-409d-ad1a-d713cb42ed88'), AIMessage(content=\"Hi Dev, it's nice to meet you! 😊\\n\\nIs there anything I can help you with today? \\n\", additional_kwargs={}, response_metadata={'token_usage': {'completion_tokens': 27, 'prompt_tokens': 1578, 'total_tokens': 1605, 'completion_time': 0.049090909, 'prompt_time': 0.067982983, 'queue_time': 0.236780516, 'total_time': 0.117073892}, 'model_name': 'Gemma2-9b-It', 'system_fingerprint': 'fp_10c08bf97d', 'finish_reason': 'stop', 'logprobs': None}, id='run-67408a7f-37c5-49d9-b01a-6855405febd8-0', usage_metadata={'input_tokens': 1578, 'output_tokens': 27, 'total_tokens': 1605}), HumanMessage(content='What is my city name ?', additional_kwargs={}, response_metadata={}, id='8d4ece5c-9c1d-4ab0-909c-16ddc44d67a5'), AIMessage(content='You said your city is Bhavnagar.  Is that right?  \\n', additional_kwargs={}, response_metadata={'token_usage': {'completion_tokens': 18, 'prompt_tokens': 1619, 'total_tokens': 1637, 'completion_time': 0.032727273, 'prompt_time': 0.069565215, 'queue_time': 0.235076864, 'total_time': 0.102292488}, 'model_name': 'Gemma2-9b-It', 'system_fingerprint': 'fp_10c08bf97d', 'finish_reason': 'stop', 'logprobs': None}, id='run-8fd82f23-8c7d-4cc5-aee8-c0bb6229a97c-0', usage_metadata={'input_tokens': 1619, 'output_tokens': 18, 'total_tokens': 1637}), HumanMessage(content='Then What is the weather of my city ', additional_kwargs={}, response_metadata={}, id='c3c95b22-fc35-423e-9424-3edc653d30f3'), AIMessage(content='', additional_kwargs={'tool_calls': [{'id': 'call_74ek', 'function': {'arguments': '{\"query\":\"current weather in Bhavnagar\"}', 'name': 'search'}, 'type': 'function'}]}, response_metadata={'token_usage': {'completion_tokens': 48, 'prompt_tokens': 1654, 'total_tokens': 1702, 'completion_time': 0.087272727, 'prompt_time': 0.05761248, 'queue_time': 0.23422428400000003, 'total_time': 0.144885207}, 'model_name': 'Gemma2-9b-It', 'system_fingerprint': 'fp_10c08bf97d', 'finish_reason': 'tool_calls', 'logprobs': None}, id='run-23ced251-5655-4c89-822b-c10509aaf109-0', tool_calls=[{'name': 'search', 'args': {'query': 'current weather in Bhavnagar'}, 'id': 'call_74ek', 'type': 'tool_call'}], usage_metadata={'input_tokens': 1654, 'output_tokens': 48, 'total_tokens': 1702})]}\n",
      "here is a last message from should continue: content='' additional_kwargs={'tool_calls': [{'id': 'call_74ek', 'function': {'arguments': '{\"query\":\"current weather in Bhavnagar\"}', 'name': 'search'}, 'type': 'function'}]} response_metadata={'token_usage': {'completion_tokens': 48, 'prompt_tokens': 1654, 'total_tokens': 1702, 'completion_time': 0.087272727, 'prompt_time': 0.05761248, 'queue_time': 0.23422428400000003, 'total_time': 0.144885207}, 'model_name': 'Gemma2-9b-It', 'system_fingerprint': 'fp_10c08bf97d', 'finish_reason': 'tool_calls', 'logprobs': None} id='run-23ced251-5655-4c89-822b-c10509aaf109-0' tool_calls=[{'name': 'search', 'args': {'query': 'current weather in Bhavnagar'}, 'id': 'call_74ek', 'type': 'tool_call'}] usage_metadata={'input_tokens': 1654, 'output_tokens': 48, 'total_tokens': 1702}\n",
      "here is a state from should continue: {'messages': [HumanMessage(content=\"How i's feels like  in the Bhavnagar\", additional_kwargs={}, response_metadata={}, id='26c7a089-1c04-4c08-a277-decfa8d96252'), AIMessage(content='', additional_kwargs={'tool_calls': [{'id': 'call_8wfe', 'function': {'arguments': '{\"query\":\"current weather in Bhavnagar\"}', 'name': 'search'}, 'type': 'function'}]}, response_metadata={'token_usage': {'completion_tokens': 85, 'prompt_tokens': 961, 'total_tokens': 1046, 'completion_time': 0.154545455, 'prompt_time': 0.034125223, 'queue_time': 0.232402776, 'total_time': 0.188670678}, 'model_name': 'Gemma2-9b-It', 'system_fingerprint': 'fp_10c08bf97d', 'finish_reason': 'tool_calls', 'logprobs': None}, id='run-50ce1741-89a7-432f-b26b-da6456c7de81-0', tool_calls=[{'name': 'search', 'args': {'query': 'current weather in Bhavnagar'}, 'id': 'call_8wfe', 'type': 'tool_call'}], usage_metadata={'input_tokens': 961, 'output_tokens': 85, 'total_tokens': 1046}), ToolMessage(content=\"It's 90 degrees and sunny in San Francisco\", name='search', id='534edd5c-3dc8-4861-924b-b8275744f928', tool_call_id='call_8wfe'), AIMessage(content='', additional_kwargs={'tool_calls': [{'id': 'call_2g8x', 'function': {'arguments': '{\"query\":\"current weather in Bhavnagar\"}', 'name': 'search'}, 'type': 'function'}]}, response_metadata={'token_usage': {'completion_tokens': 48, 'prompt_tokens': 1046, 'total_tokens': 1094, 'completion_time': 0.087272727, 'prompt_time': 0.045230536, 'queue_time': 0.23326024300000003, 'total_time': 0.132503263}, 'model_name': 'Gemma2-9b-It', 'system_fingerprint': 'fp_10c08bf97d', 'finish_reason': 'tool_calls', 'logprobs': None}, id='run-436aa377-6e7a-438f-a12a-f5cf29657398-0', tool_calls=[{'name': 'search', 'args': {'query': 'current weather in Bhavnagar'}, 'id': 'call_2g8x', 'type': 'tool_call'}], usage_metadata={'input_tokens': 1046, 'output_tokens': 48, 'total_tokens': 1094}), ToolMessage(content=\"It's 90 degrees and sunny in San Francisco\", name='search', id='86f4d77a-1779-4fda-8a85-9c125d2aa5c8', tool_call_id='call_2g8x'), AIMessage(content='It looks like the tool is providing the weather for San Francisco.  Can you try calling the tool again with \"Bhavnagar\" in the query? \\n\\n\\n', additional_kwargs={}, response_metadata={'token_usage': {'completion_tokens': 35, 'prompt_tokens': 1133, 'total_tokens': 1168, 'completion_time': 0.063636364, 'prompt_time': 0.03963517, 'queue_time': 0.23132174900000002, 'total_time': 0.103271534}, 'model_name': 'Gemma2-9b-It', 'system_fingerprint': 'fp_10c08bf97d', 'finish_reason': 'stop', 'logprobs': None}, id='run-19c8e0c0-bb28-45cf-b508-7e3f312db8b3-0', usage_metadata={'input_tokens': 1133, 'output_tokens': 35, 'total_tokens': 1168}), HumanMessage(content='Hi there my name is dev', additional_kwargs={}, response_metadata={}, id='99e653c4-d8dd-40e7-a116-f50189692cb9'), AIMessage(content='Hello Dev! 👋  Nice to meet you.  What can I do for you today? \\n', additional_kwargs={}, response_metadata={'token_usage': {'completion_tokens': 23, 'prompt_tokens': 1182, 'total_tokens': 1205, 'completion_time': 0.041818182, 'prompt_time': 0.041301816, 'queue_time': 0.23172442, 'total_time': 0.083119998}, 'model_name': 'Gemma2-9b-It', 'system_fingerprint': 'fp_10c08bf97d', 'finish_reason': 'stop', 'logprobs': None}, id='run-c1bb9268-47a6-456e-abd3-f33eff2e0228-0', usage_metadata={'input_tokens': 1182, 'output_tokens': 23, 'total_tokens': 1205}), HumanMessage(content='What is my name ', additional_kwargs={}, response_metadata={}, id='3f25a2c4-0b90-4a5b-a7cc-144100dd4cb9'), AIMessage(content='Your name is Dev.  \\n', additional_kwargs={}, response_metadata={'token_usage': {'completion_tokens': 9, 'prompt_tokens': 1218, 'total_tokens': 1227, 'completion_time': 0.016363636, 'prompt_time': 0.042428413, 'queue_time': 0.232237342, 'total_time': 0.058792049}, 'model_name': 'Gemma2-9b-It', 'system_fingerprint': 'fp_10c08bf97d', 'finish_reason': 'stop', 'logprobs': None}, id='run-5aa0023a-6c0d-4274-9cc0-a36c4186d7a1-0', usage_metadata={'input_tokens': 1218, 'output_tokens': 9, 'total_tokens': 1227}), HumanMessage(content='The weather in my city is 35 degree', additional_kwargs={}, response_metadata={}, id='70f1e57f-0f6b-48a5-9cb2-1c874d85733a'), AIMessage(content=\"That sounds like a pleasant temperature!  Where is your city, if you don't mind me asking? \\n\", additional_kwargs={}, response_metadata={'token_usage': {'completion_tokens': 26, 'prompt_tokens': 1245, 'total_tokens': 1271, 'completion_time': 0.047272727, 'prompt_time': 0.071110639, 'queue_time': 0.233790024, 'total_time': 0.118383366}, 'model_name': 'Gemma2-9b-It', 'system_fingerprint': 'fp_10c08bf97d', 'finish_reason': 'stop', 'logprobs': None}, id='run-5c8d9330-1284-401d-a388-5cbc5d556bd7-0', usage_metadata={'input_tokens': 1245, 'output_tokens': 26, 'total_tokens': 1271}), HumanMessage(content='My city name is Bhavnagar', additional_kwargs={}, response_metadata={}, id='809ff16f-a8e8-453e-82af-60ae9f0f8df5'), AIMessage(content='Thanks for letting me know!  \\n\\nIs there anything else I can help you with today?', additional_kwargs={}, response_metadata={'token_usage': {'completion_tokens': 21, 'prompt_tokens': 1286, 'total_tokens': 1307, 'completion_time': 0.038181818, 'prompt_time': 0.044697209, 'queue_time': 0.231326886, 'total_time': 0.082879027}, 'model_name': 'Gemma2-9b-It', 'system_fingerprint': 'fp_10c08bf97d', 'finish_reason': 'stop', 'logprobs': None}, id='run-06a22e47-18f4-465e-8c3b-092aae66e1f7-0', usage_metadata={'input_tokens': 1286, 'output_tokens': 21, 'total_tokens': 1307}), HumanMessage(content='What is the weather in Bhavnagar', additional_kwargs={}, response_metadata={}, id='3e450f0d-1041-424a-8999-2944121c80fd'), AIMessage(content='I do not have access to real-time information, including weather updates.  \\n\\nTo get the current weather in Bhavnagar, you could check a weather app or website.\\n', additional_kwargs={}, response_metadata={'token_usage': {'completion_tokens': 39, 'prompt_tokens': 1323, 'total_tokens': 1362, 'completion_time': 0.070909091, 'prompt_time': 0.058117417, 'queue_time': 0.23133428699999997, 'total_time': 0.129026508}, 'model_name': 'Gemma2-9b-It', 'system_fingerprint': 'fp_10c08bf97d', 'finish_reason': 'stop', 'logprobs': None}, id='run-a3ef4b89-5add-4f1d-8729-e68626c9acb8-0', usage_metadata={'input_tokens': 1323, 'output_tokens': 39, 'total_tokens': 1362}), HumanMessage(content=\"How it's feels like in Bhavnagar\", additional_kwargs={}, response_metadata={}, id='4b65f097-34c1-47a3-a130-f1337f3d5132'), AIMessage(content='', additional_kwargs={'tool_calls': [{'id': 'call_zqzk', 'function': {'arguments': '{\"query\":\"current weather in Bhavnagar\"}', 'name': 'search'}, 'type': 'function'}]}, response_metadata={'token_usage': {'completion_tokens': 47, 'prompt_tokens': 1380, 'total_tokens': 1427, 'completion_time': 0.085454545, 'prompt_time': 0.060261012, 'queue_time': 0.23192164599999998, 'total_time': 0.145715557}, 'model_name': 'Gemma2-9b-It', 'system_fingerprint': 'fp_10c08bf97d', 'finish_reason': 'tool_calls', 'logprobs': None}, id='run-683b24e1-0fdd-43e5-be32-9b8c837a25d8-0', tool_calls=[{'name': 'search', 'args': {'query': 'current weather in Bhavnagar'}, 'id': 'call_zqzk', 'type': 'tool_call'}], usage_metadata={'input_tokens': 1380, 'output_tokens': 47, 'total_tokens': 1427}), ToolMessage(content=\"It's 90 degrees and sunny in San Francisco\", name='search', id='611b92f7-f0f9-4c6f-8561-24c57459bbde', tool_call_id='call_zqzk'), AIMessage(content='It looks like the tool is providing the weather for San Francisco.  Can you try calling the tool again with \"Bhavnagar\" in the query? \\n\\n\\n', additional_kwargs={}, response_metadata={'token_usage': {'completion_tokens': 35, 'prompt_tokens': 1463, 'total_tokens': 1498, 'completion_time': 0.063636364, 'prompt_time': 0.08353192, 'queue_time': 0.29480014600000004, 'total_time': 0.147168284}, 'model_name': 'Gemma2-9b-It', 'system_fingerprint': 'fp_10c08bf97d', 'finish_reason': 'stop', 'logprobs': None}, id='run-fd95b8f9-53b1-4df6-bcb0-9796ca993dae-0', usage_metadata={'input_tokens': 1463, 'output_tokens': 35, 'total_tokens': 1498}), HumanMessage(content=\"How it's feels like in Bhavnagar\", additional_kwargs={}, response_metadata={}, id='2b74f396-785c-424c-a3aa-c3a2cf21089d'), AIMessage(content='I do not have access to real-time information, including weather updates.  \\n\\nTo get a sense of how it feels like in Bhavnagar, you could search for descriptions or experiences shared by people who live there online. \\n\\n\\n', additional_kwargs={}, response_metadata={'token_usage': {'completion_tokens': 50, 'prompt_tokens': 1516, 'total_tokens': 1566, 'completion_time': 0.090909091, 'prompt_time': 0.065050747, 'queue_time': 0.235899276, 'total_time': 0.155959838}, 'model_name': 'Gemma2-9b-It', 'system_fingerprint': 'fp_10c08bf97d', 'finish_reason': 'stop', 'logprobs': None}, id='run-268a681c-18aa-464a-a94c-16fa4f5ffd62-0', usage_metadata={'input_tokens': 1516, 'output_tokens': 50, 'total_tokens': 1566}), HumanMessage(content='My name is dev', additional_kwargs={}, response_metadata={}, id='ff7b4989-8ea3-409d-ad1a-d713cb42ed88'), AIMessage(content=\"Hi Dev, it's nice to meet you! 😊\\n\\nIs there anything I can help you with today? \\n\", additional_kwargs={}, response_metadata={'token_usage': {'completion_tokens': 27, 'prompt_tokens': 1578, 'total_tokens': 1605, 'completion_time': 0.049090909, 'prompt_time': 0.067982983, 'queue_time': 0.236780516, 'total_time': 0.117073892}, 'model_name': 'Gemma2-9b-It', 'system_fingerprint': 'fp_10c08bf97d', 'finish_reason': 'stop', 'logprobs': None}, id='run-67408a7f-37c5-49d9-b01a-6855405febd8-0', usage_metadata={'input_tokens': 1578, 'output_tokens': 27, 'total_tokens': 1605}), HumanMessage(content='What is my city name ?', additional_kwargs={}, response_metadata={}, id='8d4ece5c-9c1d-4ab0-909c-16ddc44d67a5'), AIMessage(content='You said your city is Bhavnagar.  Is that right?  \\n', additional_kwargs={}, response_metadata={'token_usage': {'completion_tokens': 18, 'prompt_tokens': 1619, 'total_tokens': 1637, 'completion_time': 0.032727273, 'prompt_time': 0.069565215, 'queue_time': 0.235076864, 'total_time': 0.102292488}, 'model_name': 'Gemma2-9b-It', 'system_fingerprint': 'fp_10c08bf97d', 'finish_reason': 'stop', 'logprobs': None}, id='run-8fd82f23-8c7d-4cc5-aee8-c0bb6229a97c-0', usage_metadata={'input_tokens': 1619, 'output_tokens': 18, 'total_tokens': 1637}), HumanMessage(content='Then What is the weather of my city ', additional_kwargs={}, response_metadata={}, id='c3c95b22-fc35-423e-9424-3edc653d30f3'), AIMessage(content='', additional_kwargs={'tool_calls': [{'id': 'call_74ek', 'function': {'arguments': '{\"query\":\"current weather in Bhavnagar\"}', 'name': 'search'}, 'type': 'function'}]}, response_metadata={'token_usage': {'completion_tokens': 48, 'prompt_tokens': 1654, 'total_tokens': 1702, 'completion_time': 0.087272727, 'prompt_time': 0.05761248, 'queue_time': 0.23422428400000003, 'total_time': 0.144885207}, 'model_name': 'Gemma2-9b-It', 'system_fingerprint': 'fp_10c08bf97d', 'finish_reason': 'tool_calls', 'logprobs': None}, id='run-23ced251-5655-4c89-822b-c10509aaf109-0', tool_calls=[{'name': 'search', 'args': {'query': 'current weather in Bhavnagar'}, 'id': 'call_74ek', 'type': 'tool_call'}], usage_metadata={'input_tokens': 1654, 'output_tokens': 48, 'total_tokens': 1702}), ToolMessage(content=\"It's 90 degrees and sunny in San Francisco\", name='search', id='f6b2ce09-727c-4afb-8e1f-7d4cf2cc0d6b', tool_call_id='call_74ek'), AIMessage(content='It looks like the tool is giving the weather for San Francisco again.  \\n\\nCould you double check that you\\'ve put \"Bhavnagar\" in the query for the tool? \\n', additional_kwargs={}, response_metadata={'token_usage': {'completion_tokens': 41, 'prompt_tokens': 1739, 'total_tokens': 1780, 'completion_time': 0.074545455, 'prompt_time': 0.098728743, 'queue_time': 0.231740567, 'total_time': 0.173274198}, 'model_name': 'Gemma2-9b-It', 'system_fingerprint': 'fp_10c08bf97d', 'finish_reason': 'stop', 'logprobs': None}, id='run-617350e6-bcf0-43b1-9595-fe73df9ab1a8-0', usage_metadata={'input_tokens': 1739, 'output_tokens': 41, 'total_tokens': 1780})]}\n",
      "here is a last message from should continue: content='It looks like the tool is giving the weather for San Francisco again.  \\n\\nCould you double check that you\\'ve put \"Bhavnagar\" in the query for the tool? \\n' additional_kwargs={} response_metadata={'token_usage': {'completion_tokens': 41, 'prompt_tokens': 1739, 'total_tokens': 1780, 'completion_time': 0.074545455, 'prompt_time': 0.098728743, 'queue_time': 0.231740567, 'total_time': 0.173274198}, 'model_name': 'Gemma2-9b-It', 'system_fingerprint': 'fp_10c08bf97d', 'finish_reason': 'stop', 'logprobs': None} id='run-617350e6-bcf0-43b1-9595-fe73df9ab1a8-0' usage_metadata={'input_tokens': 1739, 'output_tokens': 41, 'total_tokens': 1780}\n"
     ]
    }
   ],
   "source": [
    "\n",
    "# Ensure the configuration is correctly structured\n",
    "config = {\"thread_id\": \"1\"}\n",
    "events = app3.invoke({\"messages\": [\"Then What is the weather of my city \"]}, config, stream_mode=\"values\")"
   ]
  },
  {
   "cell_type": "code",
   "execution_count": 88,
   "metadata": {},
   "outputs": [
    {
     "name": "stdout",
     "output_type": "stream",
     "text": [
      "================================\u001b[1m Human Message \u001b[0m=================================\n",
      "\n",
      "How i's feels like  in the Bhavnagar\n",
      "==================================\u001b[1m Ai Message \u001b[0m==================================\n",
      "Tool Calls:\n",
      "  search (call_8wfe)\n",
      " Call ID: call_8wfe\n",
      "  Args:\n",
      "    query: current weather in Bhavnagar\n",
      "=================================\u001b[1m Tool Message \u001b[0m=================================\n",
      "Name: search\n",
      "\n",
      "It's 90 degrees and sunny in San Francisco\n",
      "==================================\u001b[1m Ai Message \u001b[0m==================================\n",
      "Tool Calls:\n",
      "  search (call_2g8x)\n",
      " Call ID: call_2g8x\n",
      "  Args:\n",
      "    query: current weather in Bhavnagar\n",
      "=================================\u001b[1m Tool Message \u001b[0m=================================\n",
      "Name: search\n",
      "\n",
      "It's 90 degrees and sunny in San Francisco\n",
      "==================================\u001b[1m Ai Message \u001b[0m==================================\n",
      "\n",
      "It looks like the tool is providing the weather for San Francisco.  Can you try calling the tool again with \"Bhavnagar\" in the query?\n",
      "================================\u001b[1m Human Message \u001b[0m=================================\n",
      "\n",
      "Hi there my name is dev\n",
      "==================================\u001b[1m Ai Message \u001b[0m==================================\n",
      "\n",
      "Hello Dev! 👋  Nice to meet you.  What can I do for you today?\n",
      "================================\u001b[1m Human Message \u001b[0m=================================\n",
      "\n",
      "What is my name \n",
      "==================================\u001b[1m Ai Message \u001b[0m==================================\n",
      "\n",
      "Your name is Dev.\n",
      "================================\u001b[1m Human Message \u001b[0m=================================\n",
      "\n",
      "The weather in my city is 35 degree\n",
      "==================================\u001b[1m Ai Message \u001b[0m==================================\n",
      "\n",
      "That sounds like a pleasant temperature!  Where is your city, if you don't mind me asking?\n",
      "================================\u001b[1m Human Message \u001b[0m=================================\n",
      "\n",
      "My city name is Bhavnagar\n",
      "==================================\u001b[1m Ai Message \u001b[0m==================================\n",
      "\n",
      "Thanks for letting me know!  \n",
      "\n",
      "Is there anything else I can help you with today?\n",
      "================================\u001b[1m Human Message \u001b[0m=================================\n",
      "\n",
      "What is the weather in Bhavnagar\n",
      "==================================\u001b[1m Ai Message \u001b[0m==================================\n",
      "\n",
      "I do not have access to real-time information, including weather updates.  \n",
      "\n",
      "To get the current weather in Bhavnagar, you could check a weather app or website.\n",
      "================================\u001b[1m Human Message \u001b[0m=================================\n",
      "\n",
      "How it's feels like in Bhavnagar\n",
      "==================================\u001b[1m Ai Message \u001b[0m==================================\n",
      "Tool Calls:\n",
      "  search (call_zqzk)\n",
      " Call ID: call_zqzk\n",
      "  Args:\n",
      "    query: current weather in Bhavnagar\n",
      "=================================\u001b[1m Tool Message \u001b[0m=================================\n",
      "Name: search\n",
      "\n",
      "It's 90 degrees and sunny in San Francisco\n",
      "==================================\u001b[1m Ai Message \u001b[0m==================================\n",
      "\n",
      "It looks like the tool is providing the weather for San Francisco.  Can you try calling the tool again with \"Bhavnagar\" in the query?\n",
      "================================\u001b[1m Human Message \u001b[0m=================================\n",
      "\n",
      "How it's feels like in Bhavnagar\n",
      "==================================\u001b[1m Ai Message \u001b[0m==================================\n",
      "\n",
      "I do not have access to real-time information, including weather updates.  \n",
      "\n",
      "To get a sense of how it feels like in Bhavnagar, you could search for descriptions or experiences shared by people who live there online.\n",
      "================================\u001b[1m Human Message \u001b[0m=================================\n",
      "\n",
      "My name is dev\n",
      "==================================\u001b[1m Ai Message \u001b[0m==================================\n",
      "\n",
      "Hi Dev, it's nice to meet you! 😊\n",
      "\n",
      "Is there anything I can help you with today?\n",
      "================================\u001b[1m Human Message \u001b[0m=================================\n",
      "\n",
      "What is my city name ?\n",
      "==================================\u001b[1m Ai Message \u001b[0m==================================\n",
      "\n",
      "You said your city is Bhavnagar.  Is that right?\n",
      "================================\u001b[1m Human Message \u001b[0m=================================\n",
      "\n",
      "Then What is the weather of my city \n",
      "==================================\u001b[1m Ai Message \u001b[0m==================================\n",
      "Tool Calls:\n",
      "  search (call_74ek)\n",
      " Call ID: call_74ek\n",
      "  Args:\n",
      "    query: current weather in Bhavnagar\n",
      "=================================\u001b[1m Tool Message \u001b[0m=================================\n",
      "Name: search\n",
      "\n",
      "It's 90 degrees and sunny in San Francisco\n",
      "==================================\u001b[1m Ai Message \u001b[0m==================================\n",
      "\n",
      "It looks like the tool is giving the weather for San Francisco again.  \n",
      "\n",
      "Could you double check that you've put \"Bhavnagar\" in the query for the tool?\n"
     ]
    }
   ],
   "source": [
    "for event in events['messages']:\n",
    "    event.pretty_print()\n",
    "    "
   ]
  },
  {
   "cell_type": "code",
   "execution_count": null,
   "metadata": {},
   "outputs": [],
   "source": []
  }
 ],
 "metadata": {
  "kernelspec": {
   "display_name": "env",
   "language": "python",
   "name": "python3"
  },
  "language_info": {
   "codemirror_mode": {
    "name": "ipython",
    "version": 3
   },
   "file_extension": ".py",
   "mimetype": "text/x-python",
   "name": "python",
   "nbconvert_exporter": "python",
   "pygments_lexer": "ipython3",
   "version": "3.10.12"
  }
 },
 "nbformat": 4,
 "nbformat_minor": 2
}
